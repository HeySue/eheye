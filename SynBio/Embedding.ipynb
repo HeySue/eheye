{
 "cells": [
  {
   "cell_type": "code",
   "execution_count": 1,
   "metadata": {},
   "outputs": [],
   "source": [
    "import numpy as np\n",
    "import pandas\n",
    "import matplotlib.pyplot as plt\n",
    "from sklearn.model_selection import train_test_split\n",
    "from collections import defaultdict"
   ]
  },
  {
   "cell_type": "markdown",
   "metadata": {},
   "source": [
    "This notebook is used to compare different embedding methods. \n",
    "\n",
    "Dataset: https://github.com/Seeliglab/2017---Deep-learning-yeast-UTRs  \n",
    "Except the deep learning method, we only use 1,000 data points to do experiments, in order to simulate the case with limited data. \n",
    "\n",
    "Methods:  \n",
    "A. one-hot encoding  \n",
    "B. ngrams (kmers) embedding  \n",
    "C. kernels   \n",
    "D. unsurpervised embedding  \n",
    "\n",
    "Evaluation:  \n",
    "A. reconstruction error?  \n",
    "B. downstream task (regression)"
   ]
  },
  {
   "cell_type": "code",
   "execution_count": 2,
   "metadata": {},
   "outputs": [],
   "source": [
    "df = pandas.read_csv('~/git/2017---Deep-learning-yeast-UTRs/Data/Random_UTRs.csv.gz', compression='gzip', delimiter=',')"
   ]
  },
  {
   "cell_type": "code",
   "execution_count": 3,
   "metadata": {},
   "outputs": [],
   "source": [
    "mask = df['UTR'].str.len() >= 6\n",
    "df = df.loc[mask]\n",
    "\n",
    "#df['UTR_length'] = df['UTR'].apply(len)\n",
    "df['RBS'] = df['UTR'].str[-5:]"
   ]
  },
  {
   "cell_type": "code",
   "execution_count": 4,
   "metadata": {},
   "outputs": [
    {
     "data": {
      "text/html": [
       "<div>\n",
       "<style>\n",
       "    .dataframe thead tr:only-child th {\n",
       "        text-align: right;\n",
       "    }\n",
       "\n",
       "    .dataframe thead th {\n",
       "        text-align: left;\n",
       "    }\n",
       "\n",
       "    .dataframe tbody tr th {\n",
       "        vertical-align: top;\n",
       "    }\n",
       "</style>\n",
       "<table border=\"1\" class=\"dataframe\">\n",
       "  <thead>\n",
       "    <tr style=\"text-align: right;\">\n",
       "      <th></th>\n",
       "      <th>Unnamed: 0</th>\n",
       "      <th>UTR</th>\n",
       "      <th>growth_rate</th>\n",
       "      <th>t0</th>\n",
       "      <th>t1</th>\n",
       "      <th>RBS</th>\n",
       "    </tr>\n",
       "  </thead>\n",
       "  <tbody>\n",
       "    <tr>\n",
       "      <th>0</th>\n",
       "      <td>0</td>\n",
       "      <td>AAAAAAAAAACATAATAACGATGATCAGTTAAAATCATAGTCTAAG...</td>\n",
       "      <td>-1.237065</td>\n",
       "      <td>14</td>\n",
       "      <td>3</td>\n",
       "      <td>GCCAT</td>\n",
       "    </tr>\n",
       "    <tr>\n",
       "      <th>1</th>\n",
       "      <td>1</td>\n",
       "      <td>AAAAAAAAAAGACTACAACAGATTGTAGTGGCGGACCAGTGTGCCT...</td>\n",
       "      <td>1.288663</td>\n",
       "      <td>14</td>\n",
       "      <td>49</td>\n",
       "      <td>TTACA</td>\n",
       "    </tr>\n",
       "    <tr>\n",
       "      <th>2</th>\n",
       "      <td>2</td>\n",
       "      <td>AAAAAAAAAATATGGGGCCCTGTTCCAAAGATACCTCAATTTCATA...</td>\n",
       "      <td>-0.608457</td>\n",
       "      <td>13</td>\n",
       "      <td>6</td>\n",
       "      <td>AATAA</td>\n",
       "    </tr>\n",
       "    <tr>\n",
       "      <th>3</th>\n",
       "      <td>3</td>\n",
       "      <td>AAAAAAAAAATCTCTGGCCCGATTATACTGGAGCTAATGTAAAATT...</td>\n",
       "      <td>-1.093964</td>\n",
       "      <td>12</td>\n",
       "      <td>3</td>\n",
       "      <td>TTGTT</td>\n",
       "    </tr>\n",
       "    <tr>\n",
       "      <th>4</th>\n",
       "      <td>4</td>\n",
       "      <td>AAAAAAAAACATAAATATGAAGGCCTGACATTATAAATAACTTACC...</td>\n",
       "      <td>-0.048841</td>\n",
       "      <td>7</td>\n",
       "      <td>6</td>\n",
       "      <td>CTATG</td>\n",
       "    </tr>\n",
       "  </tbody>\n",
       "</table>\n",
       "</div>"
      ],
      "text/plain": [
       "   Unnamed: 0                                                UTR  growth_rate  \\\n",
       "0           0  AAAAAAAAAACATAATAACGATGATCAGTTAAAATCATAGTCTAAG...    -1.237065   \n",
       "1           1  AAAAAAAAAAGACTACAACAGATTGTAGTGGCGGACCAGTGTGCCT...     1.288663   \n",
       "2           2  AAAAAAAAAATATGGGGCCCTGTTCCAAAGATACCTCAATTTCATA...    -0.608457   \n",
       "3           3  AAAAAAAAAATCTCTGGCCCGATTATACTGGAGCTAATGTAAAATT...    -1.093964   \n",
       "4           4  AAAAAAAAACATAAATATGAAGGCCTGACATTATAAATAACTTACC...    -0.048841   \n",
       "\n",
       "   t0  t1    RBS  \n",
       "0  14   3  GCCAT  \n",
       "1  14  49  TTACA  \n",
       "2  13   6  AATAA  \n",
       "3  12   3  TTGTT  \n",
       "4   7   6  CTATG  "
      ]
     },
     "execution_count": 4,
     "metadata": {},
     "output_type": "execute_result"
    }
   ],
   "source": [
    "df.head()"
   ]
  },
  {
   "cell_type": "code",
   "execution_count": 5,
   "metadata": {},
   "outputs": [],
   "source": [
    "# UTR sequence is unrepeated \n",
    "assert len(df.UTR.unique()) == len(df)\n",
    "\n",
    "# RBS has all combinations \n",
    "assert len(df.RBS.unique()) == 4 ** 5"
   ]
  },
  {
   "cell_type": "code",
   "execution_count": 6,
   "metadata": {},
   "outputs": [],
   "source": [
    "raw_X = np.asarray(df['RBS'])\n",
    "raw_Y = np.asarray(df['growth_rate'])\n",
    "\n",
    "small_raw_X = raw_X[:5000]\n",
    "small_raw_Y = raw_Y[:5000]"
   ]
  },
  {
   "cell_type": "markdown",
   "metadata": {},
   "source": [
    "### independence test"
   ]
  },
  {
   "cell_type": "code",
   "execution_count": 7,
   "metadata": {},
   "outputs": [],
   "source": [
    "def distance_arms(arm1, arm2):\n",
    "    assert len(arm1) == len(arm2)\n",
    "    distance = 0\n",
    "    for idx in range(len(arm1)):\n",
    "        if arm1[idx] != arm2[idx]:\n",
    "            distance += 1\n",
    "        \n",
    "    return distance\n",
    "\n",
    "def chisquare_arms(arm1, arm2):\n",
    "    return chisquare(rewards_dict[arm1], rewards_dict[arm2])\n",
    "\n",
    "def abs_diff(arm1, arm2):\n",
    "    #return np.abs(np.mean(rewards_dict[arm1]) - np.mean(rewards_dict[arm2]))\n",
    "    r1 = np.mean(rewards_dict[arm1])\n",
    "    r2 = np.mean(rewards_dict[arm2])\n",
    "    if r1 < r2:\n",
    "        return r1/r2\n",
    "    else:\n",
    "        return r2/r1\n",
    "    \n",
    "from scipy.stats import chisquare\n",
    "\n",
    "distance_dict = {} # keys: (arm1, arm2), values: (distance of arms, chisquare of arms)\n",
    "new_dict = defaultdict(list) # keys: distances, values: sequences of scores\n",
    "\n",
    "distance_list = []\n",
    "score_list = []\n",
    "\n",
    "for i, arm_i in enumerate(small_raw_X):\n",
    "    for j, arm_j in enumerate(small_raw_X):\n",
    "        if j > i:\n",
    "            distance = distance_arms(arm_i, arm_j)\n",
    "            #score = abs_diff(arm_i, arm_j)\n",
    "            score = np.abs(float(small_raw_Y[i]) - float(small_raw_Y[j]))\n",
    "            distance_dict[(arm_i, arm_j)] = (distance, score)\n",
    "            new_dict[distance].append(score)\n",
    "            distance_list.append(distance)\n",
    "            score_list.append(score)"
   ]
  },
  {
   "cell_type": "code",
   "execution_count": 8,
   "metadata": {},
   "outputs": [
    {
     "data": {
      "text/plain": [
       "<matplotlib.text.Text at 0x7f44665d8b00>"
      ]
     },
     "execution_count": 8,
     "metadata": {},
     "output_type": "execute_result"
    },
    {
     "data": {
      "image/png": "[encoded data removed]",
      "text/plain": [
       "<matplotlib.figure.Figure at 0x7f448da01da0>"
      ]
     },
     "metadata": {},
     "output_type": "display_data"
    }
   ],
   "source": [
    "# if only use first 10,000 data points, there is no strong dependence\n",
    "\n",
    "fig, ax = plt.subplots()\n",
    "\n",
    "new_list = []\n",
    "\n",
    "for key, value in new_dict.items():\n",
    "    new_list.append(value)\n",
    "ax.boxplot(new_list)\n",
    "\n",
    "plt.title('RBS Independence Test (10,000 data points)')\n",
    "plt.xlabel('arm distance')\n",
    "plt.ylabel('Similarity')\n",
    "#plt.savefig('RBS_Independence_Test.png')"
   ]
  },
  {
   "cell_type": "markdown",
   "metadata": {},
   "source": [
    "### One-hot encoding"
   ]
  },
  {
   "cell_type": "code",
   "execution_count": 9,
   "metadata": {},
   "outputs": [],
   "source": [
    "# use code from https://github.com/Seeliglab/2017---Deep-learning-yeast-UTRs \n",
    "\n",
    "# one hot encoding of UTRs\n",
    "# X = one hot encoding matrix\n",
    "# Y = growth rates\n",
    "\n",
    "def one_hot_encoding(X):\n",
    "    \n",
    "    bases = ['A','C','G','T']\n",
    "    base_dict = dict(zip(bases,range(4))) # {'A' : 0, 'C' : 1, 'G' : 2, 'T' : 3}\n",
    "\n",
    "    n = X.shape[0]\n",
    "    d = len(X[0])\n",
    "    \n",
    "    # initialize an empty numpy ndarray of the appropriate size\n",
    "    new_X = np.zeros((n, d * 4))\n",
    "    \n",
    "    # loop through the array of sequences to create a feature array \n",
    "    for i in range(n):\n",
    "        seq = X[i]\n",
    "        \n",
    "        # loop through each individual sequence, from the 5' to 3' end\n",
    "        for b in range(d):\n",
    "            # this will assign a 1 to the appropriate base and position for this UTR sequence\n",
    "            new_X[i, b * 4 + base_dict[seq[b]]] = 1.\n",
    "    \n",
    "    return new_X"
   ]
  },
  {
   "cell_type": "code",
   "execution_count": 10,
   "metadata": {},
   "outputs": [],
   "source": [
    "small_X = one_hot_encoding(small_raw_X)\n",
    "small_Y = small_raw_Y\n",
    "X_train, X_test, y_train, y_test = train_test_split(small_X, small_Y, test_size=0.2, random_state=42)"
   ]
  },
  {
   "cell_type": "code",
   "execution_count": 11,
   "metadata": {},
   "outputs": [
    {
     "name": "stdout",
     "output_type": "stream",
     "text": [
      "Root mean squared error:  1.388236020655902\n",
      "R2 score:  0.025610480488952314\n"
     ]
    }
   ],
   "source": [
    "from sklearn.linear_model import LinearRegression\n",
    "from sklearn.metrics import mean_squared_error, r2_score\n",
    "\n",
    "# Model initialization\n",
    "regression_model = LinearRegression()\n",
    "# Fit the data(train the model)\n",
    "regression_model.fit(X_train, y_train)\n",
    "# Predict\n",
    "y_predicted = regression_model.predict(X_test)\n",
    "\n",
    "# model evaluation\n",
    "rmse = mean_squared_error(y_test, y_predicted)\n",
    "r2 = r2_score(y_test, y_predicted)\n",
    "\n",
    "# printing values\n",
    "# print('Slope:' ,regression_model.coef_)\n",
    "# print('Intercept:', regression_model.intercept_)\n",
    "print('Root mean squared error: ', rmse)\n",
    "print('R2 score: ', r2)\n"
   ]
  },
  {
   "cell_type": "code",
   "execution_count": 12,
   "metadata": {},
   "outputs": [
    {
     "data": {
      "text/plain": [
       "[<matplotlib.lines.Line2D at 0x7f445f16ea58>]"
      ]
     },
     "execution_count": 12,
     "metadata": {},
     "output_type": "execute_result"
    },
    {
     "data": {
      "image/png": "[encoded data removed]",
      "text/plain": [
       "<matplotlib.figure.Figure at 0x7f44664fa668>"
      ]
     },
     "metadata": {},
     "output_type": "display_data"
    }
   ],
   "source": [
    "plt.plot(y_test, y_predicted, '.')"
   ]
  },
  {
   "cell_type": "code",
   "execution_count": 13,
   "metadata": {},
   "outputs": [
    {
     "name": "stdout",
     "output_type": "stream",
     "text": [
      "Root mean squared error:  1.388236020655902\n",
      "R2 score:  0.025610480488952314\n"
     ]
    },
    {
     "data": {
      "text/plain": [
       "[<matplotlib.lines.Line2D at 0x7f445e278320>]"
      ]
     },
     "execution_count": 13,
     "metadata": {},
     "output_type": "execute_result"
    },
    {
     "data": {
      "image/png": "[encoded data removed]",
      "text/plain": [
       "<matplotlib.figure.Figure at 0x7f4462803c18>"
      ]
     },
     "metadata": {},
     "output_type": "display_data"
    }
   ],
   "source": [
    "from sklearn.kernel_ridge import KernelRidge\n",
    "\n",
    "clf = KernelRidge(alpha=1.0, kernel = 'rbf')\n",
    "clf.fit(X_train, y_train) \n",
    "y_predict = clf.predict(X_test)\n",
    "\n",
    "# model evaluation\n",
    "rmse = mean_squared_error(y_test, y_predicted)\n",
    "r2 = r2_score(y_test, y_predicted)\n",
    "\n",
    "# printing values\n",
    "# print('Slope:' ,regression_model.coef_)\n",
    "# print('Intercept:', regression_model.intercept_)\n",
    "print('Root mean squared error: ', rmse)\n",
    "print('R2 score: ', r2)\n",
    "\n",
    "plt.plot(y_test, y_predicted, '.')"
   ]
  },
  {
   "cell_type": "markdown",
   "metadata": {},
   "source": [
    "### ngrams"
   ]
  },
  {
   "cell_type": "code",
   "execution_count": 14,
   "metadata": {},
   "outputs": [],
   "source": [
    "def generate_ngrams(s, n):\n",
    "    # Use the zip function to help us generate n-grams\n",
    "    # Concatentate the tokens into ngrams and return\n",
    "    ngrams = zip(*[s[i:] for i in range(n)])\n",
    "    return [\"\".join(ngram) for ngram in ngrams]\n",
    "\n",
    "features = zip(*[generate_ngrams(df['UTR'][0], i) for i in range(1,7)])"
   ]
  }
 ],
 "metadata": {
  "kernelspec": {
   "display_name": "Python 3",
   "language": "python",
   "name": "python3"
  },
  "language_info": {
   "codemirror_mode": {
    "name": "ipython",
    "version": 3
   },
   "file_extension": ".py",
   "mimetype": "text/x-python",
   "name": "python",
   "nbconvert_exporter": "python",
   "pygments_lexer": "ipython3",
   "version": "3.6.5"
  }
 },
 "nbformat": 4,
 "nbformat_minor": 2
}
