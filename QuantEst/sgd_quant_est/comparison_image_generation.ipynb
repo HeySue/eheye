{
 "cells": [
  {
   "cell_type": "markdown",
   "metadata": {},
   "source": [
    "### Show quantile estimation with SGD  \"works\"\n",
    "\n",
    "1. Test datasets:\n",
    "    - Mixsture of 5 Gaussians\n",
    "    - Sample of 100k from no.1\n",
    "    - Gausian $\\mu = 2, \\sigma = 18$\n",
    "    - Gausian $\\mu = 0, \\sigma = 0.001$\n",
    "    - Sample 100 from no.1\n",
    "    - Sample 100 from no.3\n",
    "    - Exponential $\\lambda$\n",
    "    - My weird distribution lol\n",
    "    \n",
    "4. Test times:\n",
    "    - 10 $\\times$ dataset generation\n",
    "    - 10 $\\times$ SGD ???\n",
    "    - 10 $\\times$ shuffle (does the order matter?)\n",
    "    \n",
    "2. Q value: 0.1, 0.3, 0.5, 0.9, 0.99 \n",
    "\n",
    "3. Step size: \n",
    "    - $\\alpha_k = 1$\n",
    "    - $\\alpha_k = \\frac{2}{\\sqrt{k}}$\n",
    "    - $\\alpha_k = \\frac{0.002}{\\sqrt{k}}$\n",
    "    - ?\n",
    "    - ?\n",
    "    - Why's the Newton method helpful?\n",
    "       \n",
    "5. Calculate $E = |q_{batch} - q_{sgd}|$\n",
    "\n",
    "6. What's a small value of $E$?\n",
    "\n",
    "7. Investigate the effect of datasize N\n",
    "    - Convergence rate with same $\\alpha_k$?\n",
    "    - Different Q values?\n",
    "    - ?"
   ]
  },
  {
   "cell_type": "code",
   "execution_count": 35,
   "metadata": {},
   "outputs": [],
   "source": [
    "%matplotlib inline\n",
    "\n",
    "import io, os, sys, types\n",
    "from IPython import get_ipython\n",
    "from nbformat import read\n",
    "from IPython.core.interactiveshell import InteractiveShell\n",
    "\n",
    "import math\n",
    "import numpy as np\n",
    "import matplotlib.pyplot as plt\n",
    "import matplotlib.colors as colors\n",
    "import matplotlib.cm as cmx\n",
    "\n",
    "\n",
    "import import_ipynb\n",
    "from plt_quantile_comparison import plot_quantile_shuffles, plot_quantile_generations"
   ]
  },
  {
   "cell_type": "code",
   "execution_count": 36,
   "metadata": {},
   "outputs": [],
   "source": [
    "distro_list = ['mix', 'gau 1', 'gau 2', 'exp', 'my_distro']\n",
    "stepsize_list = ['const', '2/sqrt_k', '0.002/sqrt_k']\n",
    "\n",
    "tau_vals = [0.1, 0.3, 0.5, 0.9, 0.99]\n",
    "N_g = 12 # N_generation\n",
    "N_s = 10 # N_shuffle\n",
    "\n",
    "N_q = len(tau_vals)"
   ]
  },
  {
   "cell_type": "code",
   "execution_count": 37,
   "metadata": {},
   "outputs": [],
   "source": [
    "# all of the inputs are in the form of list\n",
    "# e.g. distro = [mix_gaussian], datasize = [100, 100000], stepsize = [2]\n",
    "def get_n_comp(distro, datasize, stepsize):\n",
    "    print ('get_compared_setting()', distro, datasize, stepsize)\n",
    "    if len(distro) > 1:\n",
    "        if len(datasize)!= 1 or len(stepsize)!=1:\n",
    "            raise Exception('The number of comp_setting is incorrect')\n",
    "        return len(distro)\n",
    "    elif len(datasize) > 1:\n",
    "        if len(stepsize)!=1:\n",
    "            raise Exception('The number of comp_setting is incorrect')        \n",
    "        return len(datasize)\n",
    "    elif len(stepsize) > 1:\n",
    "        print ('step size')\n",
    "        return len(stepsize)\n",
    "    raise Exception('The number of comp_setting is incorrect')\n",
    "\n",
    "def generate_setting_lst(distro, datasize, q_lst, g_test, s_test):\n",
    "    setting_lst = []\n",
    "    if len(distro)>1:\n",
    "        for dis in distro:\n",
    "            setting_lst.append([dis, datasize[0], q_lst, g_test, s_test])\n",
    "    else:\n",
    "        for size in datasize:\n",
    "            setting_lst.append([distro[0], size, q_lst, g_test, s_test])\n",
    "    print (setting_lst)\n",
    "    return setting_lst"
   ]
  },
  {
   "cell_type": "markdown",
   "metadata": {},
   "source": [
    "### Dataset and quantile generation"
   ]
  },
  {
   "cell_type": "markdown",
   "metadata": {},
   "source": [
    "#### Helping functions for data generation"
   ]
  },
  {
   "cell_type": "code",
   "execution_count": 38,
   "metadata": {},
   "outputs": [],
   "source": [
    "# distro_list = ['mix_gau', 'gau 1', 'gau 2', 'exp', 'my_distro']\n",
    "\n",
    "def generate_single_dataset(distro, datasize):\n",
    "    if distro == 'gau 1':\n",
    "        return np.random.normal(2, 18, datasize)\n",
    "    elif distro == 'gau 2':\n",
    "        return np.random.normal(0, 0.001, datasize)\n",
    "    elif distro == 'mix':\n",
    "        sizes = np.array([0.3, 0.2, 0.1, 0.15, 0.25]) * datasize\n",
    "        d1 = np.random.normal(2.0, 7.0, int(sizes[0]))\n",
    "        d2 = np.random.normal(0, 3.7, int(sizes[1]))\n",
    "        d3 = np.random.normal(-9, 7, int(sizes[2]))\n",
    "        d4 = np.random.normal(5, 77, int(sizes[3]))\n",
    "        d5 = np.random.normal(-7, 7, int(sizes[4]))\n",
    "        mix_lst = np.append(d1, np.append(d2, np.append(d3, np.append(d4, d5))))\n",
    "        np.random.shuffle(mix_lst)\n",
    "        return mix_lst\n",
    "    elif distro == 'exp':\n",
    "        return np.random.exponential(scale=1, size=datasize)"
   ]
  },
  {
   "cell_type": "code",
   "execution_count": 39,
   "metadata": {},
   "outputs": [],
   "source": [
    "def generate_dataset(distro, datasize, g_test, s_test):\n",
    "#     print ('generate_dataset', distro, datasize, g_test, s_test)\n",
    "#     shape of dataset: 1*Datasize,\n",
    "    if not g_test and not s_test:\n",
    "        return generate_single_dataset(distro, datasize)\n",
    "            \n",
    "    elif g_test and not s_test:\n",
    "        generated_dt = np.zeros((N_g, datasize))\n",
    "        for i in range(N_g):\n",
    "            generated_dt[i] = generate_single_dataset(distro, datasize)\n",
    "        return generated_dt\n",
    "    \n",
    "    elif s_test and not g_test:\n",
    "        shuffled_dt = np.zeros((N_s, datasize))\n",
    "        dt = generate_single_dataset(distro, datasize)\n",
    "        for i in range(N_s): \n",
    "            np.random.shuffle(dt)\n",
    "            shuffled_dt[i] = dt\n",
    "        return shuffled_dt\n",
    "        \n",
    "    dataset = np.zeros((N_g, N_s, datasize))\n",
    "    for gen_id in range(N_g):\n",
    "        dt = generate_single_dataset(distro, datasize)\n",
    "        for shu_id in range(N_s):\n",
    "#             print (gen_id, shu_id)\n",
    "            np.random.shuffle(dt)\n",
    "            dataset[gen_id][shu_id] = dt\n",
    "    return dataset"
   ]
  },
  {
   "cell_type": "code",
   "execution_count": 40,
   "metadata": {},
   "outputs": [],
   "source": [
    "def test_generate_dataset():\n",
    "    distro = 'mix'\n",
    "    datasize = 10000\n",
    "\n",
    "    data_shuffle = generate_dataset(distro, datasize, False, True)\n",
    "    data_gen = generate_dataset(distro, datasize, True, False)\n",
    "\n",
    "    fig, (ax1, ax2) = plt.subplots(2,1,sharex=True)\n",
    "    fig.set_size_inches(17, 12)\n",
    "    num_bins = 100\n",
    "    ax1.hist([dt for dt in data_shuffle[:3]], num_bins, alpha = 0.5, label=[str(i) for i in range(20)])\n",
    "    ax1.legend()\n",
    "    ax2.hist([dt for dt in data_gen[:3]], num_bins, alpha = 0.5, label=[str(i) for i in range(20)])\n",
    "    ax2.legend()\n",
    "    plt.show()\n",
    "# test_generate_dataset()"
   ]
  },
  {
   "cell_type": "markdown",
   "metadata": {},
   "source": [
    "#### Helping functions for q_batches"
   ]
  },
  {
   "cell_type": "code",
   "execution_count": 41,
   "metadata": {},
   "outputs": [],
   "source": [
    "def generate_q_batches_single_dataset(dataset, q_lst):\n",
    "    q_batches = np.zeros(len(q_lst))\n",
    "    for i in range(len(q_lst)):\n",
    "        q_batches[i] = np.percentile(dataset, q_lst[i]*100)\n",
    "    return q_batches\n",
    "\n",
    "# test\n",
    "# generate_q_batches_single_dataset(dataset, [0])[0] == min(dataset) and generate_q_batches_single_dataset(dataset, [1])[0] == max(dataset)\n",
    "\n",
    "def generate_q_batches(dataset, q_lst, g_test, s_test):\n",
    "#     print ('generate_q_batches', dataset, g_test, s_test)\n",
    "    if not g_test:\n",
    "        if s_test:\n",
    "            return generate_q_batches_single_dataset(dataset[0], q_lst)\n",
    "        else: \n",
    "            return generate_q_batches_single_dataset(dataset, q_lst)\n",
    "    else:\n",
    "        N_g = dataset.shape[0]\n",
    "        q_batches = np.zeros((N_g, len(q_lst)))\n",
    "        for i in range(N_g):\n",
    "            if not s_test:\n",
    "                q_batches[i] = generate_q_batches_single_dataset(dataset[i], q_lst)\n",
    "            else:\n",
    "                q_batches[i] = generate_q_batches_single_dataset(dataset[i][0], q_lst)\n",
    "        return q_batches"
   ]
  },
  {
   "cell_type": "markdown",
   "metadata": {},
   "source": [
    "#### Helping functions for q_sgds"
   ]
  },
  {
   "cell_type": "code",
   "execution_count": 42,
   "metadata": {},
   "outputs": [],
   "source": [
    "def set_stepsize(k, stepsize):\n",
    "    if stepsize=='const':\n",
    "        return 1\n",
    "    elif stepsize=='2/sqrt_k':\n",
    "        return 2/math.sqrt(k)\n",
    "    elif stepsize=='0.002/sqrt_k':\n",
    "        return 0.002/math.sqrt(k)\n",
    "    raise Exception('stepsize parameter is wrong')\n",
    "\n",
    "def generate_single_q_sgd_proc_single_dataset(dataset, stepsize, tau):\n",
    "    q_sgd_proc = np.zeros(len(dataset))\n",
    "    q = 0\n",
    "    for k, x in enumerate(dataset):\n",
    "        alpha = set_stepsize(k+1, stepsize)\n",
    "        if x > q:\n",
    "            q += alpha*tau\n",
    "        else:\n",
    "            q -= alpha*(1-tau)\n",
    "        q_sgd_proc[k] = q\n",
    "    return q_sgd_proc\n",
    "\n",
    "def generate_q_sgd_proc_single_dataset(dataset, stepsize, tau_lst):\n",
    "    q_sgd_procs = np.zeros((len(tau_lst), len(dataset)))\n",
    "    for idx, tau in enumerate(tau_lst):\n",
    "        q_sgd_procs[idx] = generate_single_q_sgd_proc_single_dataset(dataset, stepsize, tau)\n",
    "    return q_sgd_procs\n",
    "\n",
    "def generate_q_sgd_proc(dataset, stepsize, tau_lst):\n",
    "    N_q = len(tau_lst)\n",
    "    N_dim = len(dataset.shape)\n",
    "    \n",
    "    q_shape = list(dataset.shape)\n",
    "    q_shape.insert(-1, N_q)\n",
    "    filename = 'q_sgd_procs.dat'\n",
    "    q_sgd_procs = np.memmap(filename, dtype=np.float32, mode='w+', shape=tuple(q_shape))\n",
    "    \n",
    "    if N_dim==1:\n",
    "        q_sgd_procs[:] = generate_q_sgd_proc_single_dataset(dataset, stepsize, tau_lst)\n",
    "    \n",
    "    elif N_dim==2:\n",
    "        for idx, dt in enumerate(dataset):\n",
    "            q_sgd_procs[idx] = generate_q_sgd_proc_single_dataset(dt, stepsize, tau_lst)\n",
    "    \n",
    "    elif N_dim==3:\n",
    "        for g_idx, dt_g in enumerate(dataset):\n",
    "            for s_idx, dt in enumerate(dt_g):\n",
    "                q_sgd_procs[g_idx][s_idx] = generate_q_sgd_proc_single_dataset(dt, stepsize, tau_lst)\n",
    "                \n",
    "    else:  raise Exception('dataset of wrong type! check the dataset!')\n",
    "        \n",
    "    return filename, tuple(q_shape)"
   ]
  },
  {
   "cell_type": "code",
   "execution_count": 43,
   "metadata": {},
   "outputs": [],
   "source": [
    "def generate_q_sgd_res(filename, shape):\n",
    "    N_dim =len(shape)-1\n",
    "    print (N_dim)\n",
    "\n",
    "    q_sgd_proc = np.memmap(filename, dtype=np.float32, mode='r', shape=shape)\n",
    "#     print (q_sgd_proc)\n",
    "    \n",
    "    if N_dim==1:\n",
    "        return np.array(q_sgd_proc[:, -1])\n",
    "        \n",
    "    elif N_dim==2:\n",
    "        return np.array(q_sgd_proc[:,:,-1])\n",
    "    \n",
    "    elif N_dim==3:\n",
    "        return np.array(q_sgd_proc[:,:,:,-1])\n",
    "    \n",
    "    else: raise Execption('q_sgd_proc file got wrong')"
   ]
  },
  {
   "cell_type": "markdown",
   "metadata": {},
   "source": [
    "#### Main functions for data and quantile generation"
   ]
  },
  {
   "cell_type": "code",
   "execution_count": 44,
   "metadata": {},
   "outputs": [],
   "source": [
    "def generate_reusable_data(distro, datasize, q_lst, g_test, s_test):\n",
    "    print ('generate_reusable_data', (distro, datasize, q_lst, g_test, s_test))\n",
    "    dataset = generate_dataset(distro, datasize, g_test, s_test)\n",
    "    q_batches = generate_q_batches(dataset, q_lst, g_test, s_test)\n",
    "    return dataset, q_batches\n",
    "\n",
    "def generate_q_sgds(dataset, stepsize, q_lst):\n",
    "    filename, shape = generate_q_sgd_proc(dataset, stepsize, q_lst)\n",
    "    # q_sgd_procs are stored by np.memmap\n",
    "    q_sgd_res  = generate_q_sgd_res(filename, shape)\n",
    "    return q_sgd_res, filename, shape\n"
   ]
  },
  {
   "cell_type": "markdown",
   "metadata": {},
   "source": [
    "### Plots"
   ]
  },
  {
   "cell_type": "markdown",
   "metadata": {},
   "source": [
    "#### Helping functions to charts drawing"
   ]
  },
  {
   "cell_type": "code",
   "execution_count": 45,
   "metadata": {},
   "outputs": [
    {
     "name": "stdout",
     "output_type": "stream",
     "text": [
      "generate_reusable_data ('mix', 1000, [0.1, 0.3, 0.5, 0.9, 0.99], False, False)\n",
      "1\n"
     ]
    }
   ],
   "source": [
    "# Generate data to test plots\n",
    "# dataset = generate_dataset(distro=distro_list[0], datasize=1000, g_test=False, s_test=False)\n",
    "dataset, q_batches = generate_reusable_data(distro=distro_list[0], datasize=1000, q_lst=tau_vals,\n",
    "                                            g_test=False, s_test=False)\n",
    "q_sgd_res, proc_filename, proc_shape = generate_q_sgds(dataset, stepsize_list[0], tau_vals)"
   ]
  },
  {
   "cell_type": "code",
   "execution_count": null,
   "metadata": {},
   "outputs": [],
   "source": []
  },
  {
   "cell_type": "code",
   "execution_count": 46,
   "metadata": {},
   "outputs": [
    {
     "ename": "NameError",
     "evalue": "name 'plt_batch_stripe' is not defined",
     "output_type": "error",
     "traceback": [
      "\u001b[0;31m---------------------------------------------------------------------------\u001b[0m",
      "\u001b[0;31mNameError\u001b[0m                                 Traceback (most recent call last)",
      "\u001b[0;32m<ipython-input-46-9f34bc8bc0d9>\u001b[0m in \u001b[0;36m<module>\u001b[0;34m()\u001b[0m\n\u001b[1;32m     35\u001b[0m     \u001b[0;32mreturn\u001b[0m \u001b[0mfig\u001b[0m\u001b[0;34m\u001b[0m\u001b[0m\n\u001b[1;32m     36\u001b[0m \u001b[0;34m\u001b[0m\u001b[0m\n\u001b[0;32m---> 37\u001b[0;31m \u001b[0mdraw_spectrum_stripes\u001b[0m\u001b[0;34m(\u001b[0m\u001b[0mq_batches\u001b[0m\u001b[0;34m,\u001b[0m \u001b[0mq_sgd_res\u001b[0m\u001b[0;34m,\u001b[0m \u001b[0;32mFalse\u001b[0m\u001b[0;34m,\u001b[0m \u001b[0;32mFalse\u001b[0m\u001b[0;34m)\u001b[0m\u001b[0;34m\u001b[0m\u001b[0m\n\u001b[0m",
      "\u001b[0;32m<ipython-input-46-9f34bc8bc0d9>\u001b[0m in \u001b[0;36mdraw_spectrum_stripes\u001b[0;34m(q_batches, q_sgd_res, g_test, s_test)\u001b[0m\n\u001b[1;32m     12\u001b[0m     \u001b[0mbins\u001b[0m \u001b[0;34m=\u001b[0m \u001b[0;36m50\u001b[0m\u001b[0;34m\u001b[0m\u001b[0m\n\u001b[1;32m     13\u001b[0m \u001b[0;34m\u001b[0m\u001b[0m\n\u001b[0;32m---> 14\u001b[0;31m     \u001b[0mplt_batch_stripe\u001b[0m\u001b[0;34m(\u001b[0m\u001b[0max_batch\u001b[0m\u001b[0;34m,\u001b[0m \u001b[0mq_batches\u001b[0m\u001b[0;34m,\u001b[0m \u001b[0mstyles\u001b[0m\u001b[0;34m[\u001b[0m\u001b[0;36m0\u001b[0m\u001b[0;34m]\u001b[0m\u001b[0;34m,\u001b[0m \u001b[0mnames\u001b[0m\u001b[0;34m[\u001b[0m\u001b[0;36m0\u001b[0m\u001b[0;34m]\u001b[0m\u001b[0;34m,\u001b[0m \u001b[0mscalarMap\u001b[0m\u001b[0;34m)\u001b[0m\u001b[0;34m\u001b[0m\u001b[0m\n\u001b[0m\u001b[1;32m     15\u001b[0m     \u001b[0mplt_batch_stripe\u001b[0m\u001b[0;34m(\u001b[0m\u001b[0max_sgd\u001b[0m\u001b[0;34m,\u001b[0m \u001b[0mq_sgd_res\u001b[0m\u001b[0;34m,\u001b[0m \u001b[0mstyles\u001b[0m\u001b[0;34m[\u001b[0m\u001b[0;36m1\u001b[0m\u001b[0;34m]\u001b[0m\u001b[0;34m,\u001b[0m \u001b[0mnames\u001b[0m\u001b[0;34m[\u001b[0m\u001b[0;36m1\u001b[0m\u001b[0;34m]\u001b[0m\u001b[0;34m,\u001b[0m \u001b[0mscalarMap\u001b[0m\u001b[0;34m,\u001b[0m \u001b[0;34m(\u001b[0m\u001b[0mg_test\u001b[0m \u001b[0;32mand\u001b[0m \u001b[0ms_test\u001b[0m\u001b[0;34m)\u001b[0m\u001b[0;34m)\u001b[0m\u001b[0;34m\u001b[0m\u001b[0m\n\u001b[1;32m     16\u001b[0m \u001b[0;34m\u001b[0m\u001b[0m\n",
      "\u001b[0;31mNameError\u001b[0m: name 'plt_batch_stripe' is not defined"
     ]
    },
    {
     "data": {
      "image/png": "[encoded data removed]",
      "text/plain": [
       "<matplotlib.figure.Figure at 0x10c222cc0>"
      ]
     },
     "metadata": {},
     "output_type": "display_data"
    }
   ],
   "source": [
    "def draw_spectrum_stripes(q_batches, q_sgd_res, g_test, s_test):\n",
    "    \n",
    "    c_Norm = colors.Normalize(vmin=0, vmax=1)\n",
    "    scalarMap = cmx.ScalarMappable(norm=c_Norm, cmap=plt.get_cmap('gist_rainbow'))\n",
    "    styles = ['-', '--']\n",
    "    names = ['-q batch', '-q sgd']\n",
    "    \n",
    "    fig = plt.figure(figsize=(16,4))\n",
    "    ax_batch = fig.add_subplot(211)\n",
    "    ax_sgd = fig.add_subplot(212, sharex = ax_batch)\n",
    "    fig.suptitle('Batch quantile VS SGD quantile')\n",
    "    bins = 50\n",
    "    \n",
    "    plt_batch_stripe(ax_batch, q_batches, styles[0], names[0], scalarMap)\n",
    "    plt_batch_stripe(ax_sgd, q_sgd_res, styles[1], names[1], scalarMap, (g_test and s_test))\n",
    "\n",
    "    #set \n",
    "    ax_batch.set_xlabel('batch value')\n",
    "    ax_batch.xaxis.set_label_coords(0.04, 0.98)\n",
    "    ax_batch.set_yticks([])\n",
    "\n",
    "    plt.locator_params(axis='x', nbins=10)\n",
    "\n",
    "    ax_sgd.set_xlabel('sgd value')\n",
    "    ax_sgd.xaxis.set_label_coords(0.035, 0.98)\n",
    "    ax_sgd.set_yticks([])\n",
    "\n",
    "\n",
    "    # set position of legend\n",
    "    ax_batch.legend(loc='lower center', bbox_to_anchor=(0.5, -1.8),\n",
    "            frameon=False, ncol=len(q_vals))\n",
    "    ax_sgd.legend(loc='lower center', bbox_to_anchor=(0.5, -0.8),\n",
    "        frameon=False, ncol=len(q_vals))\n",
    "        \n",
    "    return fig\n",
    "\n",
    "draw_spectrum_stripes(q_batches, q_sgd_res, False, False)"
   ]
  },
  {
   "cell_type": "code",
   "execution_count": 13,
   "metadata": {},
   "outputs": [],
   "source": [
    "def draw_charts(q_batches, q_sgd_res, proc_filename, proc_shape, g_test, s_test, charts):\n",
    "#     return plts\n",
    "    return 4\n",
    "\n",
    "def draw_tables(q_batches, q_sgd_res, proc_filename, proc_shape, g_test, s_test, charts):\n",
    "#     return tbls\n",
    "    return 5"
   ]
  },
  {
   "cell_type": "code",
   "execution_count": null,
   "metadata": {},
   "outputs": [],
   "source": []
  },
  {
   "cell_type": "code",
   "execution_count": 14,
   "metadata": {},
   "outputs": [],
   "source": [
    "# Conduct experiments on quantile estimation with SGD with regards to different aspects\n",
    "# Experiment results are shown in charts and tables\n",
    "# \n",
    "# Return: None? or charts and figures\n",
    "#\n",
    "# Inputs: \n",
    "#     1. Parameters for the experiments\n",
    "#         - Settings to change: one of {distro, datasize, stepsize} (all elements are lists/dict)\n",
    "#         - Settings to control: the left two of {distro, datasize, stepsize}\n",
    "#                                g_test, s_test\n",
    "#     2. Values to show in the results\n",
    "#         - q_values to be compared\n",
    "#         - charts to be showen in {plt_res, plt_proc, plt_e}\n",
    "#         - tables to be shown in {tbl_res, tbl_proc}\n",
    "\n",
    "def quantile_sgd_compare(distro, datasize, stepsize, \n",
    "                            g_test=False, s_test=False, q_lst=tau_vals, \n",
    "                           charts={'plt_res', 'plt_proc', 'plt_e'}, tables={'tbl_res, tbl_proc'}):\n",
    "    dataset, q_batches = 0, 0\n",
    "    N_comp = get_n_comp(distro, datasize, stepsize)\n",
    "    \n",
    "    print (N_comp)\n",
    "    \n",
    "    if len(stepsize)==1:\n",
    "        setting_lst = generate_setting_lst(distro, datasize, q_lst, g_test, s_test)\n",
    "    else:\n",
    "        dataset, q_batches = generate_reusable_data(distro[0], datasize[0], q_lst, g_test, s_test)\n",
    "        print (dataset.shape, q_batches)\n",
    "\n",
    "    # for each round, generate all data and comparison results\n",
    "    for i in range(N_comp):\n",
    "        if len(stepsize)==1:\n",
    "            print (\"generate the {}th dataset and q_batches\".format(i))\n",
    "            lst = setting_lst[i]\n",
    "            distro, datasize, q_lst, g_test, s_test = lst[0], lst[1], lst[2], lst[3], lst[4]\n",
    "            dataset, q_batches = generate_reusable_data(distro, datasize, q_lst, g_test, s_test)\n",
    "            print (dataset.shape, q_batches)\n",
    "            q_sgd_res, proc_filename, proc_shape = generate_q_sgds(dataset, stepsize[0], q_lst)\n",
    "        else:\n",
    "            print ('different q_sgd', i , 'for same dataset and q_batches')\n",
    "            q_sgd_res, proc_filename, proc_shape = generate_q_sgds(dataset, stepsize[i], q_lst, g_test, s_test)\n",
    "        plts = draw_charts(q_batches, q_sgd_res, proc_filename, proc_shape, g_test, s_test, charts)\n",
    "        tbls = draw_tables(q_batches, q_sgd_res, proc_filename, proc_shape, g_test, s_test, tables)\n",
    "    # have them together?\n",
    "    \n",
    "    return\n",
    "    "
   ]
  },
  {
   "cell_type": "code",
   "execution_count": 15,
   "metadata": {},
   "outputs": [
    {
     "name": "stdout",
     "output_type": "stream",
     "text": [
      "get_compared_setting() ['gau 1', 'gau 2'] [100] ['const']\n",
      "2\n",
      "[['gau 1', 100, [0.1, 0.3, 0.5, 0.9, 0.99], True, False], ['gau 2', 100, [0.1, 0.3, 0.5, 0.9, 0.99], True, False]]\n",
      "generate the 0th dataset and q_batches\n",
      "generate_reusable_data ('gau 1', 100, [0.1, 0.3, 0.5, 0.9, 0.99], True, False)\n",
      "(12, 100) [[-14.96627246  -5.47912201   1.82624613  24.5756801   42.25329073]\n",
      " [-18.54270743  -7.45040811   1.61916896  25.00367833  37.53392312]\n",
      " [-21.75428227  -9.83418345  -2.87574584  18.87408287  43.36522959]\n",
      " [-18.73963063  -4.68905425   3.21935582  25.84787433  35.01597518]\n",
      " [-16.21118048  -3.83855316   4.75332554  23.82439133  39.35432202]\n",
      " [-26.92865849  -9.81757871   1.28358738  27.11037731  42.69245083]\n",
      " [-19.06982576  -6.43310426   0.77307048  22.58382673  36.69231233]\n",
      " [-18.7596305   -7.95708909   4.03104605  28.19594562  39.15261325]\n",
      " [-20.33244205  -9.46703791   0.30280637  19.66241002  36.21647352]\n",
      " [-15.82550906  -8.23712049   0.43941277  24.33210852  40.27449336]\n",
      " [-13.26093946  -3.17646729   4.18529047  23.85124587  38.87405125]\n",
      " [-18.26198205  -6.77050641   1.17075264  21.16753158  42.58106489]]\n",
      "2\n"
     ]
    },
    {
     "ename": "UnboundLocalError",
     "evalue": "local variable 'q_sgd_proc' referenced before assignment",
     "output_type": "error",
     "traceback": [
      "\u001b[0;31m---------------------------------------------------------------------------\u001b[0m",
      "\u001b[0;31mUnboundLocalError\u001b[0m                         Traceback (most recent call last)",
      "\u001b[0;32m<ipython-input-15-ced212b42b6f>\u001b[0m in \u001b[0;36m<module>\u001b[0;34m()\u001b[0m\n\u001b[1;32m      2\u001b[0m \u001b[0;31m# stepsize_list = ['const', '2/sqrt_k', '0.002/sqrt_k']\u001b[0m\u001b[0;34m\u001b[0m\u001b[0;34m\u001b[0m\u001b[0m\n\u001b[1;32m      3\u001b[0m \u001b[0;34m\u001b[0m\u001b[0m\n\u001b[0;32m----> 4\u001b[0;31m \u001b[0mquantile_sgd_compare\u001b[0m\u001b[0;34m(\u001b[0m\u001b[0;34m[\u001b[0m\u001b[0;34m'gau 1'\u001b[0m\u001b[0;34m,\u001b[0m \u001b[0;34m'gau 2'\u001b[0m\u001b[0;34m]\u001b[0m\u001b[0;34m,\u001b[0m \u001b[0;34m[\u001b[0m\u001b[0;36m100\u001b[0m\u001b[0;34m]\u001b[0m\u001b[0;34m,\u001b[0m \u001b[0;34m[\u001b[0m\u001b[0;34m'const'\u001b[0m\u001b[0;34m]\u001b[0m\u001b[0;34m,\u001b[0m \u001b[0;32mTrue\u001b[0m\u001b[0;34m)\u001b[0m\u001b[0;34m\u001b[0m\u001b[0m\n\u001b[0m",
      "\u001b[0;32m<ipython-input-14-16afd071cb65>\u001b[0m in \u001b[0;36mquantile_sgd_compare\u001b[0;34m(distro, datasize, stepsize, g_test, s_test, q_lst, charts, tables)\u001b[0m\n\u001b[1;32m     40\u001b[0m             \u001b[0mprint\u001b[0m \u001b[0;34m(\u001b[0m\u001b[0;34m'different q_sgd'\u001b[0m\u001b[0;34m,\u001b[0m \u001b[0mi\u001b[0m \u001b[0;34m,\u001b[0m \u001b[0;34m'for same dataset and q_batches'\u001b[0m\u001b[0;34m)\u001b[0m\u001b[0;34m\u001b[0m\u001b[0m\n\u001b[1;32m     41\u001b[0m             \u001b[0mq_sgd_res\u001b[0m\u001b[0;34m,\u001b[0m \u001b[0mq_sgd_proc\u001b[0m \u001b[0;34m=\u001b[0m \u001b[0mgenerate_q_sgds\u001b[0m\u001b[0;34m(\u001b[0m\u001b[0mdataset\u001b[0m\u001b[0;34m,\u001b[0m \u001b[0mstepsize\u001b[0m\u001b[0;34m[\u001b[0m\u001b[0mi\u001b[0m\u001b[0;34m]\u001b[0m\u001b[0;34m,\u001b[0m \u001b[0mq_lst\u001b[0m\u001b[0;34m,\u001b[0m \u001b[0mg_test\u001b[0m\u001b[0;34m,\u001b[0m \u001b[0ms_test\u001b[0m\u001b[0;34m)\u001b[0m\u001b[0;34m\u001b[0m\u001b[0m\n\u001b[0;32m---> 42\u001b[0;31m         \u001b[0mplts\u001b[0m \u001b[0;34m=\u001b[0m \u001b[0mdraw_charts\u001b[0m\u001b[0;34m(\u001b[0m\u001b[0mq_batches\u001b[0m\u001b[0;34m,\u001b[0m \u001b[0mq_sgd_res\u001b[0m\u001b[0;34m,\u001b[0m \u001b[0mq_sgd_proc\u001b[0m\u001b[0;34m,\u001b[0m \u001b[0mg_test\u001b[0m\u001b[0;34m,\u001b[0m \u001b[0ms_test\u001b[0m\u001b[0;34m,\u001b[0m \u001b[0mcharts\u001b[0m\u001b[0;34m)\u001b[0m\u001b[0;34m\u001b[0m\u001b[0m\n\u001b[0m\u001b[1;32m     43\u001b[0m         \u001b[0mtbls\u001b[0m \u001b[0;34m=\u001b[0m \u001b[0mdraw_tables\u001b[0m\u001b[0;34m(\u001b[0m\u001b[0mq_batches\u001b[0m\u001b[0;34m,\u001b[0m \u001b[0mq_sgd_res\u001b[0m\u001b[0;34m,\u001b[0m \u001b[0mq_sgd_proc\u001b[0m\u001b[0;34m,\u001b[0m \u001b[0mg_test\u001b[0m\u001b[0;34m,\u001b[0m \u001b[0ms_test\u001b[0m\u001b[0;34m,\u001b[0m \u001b[0mtables\u001b[0m\u001b[0;34m)\u001b[0m\u001b[0;34m\u001b[0m\u001b[0m\n\u001b[1;32m     44\u001b[0m     \u001b[0;31m# have them together?\u001b[0m\u001b[0;34m\u001b[0m\u001b[0;34m\u001b[0m\u001b[0m\n",
      "\u001b[0;31mUnboundLocalError\u001b[0m: local variable 'q_sgd_proc' referenced before assignment"
     ]
    }
   ],
   "source": [
    "# distro_list = ['mix_gau', 'gau 1', 'gau 2', 'exp', 'my_distro']\n",
    "# stepsize_list = ['const', '2/sqrt_k', '0.002/sqrt_k']\n",
    "\n",
    "quantile_sgd_compare(['gau 1', 'gau 2'], [100], ['const'], True)"
   ]
  },
  {
   "cell_type": "code",
   "execution_count": null,
   "metadata": {},
   "outputs": [],
   "source": [
    "# plt: errorbar\n",
    "# https://matplotlib.org/3.1.1/gallery/lines_bars_and_markers/errorbar_subsample.html#sphx-glr-gallery-lines-bars-and-markers-errorbar-subsample-py"
   ]
  }
 ],
 "metadata": {
  "kernelspec": {
   "display_name": "Python 3",
   "language": "python",
   "name": "python3"
  },
  "language_info": {
   "codemirror_mode": {
    "name": "ipython",
    "version": 3
   },
   "file_extension": ".py",
   "mimetype": "text/x-python",
   "name": "python",
   "nbconvert_exporter": "python",
   "pygments_lexer": "ipython3",
   "version": "3.6.4"
  }
 },
 "nbformat": 4,
 "nbformat_minor": 2
}
