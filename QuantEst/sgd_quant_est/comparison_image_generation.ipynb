{
 "cells": [
  {
   "cell_type": "markdown",
   "metadata": {},
   "source": [
    "### Show quantile estimation with SGD  \"works\"\n",
    "\n",
    "1. Test datasets:\n",
    "    - Mixsture of 5 Gaussians\n",
    "    - Sample of 100k from no.1\n",
    "    - Gausian $\\mu = 2, \\sigma = 18$\n",
    "    - Gausian $\\mu = 0, \\sigma = 0.001$\n",
    "    - Sample 100 from no.1\n",
    "    - Sample 100 from no.3\n",
    "    - Exponential $\\lambda$\n",
    "    - My weird distribution lol\n",
    "    \n",
    "4. Test times:\n",
    "    - 10 $\\times$ dataset generation\n",
    "    - 10 $\\times$ SGD ???\n",
    "    - 10 $\\times$ shuffle (does the order matter?)\n",
    "    \n",
    "2. Q value: 0.1, 0.3, 0.5, 0.9, 0.99 \n",
    "\n",
    "3. Step size: \n",
    "    - $\\alpha_k = 1$\n",
    "    - $\\alpha_k = \\frac{2}{\\sqrt{k}}$\n",
    "    - $\\alpha_k = \\frac{0.002}{\\sqrt{k}}$\n",
    "    - ?\n",
    "    - ?\n",
    "    - Why's the Newton method helpful?\n",
    "       \n",
    "5. Calculate $E = |q_{batch} - q_{sgd}|$\n",
    "\n",
    "6. What's a small value of $E$?\n",
    "\n",
    "7. Investigate the effect of datasize N\n",
    "    - Convergence rate with same $\\alpha_k$?\n",
    "    - Different Q values?\n",
    "    - ?"
   ]
  },
  {
   "cell_type": "code",
   "execution_count": 10,
   "metadata": {},
   "outputs": [],
   "source": [
    "%matplotlib inline\n",
    "\n",
    "import io, os, sys, types\n",
    "from IPython import get_ipython\n",
    "from nbformat import read\n",
    "from IPython.core.interactiveshell import InteractiveShell\n",
    "\n",
    "\n",
    "import numpy as np\n",
    "import matplotlib.pyplot as plt\n",
    "import import_ipynb\n",
    "from plt_quantile_comparison import plot_quantile_shuffles, plot_quantile_generations"
   ]
  },
  {
   "cell_type": "code",
   "execution_count": 2,
   "metadata": {},
   "outputs": [],
   "source": [
    "q_vals = [0.1, 0.3, 0.5, 0.9, 0.99]\n",
    "N_generation = 12\n",
    "N_shuffle = 10\n",
    "N_q = len(q_vals)"
   ]
  },
  {
   "cell_type": "code",
   "execution_count": 3,
   "metadata": {},
   "outputs": [],
   "source": [
    "def generate_dataset(distro, data_size):\n",
    "    return np.random.normal(0, 0.1, (3,4))"
   ]
  },
  {
   "cell_type": "code",
   "execution_count": 4,
   "metadata": {},
   "outputs": [],
   "source": [
    "def generate_q_batches((distro, data_size, test_generations)):\n",
    "    return np.random.normal(0, 1, N_q)"
   ]
  },
  {
   "cell_type": "code",
   "execution_count": 5,
   "metadata": {},
   "outputs": [],
   "source": [
    "def generate_q_sgds(dataset, step_size, test_generations):\n",
    "    return np.random.uniform(0, 2, N_q)"
   ]
  },
  {
   "cell_type": "code",
   "execution_count": 35,
   "metadata": {},
   "outputs": [],
   "source": [
    "def generate_qs(distro, data_size, test_generations):\n",
    "    q_batches = 1\n",
    "    q_sgds = 2\n",
    "    return q_batches, q_sgds"
   ]
  },
  {
   "cell_type": "code",
   "execution_count": 36,
   "metadata": {},
   "outputs": [],
   "source": [
    "def compare_distributions(q_batches, q_sgds, distro, data_size, step_size, test_generations=False):\n",
    "#     q_batches = np.zeros((N_generation, N_q))\n",
    "#     q_sgds = np.zeros((N_generation, N_shuffle, N_q))\n",
    "    \n",
    "#     # generate datasets\n",
    "#     for i in range(N_generation):\n",
    "#         dataset = generate_dataset(distro, data_size)\n",
    "#         q_batch = generate_q_batch(dataset)\n",
    "#         q_batches[i] = q_batch\n",
    "\n",
    "#         # shuffle\n",
    "#         for j in range(10):\n",
    "#             np.random.shuffle(dataset)\n",
    "#             q_sgd   = generate_q_sgd(dataset, step_size)\n",
    "#             q_sgds[i][j] = q_sgd\n",
    "            \n",
    "#     draw_image(q_batches, q_sgds)\n",
    "# #     print (q_batches)\n",
    "    print('distro')\n",
    "    return None\n",
    "\n",
    "# compare_distributions(True, True, False)"
   ]
  },
  {
   "cell_type": "code",
   "execution_count": 45,
   "metadata": {},
   "outputs": [],
   "source": [
    "def compare_step_sizes(q_batches, q_sgds, distro, data_size, step_size, test_generations=False):\n",
    "    print('step size')\n",
    "    return"
   ]
  },
  {
   "cell_type": "code",
   "execution_count": 46,
   "metadata": {},
   "outputs": [],
   "source": [
    "def compare_data_sizes(q_batches, q_sgds, distro, data_size, step_size, test_generations=False):\n",
    "    print('data size')\n",
    "    return"
   ]
  },
  {
   "cell_type": "code",
   "execution_count": 47,
   "metadata": {},
   "outputs": [],
   "source": [
    "def compare_data(feature, distro, data_size, step_size, test_generations=False):\n",
    "    q_batches, q_sgds = generate_qs(distro, data_size, test_generations)\n",
    "    if feature=='distro':\n",
    "        compare_distributions(q_batches, q_sgds, distro, data_size, step_size, test_generations)\n",
    "    elif feature=='step size':\n",
    "        compare_step_sizes(q_batches, q_sgds, distro, data_size, step_size, test_generations)\n",
    "    elif feature=='data size':\n",
    "        compare_data_sizes(q_batches, q_sgds, distro, data_size, step_size, test_generations)\n",
    "    else:\n",
    "        raise Exception(\n",
    "            'Cannot compare data with regard to {}, please try one of the following: \\n distro \\n step size \\n data size'.format(feature))\n",
    "    return"
   ]
  },
  {
   "cell_type": "code",
   "execution_count": 48,
   "metadata": {},
   "outputs": [
    {
     "name": "stdout",
     "output_type": "stream",
     "text": [
      "data size\n"
     ]
    }
   ],
   "source": [
    "compare_data(feature='data size', distro=1, data_size=2, step_size=3)"
   ]
  },
  {
   "cell_type": "code",
   "execution_count": null,
   "metadata": {},
   "outputs": [],
   "source": []
  },
  {
   "cell_type": "code",
   "execution_count": null,
   "metadata": {},
   "outputs": [],
   "source": []
  }
 ],
 "metadata": {
  "kernelspec": {
   "display_name": "Python 3",
   "language": "python",
   "name": "python3"
  },
  "language_info": {
   "codemirror_mode": {
    "name": "ipython",
    "version": 3
   },
   "file_extension": ".py",
   "mimetype": "text/x-python",
   "name": "python",
   "nbconvert_exporter": "python",
   "pygments_lexer": "ipython3",
   "version": "3.6.4"
  }
 },
 "nbformat": 4,
 "nbformat_minor": 2
}
