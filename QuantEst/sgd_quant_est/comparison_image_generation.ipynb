{
 "cells": [
  {
   "cell_type": "markdown",
   "metadata": {},
   "source": [
    "### Show quantile estimation with SGD  \"works\"\n",
    "\n",
    "1. Test datasets:\n",
    "    - Mixsture of 5 Gaussians\n",
    "    - Sample of 100k from no.1\n",
    "    - Gausian $\\mu = 2, \\sigma = 18$\n",
    "    - Gausian $\\mu = 0, \\sigma = 0.001$\n",
    "    - Sample 100 from no.1\n",
    "    - Sample 100 from no.3\n",
    "    - Exponential $\\lambda$\n",
    "    - My weird distribution lol\n",
    "    \n",
    "4. Test times:\n",
    "    - 10 $\\times$ dataset generation\n",
    "    - 10 $\\times$ SGD ???\n",
    "    - 10 $\\times$ shuffle (does the order matter?)\n",
    "    \n",
    "2. Q value: 0.1, 0.3, 0.5, 0.9, 0.99 \n",
    "\n",
    "3. Step size: \n",
    "    - $\\alpha_k = 1$\n",
    "    - $\\alpha_k = \\frac{2}{\\sqrt{k}}$\n",
    "    - $\\alpha_k = \\frac{0.002}{\\sqrt{k}}$\n",
    "    - ?\n",
    "    - ?\n",
    "    - Why's the Newton method helpful?\n",
    "       \n",
    "5. Calculate $E = |q_{batch} - q_{sgd}|$\n",
    "\n",
    "6. What's a small value of $E$?\n",
    "\n",
    "7. Investigate the effect of datasize N\n",
    "    - Convergence rate with same $\\alpha_k$?\n",
    "    - Different Q values?\n",
    "    - ?"
   ]
  },
  {
   "cell_type": "code",
   "execution_count": 1,
   "metadata": {},
   "outputs": [
    {
     "name": "stdout",
     "output_type": "stream",
     "text": [
      "importing Jupyter notebook from plt_quantile_comparison.ipynb\n"
     ]
    }
   ],
   "source": [
    "%matplotlib inline\n",
    "\n",
    "import io, os, sys, types\n",
    "from IPython import get_ipython\n",
    "from nbformat import read\n",
    "from IPython.core.interactiveshell import InteractiveShell\n",
    "\n",
    "\n",
    "import numpy as np\n",
    "import matplotlib.pyplot as plt\n",
    "import import_ipynb\n",
    "from plt_quantile_comparison import plot_quantile_shuffles, plot_quantile_generations"
   ]
  },
  {
   "cell_type": "code",
   "execution_count": 2,
   "metadata": {},
   "outputs": [],
   "source": [
    "distro_list = ['mix_gau', 'gau 1', 'gau 2', 'exp', 'my_distro']\n",
    "\n",
    "q_vals = [0.1, 0.3, 0.5, 0.9, 0.99]\n",
    "N_g = 12 # N_generation\n",
    "N_s = 10 # N_shuffle\n",
    "\n",
    "N_q = len(q_vals)"
   ]
  },
  {
   "cell_type": "code",
   "execution_count": 3,
   "metadata": {},
   "outputs": [],
   "source": [
    "# all of the inputs are in the form of list\n",
    "# e.g. distro = [mix_gaussian], datasize = [100, 100000], stepsize = [2]\n",
    "def get_n_comp(distro, datasize, stepsize):\n",
    "    print ('get_compared_setting()', distro, datasize, stepsize)\n",
    "    if len(distro) > 1:\n",
    "        if len(datasize)!= 1 or len(stepsize)!=1:\n",
    "            raise Exception('The number of comp_setting is incorrect')\n",
    "        return len(distro)\n",
    "    elif len(datasize) > 1:\n",
    "        if len(stepsize)!=1:\n",
    "            raise Exception('The number of comp_setting is incorrect')        \n",
    "        return len(datasize)\n",
    "    elif len(stepsize) > 1:\n",
    "        print ('step size')\n",
    "        return len(stepsize)\n",
    "    raise Exception('The number of comp_setting is incorrect')\n",
    "\n",
    "def generate_setting_lst(distro, datasize, q_lst, g_test, s_test):\n",
    "    setting_lst = []\n",
    "    if len(distro)>1:\n",
    "        for dis in distro:\n",
    "            setting_lst.append([dis, datasize[0], q_lst, g_test, s_test])\n",
    "    else:\n",
    "        for size in datasize:\n",
    "            setting_lst.append([distro[0], size, q_lst, g_test, s_test])\n",
    "    return setting_lst"
   ]
  },
  {
   "cell_type": "code",
   "execution_count": 4,
   "metadata": {},
   "outputs": [
    {
     "data": {
      "text/plain": [
       "[[1, 1, [0.1, 0.3, 0.5, 0.9, 0.99], False, False],\n",
       " [2, 1, [0.1, 0.3, 0.5, 0.9, 0.99], False, False],\n",
       " [3, 1, [0.1, 0.3, 0.5, 0.9, 0.99], False, False],\n",
       " [4, 1, [0.1, 0.3, 0.5, 0.9, 0.99], False, False]]"
      ]
     },
     "execution_count": 4,
     "metadata": {},
     "output_type": "execute_result"
    }
   ],
   "source": [
    "generate_setting_lst([1, 2, 3, 4], [1], q_vals, False, False)"
   ]
  },
  {
   "cell_type": "markdown",
   "metadata": {},
   "source": [
    "### Dataset and quantile generation"
   ]
  },
  {
   "cell_type": "code",
   "execution_count": 5,
   "metadata": {},
   "outputs": [],
   "source": [
    "# distro_list = ['mix_gau', 'gau 1', 'gau 2', 'exp', 'my_distro']\n",
    "\n",
    "def generate_single_dataset(distro, datasize):\n",
    "    if distro == 'gau 1':\n",
    "        return np.random.normal(2, 18, datasize)\n",
    "    elif distro == 'gau 2':\n",
    "        return np.random.normal(0, 0.001, datasize)\n",
    "    elif distro == 'mix':\n",
    "        sizes = np.array([0.3, 0.2, 0.1, 0.15, 0.25]) * datasize\n",
    "        d1 = np.random.normal(2.0, 7.0, int(sizes[0]))\n",
    "        d2 = np.random.normal(0, 3.7, int(sizes[1]))\n",
    "        d3 = np.random.normal(-9, 7, int(sizes[2]))\n",
    "        d4 = np.random.normal(5, 77, int(sizes[3]))\n",
    "        d5 = np.random.normal(-7, 7, int(sizes[4]))\n",
    "        mix_lst = np.append(d1, np.append(d2, np.append(d3, np.append(d4, d5))))\n",
    "        np.random.shuffle(mix_lst)\n",
    "        return mix_lst\n",
    "    elif distro == 'exp':\n",
    "        return np.random.exponential(scale=1, size=datasize)\n",
    "\n"
   ]
  },
  {
   "cell_type": "code",
   "execution_count": 6,
   "metadata": {},
   "outputs": [],
   "source": [
    "# data = generate_single_dataset('gau 1', 1000)\n",
    "# data2 = generate_single_dataset('gau 2', 1000)\n",
    "# data_mix = generate_single_dataset('mix', 100000)\n",
    "# data_exp = generate_single_dataset('exp', 1000)\n",
    "\n",
    "# num_bins = 100\n",
    "# plt.hist([data, data2], num_bins, alpha = 0.5, label=['a', 'b'])\n",
    "# plt.hist(data_mix, num_bins, alpha = 0.5, label='mix')\n",
    "# plt.hist(data_exp, num_bins, alpha = 0.5, label='mix')\n",
    "# plt.legend()\n",
    "# plt.show()"
   ]
  },
  {
   "cell_type": "code",
   "execution_count": 7,
   "metadata": {},
   "outputs": [],
   "source": [
    "def generate_dataset(distro, datasize, g_test, s_test):\n",
    "#     print ('generate_dataset', distro, datasize, g_test, s_test)\n",
    "#     shape of dataset: 1*Datasize,\n",
    "    if not g_test and not s_test:\n",
    "        return generate_single_dataset(distro, datasize)\n",
    "            \n",
    "    elif g_test and not s_test:\n",
    "        generated_dt = np.zeros((N_g, datasize))\n",
    "        for i in range(N_g):\n",
    "            generated_dt[i] = generate_single_dataset(distro, datasize)\n",
    "        return generated_dt\n",
    "    \n",
    "    elif s_test and not g_test:\n",
    "        shuffled_dt = np.zeros((N_s, datasize))\n",
    "        dt = generate_single_dataset(distro, datasize)\n",
    "        for i in range(N_s): \n",
    "            np.random.shuffle(dt)\n",
    "            shuffled_dt[i] = dt\n",
    "        return shuffled_dt\n",
    "        \n",
    "    dataset = np.zeros((N_g, N_s, datasize))\n",
    "    for gen_id in range(N_g):\n",
    "        dt = generate_single_dataset(distro, datasize)\n",
    "        for shu_id in range(N_s):\n",
    "#             print (gen_id, shu_id)\n",
    "            np.random.shuffle(dt)\n",
    "            dataset[gen_id][shu_id] = dt\n",
    "    return dataset\n"
   ]
  },
  {
   "cell_type": "code",
   "execution_count": 8,
   "metadata": {},
   "outputs": [],
   "source": [
    "def test_generate_dataset():\n",
    "    distro = 'mix'\n",
    "    datasize = 10000\n",
    "\n",
    "    data_shuffle = generate_dataset(distro, datasize, False, True)\n",
    "    data_gen = generate_dataset(distro, datasize, True, False)\n",
    "\n",
    "    fig, (ax1, ax2) = plt.subplots(2,1,sharex=True)\n",
    "    fig.set_size_inches(17, 12)\n",
    "    num_bins = 100\n",
    "    ax1.hist([dt for dt in data_shuffle[:3]], num_bins, alpha = 0.5, label=[str(i) for i in range(20)])\n",
    "    ax1.legend()\n",
    "    ax2.hist([dt for dt in data_gen[:3]], num_bins, alpha = 0.5, label=[str(i) for i in range(20)])\n",
    "    ax2.legend()\n",
    "    plt.show()\n",
    "# test_generate_dataset()"
   ]
  },
  {
   "cell_type": "code",
   "execution_count": 96,
   "metadata": {},
   "outputs": [],
   "source": [
    "def generate_q_batches_single_dataset(dataset, q_lst):\n",
    "    q_batches = np.zeros(len(q_lst))\n",
    "    for i in range(len(q_lst)):\n",
    "        q_batches[i] = np.percentile(dataset, q_lst[i]*100)\n",
    "    return q_batches\n",
    "\n",
    "\n",
    "def generate_q_batches(dataset, q_lst, g_test, s_test):\n",
    "#     print ('generate_q_batches', dataset, g_test, s_test)\n",
    "    if not g_test:\n",
    "        if s_test:\n",
    "            return generate_q_batches_single_dataset(dataset[0], q_lst)\n",
    "        else: \n",
    "            return generate_q_batches_single_dataset(dataset, q_lst)\n",
    "    else:\n",
    "        N_g = dataset.shape[0]\n",
    "        q_batches = np.zeros((N_g, len(q_lst)))\n",
    "        for i in range(N_g):\n",
    "            if not s_test:\n",
    "                q_batches[i] = generate_q_batches_single_dataset(dataset[i], q_lst)\n",
    "            else:\n",
    "                q_batches[i] = generate_q_batches_single_dataset(dataset[i][0], q_lst)\n",
    "        return q_batches"
   ]
  },
  {
   "cell_type": "code",
   "execution_count": 97,
   "metadata": {},
   "outputs": [],
   "source": [
    "def generate_reusable_data(distro, datasize, q_lst, g_test, s_test):\n",
    "    print ('generate_reusable_data', (distro, datasize, q_lst, g_test, s_test))\n",
    "    dataset = generate_dataset(distro, datasize, g_test, s_test)\n",
    "    q_batches = generate_q_batches(dataset, q_lst, g_test, s_test)\n",
    "    return dataset, q_batches\n",
    "\n",
    "def generate_q_sgds(dataset, stepsize, q_lst, g_test, s_test):\n",
    "#     q_sgd_proc = generate_q_sgd_proc(dataset, stepsize, q_lst, g_test, s_test)\n",
    "#     q_sgd_res  = generate_q_sgd_res(q_sgd_proc)\n",
    "#     return q_sgd_res, q_sgd_proc \n",
    "    return 0, 1"
   ]
  },
  {
   "cell_type": "code",
   "execution_count": 101,
   "metadata": {},
   "outputs": [
    {
     "name": "stdout",
     "output_type": "stream",
     "text": [
      "generate_reusable_data ('exp', 1000000, [0.1, 0.3, 0.5, 0.9, 0.99], True, True)\n",
      "(12, 10, 1000000) \n",
      " 1.0001941930387976 1.0004488840075143 0.6931827223233628\n",
      "[[0.10538998 0.35720256 0.69365347 2.30415313 4.6134684 ]\n",
      " [0.10499811 0.35671514 0.69226767 2.30654708 4.63248386]\n",
      " [0.10542005 0.35736    0.69267026 2.30316242 4.62886745]\n",
      " [0.1055961  0.35653373 0.69407181 2.30105097 4.58915584]\n",
      " [0.10545599 0.35584976 0.69243862 2.3037391  4.61686452]\n",
      " [0.10549272 0.35590751 0.69209942 2.30179256 4.60381618]\n",
      " [0.10581347 0.35648046 0.69360164 2.30411823 4.604285  ]\n",
      " [0.10609764 0.3579037  0.69327699 2.29976107 4.61255554]\n",
      " [0.10556783 0.35690718 0.69388946 2.30605824 4.61118002]\n",
      " [0.10551677 0.35675801 0.69335542 2.30141322 4.59250822]\n",
      " [0.10545847 0.35608252 0.69290431 2.30110405 4.61198041]\n",
      " [0.10490853 0.35753267 0.69414946 2.30320757 4.59399617]]\n"
     ]
    }
   ],
   "source": [
    "dataset, q_batches = generate_reusable_data('exp', 1000000, q_vals, True, True)\n",
    "print(dataset.shape, '\\n',\n",
    "      dataset.mean(), dataset.std(), np.median(dataset))\n",
    "print(q_batches)"
   ]
  },
  {
   "cell_type": "markdown",
   "metadata": {},
   "source": [
    "### Plots generation"
   ]
  },
  {
   "cell_type": "code",
   "execution_count": 136,
   "metadata": {},
   "outputs": [],
   "source": [
    "def draw_charts(q_batches, q_sgd_res, q_sgd_proc, g_test, s_test, charts):\n",
    "#     return plts\n",
    "    return 4\n",
    "\n",
    "def draw_tables(q_batches, q_sgd_res, q_sgd_proc, g_test, s_test, charts):\n",
    "#     return tbls\n",
    "    return 5"
   ]
  },
  {
   "cell_type": "code",
   "execution_count": 137,
   "metadata": {},
   "outputs": [],
   "source": [
    "# Conduct experiments on quantile estimation with SGD with regards to different aspects\n",
    "# Experiment results are shown in charts and tables\n",
    "# \n",
    "# Return: None? or charts and figures\n",
    "#\n",
    "# Inputs: \n",
    "#     1. Parameters for the experiments\n",
    "#         - Settings to change: one of {distro, datasize, stepsize} (all elements are lists/dict)\n",
    "#         - Settings to control: the left two of {distro, datasize, stepsize}\n",
    "#                                g_test, s_test\n",
    "#     2. Values to show in the results\n",
    "#         - q_values to be compared\n",
    "#         - charts to be showen in {plt_res, plt_proc, plt_e}\n",
    "#         - tables to be shown in {tbl_res, tbl_proc}\n",
    "\n",
    "def quantile_sgd_compare(distro, datasize, stepsize, \n",
    "                            g_test=False, s_test=False, q_lst=q_vals, \n",
    "                           charts={'plt_res', 'plt_proc', 'plt_e'}, tables={'tbl_res, tbl_proc'}):\n",
    "    dataset, q_batches = 0, 0\n",
    "    N_comp = get_n_comp(distro, datasize, stepsize)\n",
    "    if len(stepsize)!=1:\n",
    "        setting_lst = generate_setting_lst(distro, datasize, q_lst, g_test, s_test)\n",
    "    else:\n",
    "        dataset, q_batches = generate_reusable_data(distro, datasize, q_lst, g_test, s_test)\n",
    "        \n",
    "    # for each round, generate all data and comparison results\n",
    "    for i in range(N_comp):\n",
    "        if len(setting_lst)!=1:\n",
    "            print (\"generate the {}th dataset and q_batches\".format(i))\n",
    "            lst = setting_lst[i]\n",
    "            distro, datasize, q_lst, g_test, s_test = lst[0], lst[1], lst[2], lst[3], lst[4]\n",
    "            dataset, q_batches = generate_reusable_data(distro, datasize, q_lst, g_test, s_test)\n",
    "            q_sgd_res, q_sgd_proc = generate_q_sgds(dataset, stepsize, q_lst, g_test, s_test)\n",
    "        else:\n",
    "            print ('different q_sgd', i)\n",
    "            q_sgd_res, q_sgd_proc = generate_q_sgds(dataset, stepsize[i], q_lst, g_test, s_test)\n",
    "        plts = draw_charts(q_batches, q_sgd_res, q_sgd_proc, g_test, s_test, charts)\n",
    "        tbls = draw_tables(q_batches, q_sgd_res, q_sgd_proc, g_test, s_test, tables)\n",
    "    # have them together?\n",
    "    \n",
    "    return\n",
    "    "
   ]
  },
  {
   "cell_type": "code",
   "execution_count": 138,
   "metadata": {},
   "outputs": [
    {
     "name": "stdout",
     "output_type": "stream",
     "text": [
      "get_compared_setting() [1] [2] [4, 5]\n",
      "step size\n",
      "different q_sgd 0\n",
      "different q_sgd 1\n"
     ]
    }
   ],
   "source": [
    "quantile_sgd_compare([1], [2], [4,5])"
   ]
  },
  {
   "cell_type": "code",
   "execution_count": 50,
   "metadata": {},
   "outputs": [],
   "source": [
    "# plt: errorbar\n",
    "# https://matplotlib.org/3.1.1/gallery/lines_bars_and_markers/errorbar_subsample.html#sphx-glr-gallery-lines-bars-and-markers-errorbar-subsample-py"
   ]
  }
 ],
 "metadata": {
  "kernelspec": {
   "display_name": "Python 3",
   "language": "python",
   "name": "python3"
  },
  "language_info": {
   "codemirror_mode": {
    "name": "ipython",
    "version": 3
   },
   "file_extension": ".py",
   "mimetype": "text/x-python",
   "name": "python",
   "nbconvert_exporter": "python",
   "pygments_lexer": "ipython3",
   "version": "3.6.4"
  }
 },
 "nbformat": 4,
 "nbformat_minor": 2
}
