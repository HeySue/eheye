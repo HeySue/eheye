{
 "cells": [
  {
   "cell_type": "markdown",
   "metadata": {},
   "source": [
    "### Show quantile estimation with SGD  \"works\"\n",
    "\n",
    "1. Test datasets:\n",
    "    - Mixsture of 5 Gaussians\n",
    "    - Sample of 100k from no.1\n",
    "    - Gausian $\\mu = 2, \\sigma = 18$\n",
    "    - Gausian $\\mu = 0, \\sigma = 0.001$\n",
    "    - Sample 100 from no.1\n",
    "    - Sample 100 from no.3\n",
    "    - Exponential $\\lambda$\n",
    "    - My weird distribution lol\n",
    "    \n",
    "4. Test times:\n",
    "    - 10 $\\times$ dataset generation\n",
    "    - 10 $\\times$ SGD ???\n",
    "    - 10 $\\times$ shuffle (does the order matter?)\n",
    "    \n",
    "2. Q value: 0.1, 0.3, 0.5, 0.9, 0.99 \n",
    "\n",
    "3. Step size: \n",
    "    - $\\alpha_k = 1$\n",
    "    - $\\alpha_k = \\frac{2}{\\sqrt{k}}$\n",
    "    - $\\alpha_k = \\frac{0.002}{\\sqrt{k}}$\n",
    "    - ?\n",
    "    - ?\n",
    "    - Why's the Newton method helpful?\n",
    "       \n",
    "5. Calculate $E = |q_{batch} - q_{sgd}|$\n",
    "\n",
    "6. What's a small value of $E$?\n",
    "\n",
    "7. Investigate the effect of datasize N\n",
    "    - Convergence rate with same $\\alpha_k$?\n",
    "    - Different Q values?\n",
    "    - ?"
   ]
  },
  {
   "cell_type": "code",
   "execution_count": 1,
   "metadata": {},
   "outputs": [],
   "source": [
    "%matplotlib inline\n",
    "\n",
    "import io, os, sys, types\n",
    "from IPython import get_ipython\n",
    "from nbformat import read\n",
    "from IPython.core.interactiveshell import InteractiveShell\n",
    "\n",
    "import math\n",
    "import numpy as np\n",
    "import matplotlib.pyplot as plt\n",
    "import matplotlib.colors as colors\n",
    "import matplotlib.cm as cmx\n",
    "\n",
    "\n",
    "# import import_ipynb\n",
    "# from plt_quantile_comparison import plot_quantile_shuffles, plot_quantile_generations"
   ]
  },
  {
   "cell_type": "code",
   "execution_count": 539,
   "metadata": {},
   "outputs": [],
   "source": [
    "distro_list = ['mix', 'gau 1', 'gau 2', 'exp']\n",
    "stepsize_list = ['const', '2/sqrt_k', '0.002/sqrt_k']\n",
    "\n",
    "tau_vals = [0.1, 0.3, 0.5, 0.9, 0.99]\n",
    "N_g = 12 # N_generation\n",
    "N_s = 10 # N_shuffle\n",
    "\n",
    "N_q = len(tau_vals)\n",
    "\n",
    "c_Norm = colors.Normalize(vmin=0, vmax=1)\n",
    "scalarMap = cmx.ScalarMappable(norm=c_Norm, cmap=plt.get_cmap('cool'))"
   ]
  },
  {
   "cell_type": "code",
   "execution_count": 440,
   "metadata": {},
   "outputs": [],
   "source": [
    "# all of the inputs are in the form of list\n",
    "# e.g. distro = [mix_gaussian], datasize = [100, 100000], stepsize = [2]\n",
    "def get_n_comp(distro, datasize, stepsize):\n",
    "    print ('get_compared_setting()', distro, datasize, stepsize)\n",
    "    if len(distro) > 1:\n",
    "        if len(datasize)!= 1 or len(stepsize)!=1:\n",
    "            raise Exception('The number of comp_setting is incorrect')\n",
    "        return len(distro)\n",
    "    elif len(datasize) > 1:\n",
    "        if len(stepsize)!=1:\n",
    "            raise Exception('The number of comp_setting is incorrect')        \n",
    "        return len(datasize)\n",
    "    elif len(stepsize) > 1:\n",
    "        print ('step size')\n",
    "        return len(stepsize)\n",
    "    raise Exception('The number of comp_setting is incorrect')\n",
    "\n",
    "def generate_setting_lst(distro, datasize, q_lst, g_test, s_test):\n",
    "    setting_lst = []\n",
    "    if len(distro)>1:\n",
    "        for dis in distro:\n",
    "            setting_lst.append([dis, datasize[0], q_lst, g_test, s_test])\n",
    "    else:\n",
    "        for size in datasize:\n",
    "            setting_lst.append([distro[0], size, q_lst, g_test, s_test])\n",
    "    print (setting_lst)\n",
    "    return setting_lst"
   ]
  },
  {
   "cell_type": "markdown",
   "metadata": {},
   "source": [
    "### Dataset and quantile generation"
   ]
  },
  {
   "cell_type": "markdown",
   "metadata": {},
   "source": [
    "#### Helping functions for data generation"
   ]
  },
  {
   "cell_type": "code",
   "execution_count": 441,
   "metadata": {},
   "outputs": [],
   "source": [
    "# distro_list = ['mix_gau', 'gau 1', 'gau 2', 'exp', 'my_distro']\n",
    "\n",
    "def generate_single_dataset(distro, datasize):\n",
    "    if distro == 'gau 1':\n",
    "        return np.random.normal(2, 18, datasize)\n",
    "    elif distro == 'gau 2':\n",
    "        return np.random.normal(0, 0.001, datasize)\n",
    "    elif distro == 'mix':\n",
    "        sizes = np.array([0.3, 0.2, 0.1, 0.15, 0.25]) * datasize\n",
    "        d1 = np.random.normal(2.0, 7.0, int(sizes[0]))\n",
    "        d2 = np.random.normal(0, 3.7, int(sizes[1]))\n",
    "        d3 = np.random.normal(-9, 7, int(sizes[2]))\n",
    "        d4 = np.random.normal(5, 77, int(sizes[3]))\n",
    "        d5 = np.random.normal(-7, 7, int(sizes[4]))\n",
    "        mix_lst = np.append(d1, np.append(d2, np.append(d3, np.append(d4, d5))))\n",
    "        np.random.shuffle(mix_lst)\n",
    "        return mix_lst\n",
    "    elif distro == 'exp':\n",
    "        return np.random.exponential(scale=1, size=datasize)"
   ]
  },
  {
   "cell_type": "code",
   "execution_count": 442,
   "metadata": {},
   "outputs": [],
   "source": [
    "def generate_dataset(distro, datasize, g_test, s_test):\n",
    "#     print ('generate_dataset', distro, datasize, g_test, s_test)\n",
    "#     shape of dataset: 1*Datasize,\n",
    "    if not g_test and not s_test:\n",
    "        return generate_single_dataset(distro, datasize)\n",
    "            \n",
    "    elif g_test and not s_test:\n",
    "        generated_dt = np.zeros((N_g, datasize))\n",
    "        for i in range(N_g):\n",
    "            generated_dt[i] = generate_single_dataset(distro, datasize)\n",
    "        return generated_dt\n",
    "    \n",
    "    elif s_test and not g_test:\n",
    "        shuffled_dt = np.zeros((N_s, datasize))\n",
    "        dt = generate_single_dataset(distro, datasize)\n",
    "        for i in range(N_s): \n",
    "            np.random.shuffle(dt)\n",
    "            shuffled_dt[i] = dt\n",
    "        return shuffled_dt\n",
    "        \n",
    "    dataset = np.zeros((N_g, N_s, datasize))\n",
    "    for gen_id in range(N_g):\n",
    "        dt = generate_single_dataset(distro, datasize)\n",
    "        for shu_id in range(N_s):\n",
    "#             print (gen_id, shu_id)\n",
    "            np.random.shuffle(dt)\n",
    "            dataset[gen_id][shu_id] = dt\n",
    "    return dataset"
   ]
  },
  {
   "cell_type": "code",
   "execution_count": 443,
   "metadata": {},
   "outputs": [],
   "source": [
    "def test_generate_dataset():\n",
    "    distro = 'mix'\n",
    "    datasize = 10000\n",
    "\n",
    "    data_shuffle = generate_dataset(distro, datasize, False, True)\n",
    "    data_gen = generate_dataset(distro, datasize, True, False)\n",
    "\n",
    "    fig, (ax1, ax2) = plt.subplots(2,1,sharex=True)\n",
    "    fig.set_size_inches(17, 12)\n",
    "    num_bins = 100\n",
    "    ax1.hist([dt for dt in data_shuffle[:3]], num_bins, alpha = 0.5, label=[str(i) for i in range(20)])\n",
    "    ax1.legend()\n",
    "    ax2.hist([dt for dt in data_gen[:3]], num_bins, alpha = 0.5, label=[str(i) for i in range(20)])\n",
    "    ax2.legend()\n",
    "    plt.show()\n",
    "# test_generate_dataset()"
   ]
  },
  {
   "cell_type": "markdown",
   "metadata": {},
   "source": [
    "#### Helping functions for q_batches"
   ]
  },
  {
   "cell_type": "code",
   "execution_count": 444,
   "metadata": {},
   "outputs": [],
   "source": [
    "def generate_q_batches_single_dataset(dataset, q_lst):\n",
    "    q_batches = np.zeros(len(q_lst))\n",
    "    for i in range(len(q_lst)):\n",
    "        q_batches[i] = np.percentile(dataset, q_lst[i]*100)\n",
    "    return q_batches\n",
    "\n",
    "# test\n",
    "# generate_q_batches_single_dataset(dataset, [0])[0] == min(dataset) and generate_q_batches_single_dataset(dataset, [1])[0] == max(dataset)\n",
    "\n",
    "def generate_q_batches(dataset, q_lst, g_test, s_test):\n",
    "#     print ('generate_q_batches', dataset, g_test, s_test)\n",
    "    if not g_test:\n",
    "        if s_test:\n",
    "            return generate_q_batches_single_dataset(dataset[0], q_lst)\n",
    "        else: \n",
    "            return generate_q_batches_single_dataset(dataset, q_lst)\n",
    "    else:\n",
    "        N_g = dataset.shape[0]\n",
    "        q_batches = np.zeros((N_g, len(q_lst)))\n",
    "        for i in range(N_g):\n",
    "            if not s_test:\n",
    "                q_batches[i] = generate_q_batches_single_dataset(dataset[i], q_lst)\n",
    "            else:\n",
    "                q_batches[i] = generate_q_batches_single_dataset(dataset[i][0], q_lst)\n",
    "        return q_batches"
   ]
  },
  {
   "cell_type": "code",
   "execution_count": 445,
   "metadata": {},
   "outputs": [
    {
     "data": {
      "text/plain": [
       "array([69. , 69. , 69. , 97. , 97. , 97. , 97. , 97. , 97. , 97. , 96.9,\n",
       "       96.8, 96.7, 96.6, 96.5, 96.4, 96.3, 96.2, 96.1, 96. , 95.9, 95.8,\n",
       "       95.7, 95.6, 95.5, 95.4, 95.3, 95.2, 95.1, 95. , 94.9, 94.8, 94.7,\n",
       "       94.6, 94.5, 94.4, 94.3, 94.2, 94.1, 94. , 93.9, 93.8, 93.7, 94.6,\n",
       "       94.5, 94.4, 94.3, 94.2, 94.1, 94. , 93.9, 93.8, 93.7, 94.6, 94.5,\n",
       "       94.4, 94.3, 94.2, 94.1, 94. , 93.9, 93.8, 93.7, 93.6, 93.5, 93.4,\n",
       "       93.3, 93.2, 93.1, 93. , 92.9, 92.8, 92.7, 92.6, 92.5, 92.4, 92.3,\n",
       "       92.2, 92.1, 92. , 91.9, 91.8, 92.7, 92.6, 92.5, 92.4, 92.3, 92.2,\n",
       "       92.1, 93. , 92.9, 92.8, 92.7, 93.6, 93.5, 93.4, 93.3, 93.2, 93.1,\n",
       "       93. ])"
      ]
     },
     "execution_count": 445,
     "metadata": {},
     "output_type": "execute_result"
    }
   ],
   "source": [
    "def sgd_init_changed(dataset, stepsize, tau, q_init=0):\n",
    "    q_sgd_proc = np.zeros(len(dataset))\n",
    "    q = 0\n",
    "    \n",
    "    init_k = int(1.0/(min(tau, 1-tau)))\n",
    "\n",
    "    for k, x in enumerate(dataset):\n",
    "        if k < init_k:\n",
    "            q = min(q, x) if tau < 0.5 else max(q,x)\n",
    "        else:\n",
    "            alpha = set_stepsize(k+1, stepsize)\n",
    "            if x > q:\n",
    "                q += alpha*tau\n",
    "            else:\n",
    "                q -= alpha*(1-tau)\n",
    "        q_sgd_proc[k] = q\n",
    "    return q_sgd_proc\n",
    "\n",
    "dataset = np.arange(1,101)\n",
    "np.random.shuffle(dataset)\n",
    "# print (dataset)\n",
    "stepsize = 'const'\n",
    "tau = 0.9\n",
    "sgd_init_changed(dataset, stepsize, tau)"
   ]
  },
  {
   "cell_type": "markdown",
   "metadata": {},
   "source": [
    "#### Helping functions for q_sgds"
   ]
  },
  {
   "cell_type": "code",
   "execution_count": 582,
   "metadata": {},
   "outputs": [],
   "source": [
    "def set_stepsize(k, stepsize):\n",
    "    if stepsize=='const':\n",
    "        return 1\n",
    "    elif stepsize=='2/sqrt_k':\n",
    "        return 2/math.sqrt(k)\n",
    "    elif stepsize=='0.002/sqrt_k':\n",
    "        return 0.002/math.sqrt(k)\n",
    "    raise Exception('stepsize parameter is wrong')\n",
    "\n",
    "\n",
    "    \n",
    "def sgd(dataset, stepsize, tau):\n",
    "    q_sgd_proc = np.zeros(len(dataset))\n",
    "    q= 0\n",
    "    for k, x in enumerate(dataset):\n",
    "        alpha = set_stepsize(k+1, stepsize)\n",
    "        if x > q:\n",
    "            q += alpha*tau\n",
    "        else:\n",
    "            q -= alpha*(1-tau)\n",
    "        q_sgd_proc[k] = q\n",
    "    return q_sgd_proc\n",
    "\n",
    "def generate_q_sgd_proc_single_dataset(dataset, stepsize, tau_lst, modified_sgd=True):\n",
    "    q_sgd_procs = np.zeros((len(tau_lst), len(dataset)))\n",
    "    for idx, tau in enumerate(tau_lst):\n",
    "        if modified_sgd: \n",
    "            q_sgd_procs[idx] = sgd_init_changed(dataset, stepsize, tau)\n",
    "        else:\n",
    "            q_sgd_procs[idx] = sgd(dataset, stepsize, tau)\n",
    "        \n",
    "    return q_sgd_procs\n",
    "\n",
    "def generate_q_sgd_proc(dataset, stepsize, tau_lst):\n",
    "    N_q = len(tau_lst)\n",
    "    N_dim = len(dataset.shape)\n",
    "    \n",
    "    q_shape = list(dataset.shape)\n",
    "    q_shape.insert(-1, N_q)\n",
    "    filename = 'q_sgd_procs.dat'\n",
    "    q_sgd_procs = np.memmap(filename, dtype=np.float32, mode='w+', shape=tuple(q_shape))\n",
    "    \n",
    "    if N_dim==1:\n",
    "        q_sgd_procs[:] = generate_q_sgd_proc_single_dataset(dataset, stepsize, tau_lst)\n",
    "    \n",
    "    elif N_dim==2:\n",
    "        for idx, dt in enumerate(dataset):\n",
    "            q_sgd_procs[idx] = generate_q_sgd_proc_single_dataset(dt, stepsize, tau_lst)\n",
    "    \n",
    "    elif N_dim==3:\n",
    "        for g_idx, dt_g in enumerate(dataset):\n",
    "            for s_idx, dt in enumerate(dt_g):\n",
    "                q_sgd_procs[g_idx][s_idx] = generate_q_sgd_proc_single_dataset(dt, stepsize, tau_lst)\n",
    "                \n",
    "    else:  raise Exception('dataset of wrong type! check the dataset!')\n",
    "        \n",
    "    return filename, tuple(q_shape)"
   ]
  },
  {
   "cell_type": "code",
   "execution_count": 447,
   "metadata": {},
   "outputs": [],
   "source": [
    "def generate_q_sgd_res(filename, shape):\n",
    "    N_dim =len(shape)-1\n",
    "    print (N_dim)\n",
    "\n",
    "    q_sgd_proc = np.memmap(filename, dtype=np.float32, mode='r', shape=shape)\n",
    "#     print (q_sgd_proc)\n",
    "    \n",
    "    if N_dim==1:\n",
    "        return np.array(q_sgd_proc[:, -1])\n",
    "        \n",
    "    elif N_dim==2:\n",
    "        return np.array(q_sgd_proc[:,:,-1])\n",
    "    \n",
    "    elif N_dim==3:\n",
    "        return np.array(q_sgd_proc[:,:,:,-1])\n",
    "    \n",
    "    else: raise Execption('q_sgd_proc file got wrong')"
   ]
  },
  {
   "cell_type": "markdown",
   "metadata": {},
   "source": [
    "#### Main functions for data and quantile generation"
   ]
  },
  {
   "cell_type": "code",
   "execution_count": 448,
   "metadata": {},
   "outputs": [],
   "source": [
    "def generate_reusable_data(distro, datasize, q_lst, g_test, s_test):\n",
    "    print ('generate_reusable_data', (distro, datasize, q_lst, g_test, s_test))\n",
    "    dataset = generate_dataset(distro, datasize, g_test, s_test)\n",
    "    q_batches = generate_q_batches(dataset, q_lst, g_test, s_test)\n",
    "    return dataset, q_batches\n",
    "\n",
    "def generate_q_sgds(dataset, stepsize, q_lst):\n",
    "    filename, shape = generate_q_sgd_proc(dataset, stepsize, q_lst)\n",
    "    # q_sgd_procs are stored by np.memmap\n",
    "    q_sgd_res  = generate_q_sgd_res(filename, shape)\n",
    "    return q_sgd_res, filename, shape\n"
   ]
  },
  {
   "cell_type": "markdown",
   "metadata": {},
   "source": [
    "### Plots"
   ]
  },
  {
   "cell_type": "markdown",
   "metadata": {},
   "source": [
    "#### Helping functions to charts drawing"
   ]
  },
  {
   "cell_type": "code",
   "execution_count": 449,
   "metadata": {},
   "outputs": [
    {
     "name": "stdout",
     "output_type": "stream",
     "text": [
      "generate_reusable_data ('exp', 1000, [0.1, 0.3, 0.5, 0.9, 0.99], True, True)\n",
      "3\n",
      "(5, 10, 12)\n"
     ]
    }
   ],
   "source": [
    "# Generate data to test plots\n",
    "# dataset = generate_dataset(distro=distro_list[0], datasize=1000, g_test=False, s_test=False)\n",
    "dataset, q_batches = generate_reusable_data(distro=distro_list[3], datasize=1000, q_lst=tau_vals,\n",
    "                                            g_test=True, s_test=True)\n",
    "q_sgd_res, proc_filename, proc_shape = generate_q_sgds(dataset, stepsize_list[1], tau_vals)\n",
    "# print (q_batches)\n",
    "print (q_sgd_res.T.shape)"
   ]
  },
  {
   "cell_type": "code",
   "execution_count": 450,
   "metadata": {},
   "outputs": [],
   "source": [
    "def plt_stripe(tau_lst, ax, q_lst, pattern, name):\n",
    "    hist_on = (len(q_lst.shape) > 2)\n",
    "    q_lst = q_lst.T\n",
    "    for idx, q in enumerate(q_lst):\n",
    "        colorVal = scalarMap.to_rgba(tau_lst[idx])\n",
    "        lb = str(+tau_lst[idx])+name\n",
    "        if not hist_on:\n",
    "            line = ax.plot([q,q], [0,1], pattern, color=colorVal)\n",
    "            line[0].set_label(lb)\n",
    "        else:\n",
    "            bins = 30\n",
    "            line = ax.hist(q.reshape(-1), bins, color=colorVal, label=lb)\n"
   ]
  },
  {
   "cell_type": "code",
   "execution_count": 540,
   "metadata": {},
   "outputs": [
    {
     "data": {
      "image/png": "[encoded data removed]",
      "text/plain": [
       "<matplotlib.figure.Figure at 0x11aa4ca90>"
      ]
     },
     "metadata": {},
     "output_type": "display_data"
    }
   ],
   "source": [
    "def plot_spectrum_stripes(q_lst, q_batches, q_sgd_res):\n",
    "    c_Norm = colors.Normalize(vmin=0, vmax=1)\n",
    "#     scalarMap = cmx.ScalarMappable(norm=c_Norm, cmap=plt.get_cmap('cool'))\n",
    "    styles = ['-', '--']\n",
    "    names = ['-q batch', '-q sgd   ']\n",
    "    \n",
    "    fig = plt.figure(figsize=(16,4))\n",
    "    ax_batch = fig.add_subplot(211)\n",
    "    ax_sgd = fig.add_subplot(212, sharex = ax_batch)\n",
    "    fig.suptitle('Batch quantile VS SGD quantile')\n",
    "    \n",
    "    plt_stripe(q_lst, ax_batch, q_batches, styles[0], names[0])\n",
    "    plt_stripe(q_lst, ax_sgd, q_sgd_res, styles[1], names[1])\n",
    "\n",
    "    #set \n",
    "    ax_batch.set_xlabel('batch value')\n",
    "    ax_batch.xaxis.set_label_coords(0.04, 0.98)\n",
    "    ax_batch.set_yticks([])\n",
    "\n",
    "    plt.locator_params(axis='x', nbins=10)\n",
    "\n",
    "    ax_sgd.set_xlabel('sgd value')\n",
    "    ax_sgd.xaxis.set_label_coords(0.035, 0.98)\n",
    "    ax_sgd.set_yticks([])\n",
    "\n",
    "\n",
    "    # set position of legend\n",
    "    ax_batch.legend(loc='lower center', bbox_to_anchor=(0.5, -1.8),\n",
    "            frameon=False, ncol=len(q_lst))\n",
    "    ax_sgd.legend(loc='lower center', bbox_to_anchor=(0.5, -0.8),\n",
    "        frameon=False, ncol=len(q_lst))\n",
    "        \n",
    "#     return fig\n",
    "\n",
    "plot_spectrum_stripes(tau_vals, q_batches, q_sgd_res)"
   ]
  },
  {
   "cell_type": "code",
   "execution_count": 583,
   "metadata": {},
   "outputs": [
    {
     "name": "stdout",
     "output_type": "stream",
     "text": [
      "generate_reusable_data ('mix', 5000, [0.01, 0.5, 0.99], True, False)\n",
      "2\n"
     ]
    },
    {
     "data": {
      "text/plain": [
       "(12, 3, 5000)"
      ]
     },
     "execution_count": 583,
     "metadata": {},
     "output_type": "execute_result"
    }
   ],
   "source": [
    "q_lst = [0.01, 0.5,0.99]\n",
    "dataset, q_batches = generate_reusable_data(distro=distro_list[0], datasize=5000, q_lst=q_lst,\n",
    "                                            g_test=True, s_test=False)\n",
    "q_sgd_res, proc_filename, proc_shape = generate_q_sgds(dataset, stepsize_list[0], q_lst)\n",
    "# print (q_batches)\n",
    "# print (q_sgd_res.T.shape)\n",
    "q_procs = np.memmap(proc_filename, np.float32, 'r+', shape=proc_shape)\n",
    "q_procs.shape\n",
    "# q_batches.mean(axis=0)"
   ]
  },
  {
   "cell_type": "code",
   "execution_count": 584,
   "metadata": {},
   "outputs": [
    {
     "data": {
      "image/png": "[encoded data removed]",
      "text/plain": [
       "<matplotlib.figure.Figure at 0x120392c50>"
      ]
     },
     "metadata": {},
     "output_type": "display_data"
    }
   ],
   "source": [
    "def plot_one_proc(tau_lst, q_proc, ax, label_on):\n",
    "    for idx, q in enumerate(q_proc):\n",
    "        colorVal = scalarMap.to_rgba(tau_lst[idx])\n",
    "        lb = str(+tau_lst[idx])+'-quantile' if label_on else ''\n",
    "        ax.plot(q, color=colorVal, label=lb)\n",
    "\n",
    "def plot_procs(tau_lst, q_batches, proc_name, proc_shape):\n",
    "    q_procs = np.memmap(proc_name, np.float32, 'r+', shape=proc_shape)\n",
    "\n",
    "    fig = plt.figure(figsize=(10, 8))\n",
    "    ax = fig.add_subplot(111)\n",
    "    N_dim = len(q_procs.shape)\n",
    "\n",
    "    if len(q_batches.shape)==2: q_batches = q_batches.mean(axis=0)\n",
    "    for idx, q in enumerate(q_batches):\n",
    "        colorVal = scalarMap.to_rgba(tau_lst[idx])                \n",
    "        ax.axhline(q, color=colorVal)\n",
    "            \n",
    "    if N_dim == 2:\n",
    "        plot_one_proc(tau_lst, q_procs, ax, True)\n",
    "            \n",
    "    elif N_dim == 3: \n",
    "        for i, q_dt in enumerate(q_procs):\n",
    "            label_on = True if i == 0 else False\n",
    "            plot_one_proc(tau_lst, q_dt, ax, label_on)\n",
    "\n",
    "    elif N_dim > 3:\n",
    "        raise  Exception (\"q_sgd_proc too much to be printed\")\n",
    "\n",
    "    ax.legend(loc='right', bbox_to_anchor=(1.2, 0.5),\n",
    "        frameon=False, ncol=1)\n",
    "    \n",
    "#     return fig\n",
    "\n",
    "plot_procs(q_lst, q_batches, proc_filename, proc_shape)"
   ]
  },
  {
   "cell_type": "code",
   "execution_count": 585,
   "metadata": {},
   "outputs": [
    {
     "data": {
      "image/png": "[encoded data removed]",
      "text/plain": [
       "<matplotlib.figure.Figure at 0x120acb860>"
      ]
     },
     "metadata": {},
     "output_type": "display_data"
    }
   ],
   "source": [
    "def compute_E_res(tau_lst, q_batches, q_sgd_res):\n",
    "#     if len(q_batches.shape)==len(q_sgd_res.shape):\n",
    "    if len(q_sgd_res.shape) < 3:    \n",
    "        e = q_sgd_res - q_batches\n",
    "    else:\n",
    "        e = np.zeros(q_sgd_res.shape)\n",
    "        for i, q_res_g in enumerate(q_sgd_res):\n",
    "            e[i] = q_res_g - q_batches[i]\n",
    "    return e\n",
    "    \n",
    "e = compute_E_res(q_lst, q_batches, q_sgd_res)\n",
    "\n",
    "def plot_E_res(tau_lst, e):\n",
    "    e = e.T\n",
    "    if len(e.shape)>2: raise Exception('E shape is too high!')\n",
    "    fig, axes = plt.subplots(nrows=len(tau_lst), sharex=True)\n",
    "    for i, ax in enumerate(axes):\n",
    "        colorVal = scalarMap.to_rgba(tau_lst[i])\n",
    "        ax.hist(e[i], bins=10, color=colorVal)\n",
    "        ax.plot([e[i].mean(), e[i].mean()], [0,1], color='black')\n",
    "#     return fig\n",
    "\n",
    "plot_E_res(q_lst, e)"
   ]
  },
  {
   "cell_type": "code",
   "execution_count": null,
   "metadata": {},
   "outputs": [],
   "source": [
    "def compute_E_proc():\n",
    "    return\n",
    "    "
   ]
  },
  {
   "cell_type": "code",
   "execution_count": null,
   "metadata": {},
   "outputs": [],
   "source": [
    "def plot_charts(q_lst, q_batches, q_sgd_res, proc_filename, proc_shape, g_test, s_test, charts):\n",
    "#     return plts\n",
    "    return 4\n",
    "\n",
    "def plot_tables(q_lst, q_batches, q_sgd_res, proc_filename, proc_shape, g_test, s_test, charts):\n",
    "#     return tbls\n",
    "    return 5"
   ]
  },
  {
   "cell_type": "code",
   "execution_count": null,
   "metadata": {},
   "outputs": [],
   "source": []
  },
  {
   "cell_type": "code",
   "execution_count": null,
   "metadata": {},
   "outputs": [],
   "source": [
    "# Conduct experiments on quantile estimation with SGD with regards to different aspects\n",
    "# Experiment results are shown in charts and tables\n",
    "# \n",
    "# Return: None? or charts and figures\n",
    "#\n",
    "# Inputs: \n",
    "#     1. Parameters for the experiments\n",
    "#         - Settings to change: one of {distro, datasize, stepsize} (all elements are lists/dict)\n",
    "#         - Settings to control: the left two of {distro, datasize, stepsize}\n",
    "#                                g_test, s_test\n",
    "#     2. Values to show in the results\n",
    "#         - q_values to be compared\n",
    "#         - charts to be showen in {plt_res, plt_proc, plt_e}\n",
    "#         - tables to be shown in {tbl_res, tbl_proc}\n",
    "\n",
    "def quantile_sgd_compare(distro, datasize, stepsize, \n",
    "                            g_test=False, s_test=False, q_lst=tau_vals, \n",
    "                           charts={'plt_res', 'plt_proc', 'plt_e'}, tables={'tbl_res, tbl_proc'}):\n",
    "    dataset, q_batches = 0, 0\n",
    "    N_comp = get_n_comp(distro, datasize, stepsize)\n",
    "    \n",
    "    print (N_comp)\n",
    "    \n",
    "    if len(stepsize)==1:\n",
    "        setting_lst = generate_setting_lst(distro, datasize, q_lst, g_test, s_test)\n",
    "    else:\n",
    "        dataset, q_batches = generate_reusable_data(distro[0], datasize[0], q_lst, g_test, s_test)\n",
    "        print (dataset.shape, q_batches)\n",
    "\n",
    "    # for each round, generate all data and comparison results\n",
    "    for i in range(N_comp):\n",
    "        if len(stepsize)==1:\n",
    "            print (\"generate the {}th dataset and q_batches\".format(i))\n",
    "            lst = setting_lst[i]\n",
    "            distro, datasize, q_lst, g_test, s_test = lst[0], lst[1], lst[2], lst[3], lst[4]\n",
    "            dataset, q_batches = generate_reusable_data(distro, datasize, q_lst, g_test, s_test)\n",
    "            print (dataset.shape, q_batches)\n",
    "            q_sgd_res, proc_filename, proc_shape = generate_q_sgds(dataset, stepsize[0], q_lst)\n",
    "        else:\n",
    "            print ('different q_sgd', i , 'for same dataset and q_batches')\n",
    "            q_sgd_res, proc_filename, proc_shape = generate_q_sgds(dataset, stepsize[i], q_lst, g_test, s_test)\n",
    "        plts = plot_charts(q_lst, q_batches, q_sgd_res, proc_filename, proc_shape, g_test, s_test, charts)\n",
    "        tbls = plot_tables(q_lst, q_batches, q_sgd_res, proc_filename, proc_shape, g_test, s_test, tables)\n",
    "    # have them together?\n",
    "    \n",
    "    return\n",
    "    "
   ]
  },
  {
   "cell_type": "code",
   "execution_count": null,
   "metadata": {},
   "outputs": [],
   "source": [
    "# distro_list = ['mix_gau', 'gau 1', 'gau 2', 'exp', 'my_distro']\n",
    "# stepsize_list = ['const', '2/sqrt_k', '0.002/sqrt_k']\n",
    "\n",
    "quantile_sgd_compare(['gau 1', 'gau 2'], [100], ['const'], True)"
   ]
  },
  {
   "cell_type": "code",
   "execution_count": null,
   "metadata": {},
   "outputs": [],
   "source": [
    "# plt: errorbar\n",
    "# https://matplotlib.org/3.1.1/gallery/lines_bars_and_markers/errorbar_subsample.html#sphx-glr-gallery-lines-bars-and-markers-errorbar-subsample-py"
   ]
  }
 ],
 "metadata": {
  "kernelspec": {
   "display_name": "Python 3",
   "language": "python",
   "name": "python3"
  },
  "language_info": {
   "codemirror_mode": {
    "name": "ipython",
    "version": 3
   },
   "file_extension": ".py",
   "mimetype": "text/x-python",
   "name": "python",
   "nbconvert_exporter": "python",
   "pygments_lexer": "ipython3",
   "version": "3.6.4"
  }
 },
 "nbformat": 4,
 "nbformat_minor": 2
}
