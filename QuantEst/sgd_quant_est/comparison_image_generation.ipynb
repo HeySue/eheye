{
 "cells": [
  {
   "cell_type": "markdown",
   "metadata": {},
   "source": [
    "### Show quantile estimation with SGD  \"works\"\n",
    "\n",
    "1. Test datasets:\n",
    "    - Mixsture of 5 Gaussians\n",
    "    - Sample of 100k from no.1\n",
    "    - Gausian $\\mu = 2, \\sigma = 18$\n",
    "    - Gausian $\\mu = 0, \\sigma = 0.001$\n",
    "    - Sample 100 from no.1\n",
    "    - Sample 100 from no.3\n",
    "    - Exponential $\\lambda$\n",
    "    - My weird distribution lol\n",
    "    \n",
    "4. Test times:\n",
    "    - 10 $\\times$ dataset generation\n",
    "    - 10 $\\times$ SGD ???\n",
    "    - 10 $\\times$ shuffle (does the order matter?)\n",
    "    \n",
    "2. Q value: 0.1, 0.3, 0.5, 0.9, 0.99 \n",
    "\n",
    "3. Step size: \n",
    "    - $\\alpha_k = 1$\n",
    "    - $\\alpha_k = \\frac{2}{\\sqrt{k}}$\n",
    "    - $\\alpha_k = \\frac{0.002}{\\sqrt{k}}$\n",
    "    - ?\n",
    "    - ?\n",
    "    - Why's the Newton method helpful?\n",
    "       \n",
    "5. Calculate $E = |q_{batch} - q_{sgd}|$\n",
    "\n",
    "6. What's a small value of $E$?\n",
    "\n",
    "7. Investigate the effect of datasize N\n",
    "    - Convergence rate with same $\\alpha_k$?\n",
    "    - Different Q values?\n",
    "    - ?"
   ]
  },
  {
   "cell_type": "code",
   "execution_count": 4,
   "metadata": {},
   "outputs": [],
   "source": [
    "%matplotlib inline\n",
    "import numpy as np"
   ]
  },
  {
   "cell_type": "code",
   "execution_count": 23,
   "metadata": {},
   "outputs": [
    {
     "data": {
      "text/plain": [
       "(10, 5)"
      ]
     },
     "execution_count": 23,
     "metadata": {},
     "output_type": "execute_result"
    }
   ],
   "source": [
    "q_values = [0.1, 0.3, 0.5, 0.9, 0.99]\n",
    "N_generation = 12\n",
    "N_shuffle = 10\n",
    "\n",
    "a = np.zeros((N_shuffle, len(q_values)))\n",
    "a.shape"
   ]
  },
  {
   "cell_type": "code",
   "execution_count": 42,
   "metadata": {},
   "outputs": [
    {
     "data": {
      "text/plain": [
       "array([[-0.07310707,  0.22070778, -0.28509463, -0.05076965],\n",
       "       [ 0.04423327, -0.1456886 , -0.10179877,  0.11275124],\n",
       "       [ 0.00741648,  0.2047395 , -0.08450196,  0.13094117]])"
      ]
     },
     "execution_count": 42,
     "metadata": {},
     "output_type": "execute_result"
    }
   ],
   "source": [
    "def generate_dataset(distro, data_size):\n",
    "    return np.random.normal(0, 0.1, (3,4))\n",
    "\n",
    "# generate_dataset(True, True)"
   ]
  },
  {
   "cell_type": "code",
   "execution_count": 37,
   "metadata": {},
   "outputs": [],
   "source": [
    "def generate_q_batch(dataset):\n",
    "    return np.random.normal(0, 1, len(q_values))"
   ]
  },
  {
   "cell_type": "code",
   "execution_count": 38,
   "metadata": {},
   "outputs": [],
   "source": [
    "def generate_q_sgd(dataset, step_size):\n",
    "    return np.random.uniform(0, 2, len(q_values))"
   ]
  },
  {
   "cell_type": "code",
   "execution_count": 40,
   "metadata": {},
   "outputs": [],
   "source": [
    "def draw_image(q_batches, q_sgds):\n",
    "#     draw only one line of q_batches, and one block of q_sgds\n",
    "    \n",
    "    return None"
   ]
  },
  {
   "cell_type": "code",
   "execution_count": 41,
   "metadata": {},
   "outputs": [
    {
     "name": "stdout",
     "output_type": "stream",
     "text": [
      "[[ 1.48610098 -0.30914006  0.14728036  0.00489237  0.6508779 ]\n",
      " [-2.61064461 -0.14748842  0.48328977 -0.1663612  -0.48547244]\n",
      " [ 0.82003433 -0.01219056  0.17217907  0.04371225  1.51591731]\n",
      " [ 0.59556583  0.89956096 -0.30135147  1.40234715 -2.60350481]\n",
      " [-0.1644905   0.37664169  0.35426881  0.98946032 -0.14422581]\n",
      " [ 0.12407755  1.41173678  1.35196179 -0.02500737  2.1128174 ]\n",
      " [-1.02117003 -0.35665341 -1.19453555  1.10170299 -0.59891911]\n",
      " [-0.24803351 -0.15288007  0.38784422  1.35151766  1.30128051]\n",
      " [ 0.03589115 -1.06944515  0.14869823 -2.21242658 -0.29021889]\n",
      " [-0.38623941 -1.09637832 -0.7585291  -0.32613705  0.57108458]\n",
      " [ 0.0764211   1.83340927  1.49653299  0.33621157  1.27374164]\n",
      " [-1.14752644  0.63529581  1.21931406 -0.81587116  0.4765054 ]]\n"
     ]
    }
   ],
   "source": [
    "def compare_distributions(distro, data_size, step_size):\n",
    "    q_batches = np.zeros((N_generation, len(q_values)))\n",
    "    q_sgds = np.zeros((N_generation, N_shuffle, len(q_values)))\n",
    "    \n",
    "    # generate datasets\n",
    "    for i in range(N_generation):\n",
    "        dataset = generate_dataset(distro, data_size)\n",
    "        q_batch = generate_q_batch(dataset)\n",
    "        q_batches[i] = q_batch\n",
    "\n",
    "        # shuffle\n",
    "        for j in range(10):\n",
    "            np.random.shuffle(dataset)\n",
    "            q_sgd   = generate_q_sgd(dataset, step_size)\n",
    "            q_sgds[i][j] = q_sgd\n",
    "    draw_image(q_batches, q_sgds)\n",
    "    print (q_batches)\n",
    "    return\n",
    "\n",
    "compare_distributions(True, True, False)"
   ]
  },
  {
   "cell_type": "code",
   "execution_count": 11,
   "metadata": {},
   "outputs": [],
   "source": [
    "def compare_step_sizes(step_size, distro, data_size):\n",
    "    return"
   ]
  },
  {
   "cell_type": "code",
   "execution_count": 12,
   "metadata": {},
   "outputs": [],
   "source": [
    "def compare_data_size(data_size, distro, setp_size):\n",
    "    return"
   ]
  },
  {
   "cell_type": "code",
   "execution_count": null,
   "metadata": {},
   "outputs": [],
   "source": []
  }
 ],
 "metadata": {
  "kernelspec": {
   "display_name": "Python 3",
   "language": "python",
   "name": "python3"
  },
  "language_info": {
   "codemirror_mode": {
    "name": "ipython",
    "version": 3
   },
   "file_extension": ".py",
   "mimetype": "text/x-python",
   "name": "python",
   "nbconvert_exporter": "python",
   "pygments_lexer": "ipython3",
   "version": "3.6.4"
  }
 },
 "nbformat": 4,
 "nbformat_minor": 2
}
