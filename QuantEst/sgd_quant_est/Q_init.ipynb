{
 "cells": [
  {
   "cell_type": "markdown",
   "metadata": {},
   "source": [
    "# Quantile SGD with q_init\n",
    "\n",
    "Here we want to see how q_init will affect the quantile estimation."
   ]
  },
  {
   "cell_type": "markdown",
   "metadata": {},
   "source": [
    "## Set initial value of q\n",
    "\n",
    "### Previous setting: initial value q fixed for all datasets and $\\tau$ values\n",
    "For the previous SGD quantile estimation, the first estimate of any $\\tau$-quantile begins with a random default number q_r (usually 0). Specifically,\n",
    "```python\n",
    "def SGD (dataset, tau):\n",
    "    q = 0                      # Here q=q_r=0, which is randomly chosen for all datasets and tau values\n",
    "    for x in dataset:\n",
    "        update_sgd(q,x)\n",
    "    return q\n",
    "```\n",
    "\n",
    "### My idea: change q_init so it differs for different dataset and $\\tau$ values\n",
    "This time, q_init is chosen before the SGD algorithm. It will be chosen w.r.t. the first N_init of numbers, which will theoretically be more accurate than a randomly chosen q_init. So the code will be\n",
    "```python\n",
    "def SGD (dataset, tau):\n",
    "    q_init = get_q_init(dataset, tau, N_init)         # q_init is chosen according to the dataset and tau\n",
    "    q = q_init      \n",
    "    for x in dataset:\n",
    "        update_sgd(q,x)\n",
    "    return q\n",
    "```"
   ]
  },
  {
   "cell_type": "markdown",
   "metadata": {},
   "source": [
    "## Mathmatical Theory Proof\n",
    "\n",
    "Here we want to proof that for any distribution and $\\tau$ values, the q_init has a higher possibility to be closer to the real quantile number than a randomly chosen q_r.\n",
    "\n",
    "### Convertion to uniform distribution histograms by quantiles\n",
    "\n",
    "q-quantiles are values that partition a finite set of values into q subsets of (nearly) equal sizes. (wiki). For example, the 4-quantiles devides a distribution into 4 subsets.\n",
    "\n",
    "![Image from wiki](https://upload.wikimedia.org/wikipedia/commons/5/5e/Iqr_with_quantile.png)\n",
    "\n",
    "This image shows probability density of a normal distribution, with quartiles shown. The area below the red curve is the same in the intervals $(-\\infty,Q_1), (Q_1, Q_2), (Q_2, Q_3)$, and $(Q_3, +\\infty)$. \n",
    "\n",
    "Here we rename the distribution quantiles $Q_1, Q_2, Q_3$ to $\\tau$-quantiles ($\\tau = 0.25, 0.5, 0.75$), so they are now $Q_{0.25}, Q_{0.5}, Q_{0.75}$\n",
    "\n",
    "This can be shown in histograms like \"uniform distribution\": \n",
    "![Image for 4-quantiles](4_quantile.png)\n",
    "\n",
    "From this we can see that the probability of a random number generated from the distribution is the same for all four histograms. \n",
    "\n",
    "Generally, if the $q$ for $q$-quantiles is infinitely large, there will be infinite histograms for any distribution. This is how we convert a distribution to a \"uniform distribution\" by quantiles. And from this we can see, the possibility of a random sample falls in the interval $(Q_{\\tau_1}, Q_{\\tau_2})$ is $\\tau_2-\\tau_1$ (where $Q_\\tau$ is the $\\tau$-quantile)."
   ]
  },
  {
   "cell_type": "markdown",
   "metadata": {},
   "source": [
    "### Comparison of q_r and q_init\n",
    "\n",
    "Let $Q_{\\tau}$ represents the real $\\tau$-quantile value of the distribution\n",
    "\n",
    "In a uniform distribution histogram, let range $A_\\tau$ be the interval of numbers that's close to $Q_\\tau$. Specifically,\n",
    "\n",
    "$$\n",
    "  A_\\tau =\n",
    "    \\begin{cases}\n",
    "      (-\\infty, Q_{\\tau +0.05}) & \\text{if $\\tau < 0.05$}\\\\\n",
    "      (Q_{\\tau -0.05}, Q_{\\tau +0.05}) & \\text{if $\\tau \\geq 0.05$ and $\\tau \\leq 0.95$}\\\\\n",
    "      (-\\tau + 1.05, +\\infty) & \\text{if $\\tau > 0.95$}\n",
    "    \\end{cases}       \n",
    "$$\n",
    "To simplify it, we say $A_\\tau = (Q_{\\tau^{-}}, Q_{\\tau^{+}})$, and it is obvious that $Q_{\\tau^{-}}< Q_{\\tau} < Q_{\\tau^{+}}$\n",
    "\n",
    "Here we want to show that $Pr(q_{init} \\in A_\\tau) \\geq Pr(q_r \\in A_\\tau)$\n",
    "\n",
    "![no_border](100_quantile_edited.png)\n",
    "The above image shows $\\tau \\geq 0.05$ and $\\tau \\leq 0.95$\n",
    "\n",
    "![no_border](100_quantile_border.png)\n",
    "The above image shows $\\tau < 0.05$"
   ]
  },
  {
   "cell_type": "markdown",
   "metadata": {},
   "source": [
    "#### Proof\n",
    "$$\n",
    "Pr(q_r \\in A_\\tau) = \n",
    "    \\begin{cases}\n",
    "      \\tau +0.05 &   \\text{($0 < \\tau < 0.05$)}\\\\\n",
    "      0.1 &          \\text{($0.05 \\leq \\tau \\leq 0.95$)}\\\\\n",
    "      -\\tau + 1.05 & \\text{($ 0.95 < \\tau < 1$)}\n",
    "    \\end{cases}  \n",
    "$$"
   ]
  },
  {
   "cell_type": "code",
   "execution_count": 110,
   "metadata": {},
   "outputs": [
    {
     "name": "stdout",
     "output_type": "stream",
     "text": [
      "0.9762889173365232 0.7854425566295851\n"
     ]
    }
   ],
   "source": [
    "import math\n",
    "\n",
    "def nCr(n,r):\n",
    "    f = math.factorial\n",
    "    return f(n) / f(r) / f(n-r)\n",
    "\n",
    "def exact_x_times(n, x, p):\n",
    "    return nCr(n,x) * ((p)**x) * ((1-p)**(n-x))\n",
    "\n",
    "def at_most_x_times(n, x, p):\n",
    "    l = [exact_x_times(n, i, p) for i in range(x+1)]\n",
    "    return sum(l)\n",
    "\n",
    "# at_most_x_times(10, 10, 0.9)\n",
    "# at_most_x_times(10, 3, 0.1)\n",
    "\n",
    "N_init = 10\n",
    "def compute_prob_q_init(n, tau):\n",
    "    k = int(tau * n)\n",
    "#     print (k)\n",
    "    p1, p2 = 1, 1\n",
    "    if tau >= 0.05:\n",
    "#         print ('p1:', k, tau-0.05)\n",
    "        p1 = at_most_x_times(n, k, tau-0.05)\n",
    "#         print ('   ', p1)\n",
    "    if tau <= 0.95:\n",
    "#         print ('p2:', n-k, 1-(tau+0.05))\n",
    "        p2 = at_most_x_times(n, n-k, 1-(tau+0.05))\n",
    "#         print ('   ', p2)\n",
    "    return p1 * p2\n",
    "\n",
    "a = compute_prob_q_init(100, 0.95)\n",
    "b = compute_prob_q_init(100, 0.3)\n",
    "print (a, b)"
   ]
  },
  {
   "cell_type": "code",
   "execution_count": 20,
   "metadata": {},
   "outputs": [
    {
     "data": {
      "image/png": "[encoded data removed]",
      "text/plain": [
       "<matplotlib.figure.Figure at 0x10f95d908>"
      ]
     },
     "metadata": {},
     "output_type": "display_data"
    }
   ],
   "source": [
    "%matplotlib inline  \n",
    "import numpy as np\n",
    "import matplotlib.pyplot as plt\n",
    "\n",
    "plt.figure(figsize=(12,5))\n",
    "# ax = plt.subplot(121)\n",
    "x = np.append(np.arange(99)*0.01, [1])\n",
    "weights = np.array([0.01]*100)\n",
    "plt.hist(x, bins=100, weights=weights,  edgecolor='darkgreen', linewidth=1, color='salmon')\n",
    "plt.locator_params(axis='y', nbins=6)\n",
    "plt.locator_params(axis='x', nbins=5)\n",
    "plt.xticks([0, 0.02, 0.07, 1],\n",
    "          [r'$-\\infty$     ', r'    $Q_{\\tau}$', r'    $Q_{\\tau^{+}}$', r'$+\\infty$'], size='xx-large')\n",
    "plt.ylabel('Probability')\n",
    "plt.xlabel('Value')\n",
    "# plt.show()\n",
    "plt.savefig(\"100_quantile.png\")"
   ]
  },
  {
   "cell_type": "code",
   "execution_count": null,
   "metadata": {},
   "outputs": [],
   "source": []
  }
 ],
 "metadata": {
  "kernelspec": {
   "display_name": "Python 3",
   "language": "python",
   "name": "python3"
  },
  "language_info": {
   "codemirror_mode": {
    "name": "ipython",
    "version": 3
   },
   "file_extension": ".py",
   "mimetype": "text/x-python",
   "name": "python",
   "nbconvert_exporter": "python",
   "pygments_lexer": "ipython3",
   "version": "3.6.4"
  }
 },
 "nbformat": 4,
 "nbformat_minor": 2
}
