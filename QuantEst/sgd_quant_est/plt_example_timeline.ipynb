{
 "cells": [
  {
   "cell_type": "code",
   "execution_count": 1,
   "metadata": {},
   "outputs": [],
   "source": [
    "%matplotlib inline"
   ]
  },
  {
   "cell_type": "code",
   "execution_count": 2,
   "metadata": {},
   "outputs": [],
   "source": [
    "import matplotlib.pyplot as plt\n",
    "import matplotlib as mpl\n",
    "import matplotlib.colors as colors\n",
    "import matplotlib.cm as cmx\n",
    "import numpy as np"
   ]
  },
  {
   "cell_type": "code",
   "execution_count": 3,
   "metadata": {},
   "outputs": [
    {
     "data": {
      "text/plain": [
       "array([[ 11.61608602,  -0.34355363,   0.12686956,  68.47887697,\n",
       "         -9.76212098],\n",
       "       [ 11.41218117,  -0.42535849,   2.62428393,  67.1916812 ,\n",
       "         -9.75294453],\n",
       "       [  9.73736475,  -6.90581827,   1.19722076,  67.71045626,\n",
       "         -8.8774593 ],\n",
       "       [  7.44351191,  -3.00424947,   3.55301521,  66.55517897,\n",
       "         -7.4996287 ],\n",
       "       [  9.44603297,  -2.1772926 ,   2.77837663,  69.36698859,\n",
       "         -9.13844693],\n",
       "       [ 12.63242094,  -4.52320381,   1.52235383,  70.56148983,\n",
       "         -7.86810045],\n",
       "       [  6.97587347,  -2.70856558,   2.41577116,  67.15524044,\n",
       "         -9.8811266 ],\n",
       "       [  9.48949709,  -1.41229243,   1.90048159,  65.23821178,\n",
       "        -13.44165565],\n",
       "       [ 10.65964231,  -3.88702395,  -3.21333416,  69.51757355,\n",
       "         -8.95999494],\n",
       "       [ 12.4754961 ,  -8.35522651,   0.43040023,  64.14994134,\n",
       "         -9.95353798]])"
      ]
     },
     "execution_count": 3,
     "metadata": {},
     "output_type": "execute_result"
    }
   ],
   "source": [
    "q_vals = [0.1, 0.3, 0.5, 0.7, 0.9]\n",
    "q_batches = [11, -3, 1.5, 67, -9.8]\n",
    "q_sgds_v = np.zeros((5,10))\n",
    "for i in range(5):\n",
    "    q_sgds_v[i] = np.random.normal( q_batches[i], 2, 10)\n",
    "q_sgds= q_sgds_v.T\n",
    "q_sgds"
   ]
  },
  {
   "cell_type": "code",
   "execution_count": 4,
   "metadata": {},
   "outputs": [],
   "source": [
    "c_Norm = colors.Normalize(vmin=0, vmax=1)\n",
    "scalarMap = cmx.ScalarMappable(norm=c_Norm, cmap=plt.get_cmap('cool'))\n",
    "styles = ['-', '--']\n",
    "names = ['-q batch', '-q sgd']"
   ]
  },
  {
   "cell_type": "code",
   "execution_count": 10,
   "metadata": {},
   "outputs": [
    {
     "data": {
      "image/png": "[encoded data removed]",
      "text/plain": [
       "<matplotlib.figure.Figure at 0x10faf5860>"
      ]
     },
     "metadata": {},
     "output_type": "display_data"
    }
   ],
   "source": [
    "def plot_quantiles(q_vals, q_batches, q_sgds):\n",
    "\n",
    "    fig = plt.figure(figsize=(8,4))\n",
    "    ax_batch = fig.add_subplot(211)\n",
    "    ax_sgd = fig.add_subplot(212, sharex = ax_batch, sharey = ax_batch)\n",
    "\n",
    "    for idx in range(len(q_vals)):\n",
    "        colorVal = scalarMap.to_rgba(q_vals[idx])\n",
    "        qb = q_batches[idx]\n",
    "\n",
    "        ax_batch.plot([qb,qb], [0,1], styles[0], label= str(q_vals[idx])+names[0], color=colorVal)\n",
    "\n",
    "        for i in range(q_sgds.shape[0]):\n",
    "            qs = q_sgds[i][idx]\n",
    "            if (i==0): \n",
    "                ax_sgd.plot([qs,qs], [0,1], styles[1], label=' '+str(+q_vals[idx])+names[1]+'  ', color=colorVal)\n",
    "            else: \n",
    "                ax_sgd.plot([qs,qs], [0,1], styles[1], color=colorVal)\n",
    "\n",
    "\n",
    "    ax_batch.set_xlabel('batch value')\n",
    "    ax_batch.xaxis.set_label_coords(1.05, -0.025)\n",
    "\n",
    "    ax_batch.set_ylim([-0.1,1.1])\n",
    "\n",
    "    ax_sgd.set_yticks([])\n",
    "    ax_sgd.set_ylim([-0.1,1.1])\n",
    "    ax_sgd.set_xlabel('sgd value')\n",
    "    ax_sgd.xaxis.set_label_coords(1.05, -0.025)\n",
    "\n",
    "    \n",
    "    ax_batch.legend(loc='lower center', bbox_to_anchor=(0.5, -1.8),\n",
    "            frameon=False, ncol=len(q_vals))\n",
    "    ax_sgd.legend(loc='lower center', bbox_to_anchor=(0.5, -0.9),\n",
    "        frameon=False, ncol=len(q_vals))\n",
    "        \n",
    "    return fig\n",
    "                    \n",
    "fig = plot_quantiles(q_vals, q_batches, q_sgds)\n"
   ]
  },
  {
   "cell_type": "code",
   "execution_count": null,
   "metadata": {},
   "outputs": [],
   "source": []
  },
  {
   "cell_type": "code",
   "execution_count": null,
   "metadata": {},
   "outputs": [],
   "source": []
  }
 ],
 "metadata": {
  "kernelspec": {
   "display_name": "Python 3",
   "language": "python",
   "name": "python3"
  },
  "language_info": {
   "codemirror_mode": {
    "name": "ipython",
    "version": 3
   },
   "file_extension": ".py",
   "mimetype": "text/x-python",
   "name": "python",
   "nbconvert_exporter": "python",
   "pygments_lexer": "ipython3",
   "version": "3.6.4"
  }
 },
 "nbformat": 4,
 "nbformat_minor": 1
}
