{
 "cells": [
  {
   "cell_type": "markdown",
   "metadata": {},
   "source": [
    "### New file"
   ]
  },
  {
   "cell_type": "code",
   "execution_count": 57,
   "metadata": {},
   "outputs": [],
   "source": [
    "%matplotlib inline\n",
    "\n",
    "import io, os, sys, types\n",
    "from IPython import get_ipython\n",
    "from nbformat import read\n",
    "from IPython.core.interactiveshell import InteractiveShell\n",
    "\n",
    "import math\n",
    "import numpy as np\n",
    "import matplotlib.pyplot as plt\n",
    "import matplotlib.colors as colors\n",
    "import matplotlib.cm as cmx\n",
    "import os\n",
    "import matplotlib.colors as mc\n",
    "import colorsys"
   ]
  },
  {
   "cell_type": "code",
   "execution_count": 58,
   "metadata": {},
   "outputs": [],
   "source": [
    "distros = ['mix', 'gau 1', 'gau 2', 'exp']\n",
    "stepsizes = ['const', '2/sqrt_k', '0.002/sqrt_k']\n",
    "\n",
    "tau_vals = [0.1, 0.3, 0.5, 0.9, 0.99]\n",
    "N_g = 12 # N_generation\n",
    "N_s = 10 # N_shuffle\n",
    "\n",
    "N_q = len(tau_vals)\n",
    "\n",
    "c_Norm = colors.Normalize(vmin=0, vmax=1)\n",
    "scalarMap = cmx.ScalarMappable(norm=c_Norm, cmap=plt.get_cmap('cool'))"
   ]
  },
  {
   "cell_type": "code",
   "execution_count": 59,
   "metadata": {},
   "outputs": [],
   "source": [
    "def get_settings(distro_lst, datasize_lst, stepsize_lst):\n",
    "    if (len(distro_lst) > 1) and (len(datasize_lst)==1) and (len(stepsize_lst)==1):\n",
    "        setting_lst = [[i, datasize_lst[0], stepsize_lst[0]] for i in distro_lst]\n",
    "    elif (len(distro_lst)==1) and (len(datasize_lst) > 1) and (len(stepsize_lst)==1):\n",
    "        setting_lst = [[distro_lst[0], i, stepsize_lst[0]] for i in datasize_lst]\n",
    "    elif (len(distro_lst)==1) and (len(datasize_lst)==1) and (len(stepsize_lst) > 1):\n",
    "        setting_lst = [[distro_lst[0], datasize_lst[0], i] for i in stepsize_lst]\n",
    "    else: raise Exception(\"Setting inputs are wrong!\")\n",
    "    return setting_lst, len(stepsize_lst)>1"
   ]
  },
  {
   "cell_type": "code",
   "execution_count": 60,
   "metadata": {},
   "outputs": [],
   "source": [
    "def get_one_dt(distro, datasize):\n",
    "#     return np.ones(size)\n",
    "    if distro == 'gau 1':\n",
    "        return np.random.normal(2, 18, datasize)\n",
    "    elif distro == 'gau 2':\n",
    "        return np.random.normal(0, 0.001, datasize)\n",
    "    elif distro == 'mix':\n",
    "        # mean: -1.3\n",
    "        # std: 30.779035604224564\n",
    "        # var: 947.3490327261234\n",
    "        sizes = np.array([0.3, 0.2, 0.1, 0.15, 0.25]) * datasize\n",
    "        d1 = np.random.normal(2.0, 7.0, int(sizes[0]))\n",
    "        d2 = np.random.normal(0, 3.7, int(sizes[1]))\n",
    "        d3 = np.random.normal(-9, 7, int(sizes[2]))\n",
    "        d4 = np.random.normal(5, 77, int(sizes[3]))\n",
    "        d5 = np.random.normal(-7, 7, int(sizes[4]))\n",
    "        mix_lst = np.append(d1, np.append(d2, np.append(d3, np.append(d4, d5))))\n",
    "        np.random.shuffle(mix_lst)\n",
    "        return mix_lst\n",
    "    elif distro == 'exp':\n",
    "        return np.random.exponential(scale=1, size=datasize)\n",
    "    else: raise Exception(\"distribution doesn't work!\")"
   ]
  },
  {
   "cell_type": "code",
   "execution_count": 61,
   "metadata": {},
   "outputs": [],
   "source": [
    "def get_dataset(distro, datasize, g_test):\n",
    "    if g_test:\n",
    "        dataset = np.zeros((N_g, datasize))\n",
    "        for i in range(N_g):\n",
    "            dataset[i] = get_one_dt(distro, datasize)\n",
    "    else:\n",
    "        dataset = get_one_dt(distro, datasize)\n",
    "    return dataset"
   ]
  },
  {
   "cell_type": "code",
   "execution_count": 67,
   "metadata": {},
   "outputs": [
    {
     "data": {
      "text/plain": [
       "(12, 100)"
      ]
     },
     "execution_count": 67,
     "metadata": {},
     "output_type": "execute_result"
    }
   ],
   "source": [
    "get_dataset('exp', 100, True).shape"
   ]
  },
  {
   "cell_type": "code",
   "execution_count": 63,
   "metadata": {},
   "outputs": [],
   "source": [
    "def quantile_sgd_compare(distro_lst, datasize_lst, stepsize_lst, \n",
    "                         g_test=False, s_test=False, tau_lst=tau_vals):\n",
    "    # generate different settings\n",
    "    setting_lst, is_stepsize = get_settings(distro_lst, datasize_lst, stepsize_lst)\n",
    "    \n",
    "    # if only stepsize changes, generate dataset and q_batches\n",
    "    dataset, q_batches = 0, 0\n",
    "    if is_stepsize:\n",
    "        dataset = get_dataset(distro[0], datasize[0], g_test)\n",
    "#         q_batches = get_q_batches(dataset, tau_lst, g_test)\n",
    "        \n",
    "#     # for each setting = [distro, datasize, stepsize]\n",
    "#     for idx, setting in enumerate(setting_lst):\n",
    "#         # generate all the data\n",
    "#         distro, datasize, stepsize = setting[idx][0], setting[idx][1], setting[idx][2]\n",
    "#         if not is_stepsize:\n",
    "#             dataset = get_dataset(distro, datasize, g_test, s_test)\n",
    "#             q_batches = get_q_batches(dataset, tau_lst, g_test)\n",
    "#         q_sgd_res, q_sgd_proc = get_q_sgd(dataset, stepsize, s_test, tau_lst)\n",
    "        \n",
    "#         # generate charts and tables?\n",
    "#         name = get_name(distro, datasize, stepsize, tau_list, g_test, s_test)\n",
    "#         charts = get_charts(tau_lst, q_batches, q_sgd_res, q_sgd_proc, name)\n",
    "# #         tables = get_tables(tau_lst, q_batches, q_sgd_res, q_sgd_proc, name)"
   ]
  },
  {
   "cell_type": "code",
   "execution_count": 45,
   "metadata": {},
   "outputs": [],
   "source": [
    "# quantile_sgd_compare()"
   ]
  },
  {
   "cell_type": "code",
   "execution_count": null,
   "metadata": {},
   "outputs": [],
   "source": []
  }
 ],
 "metadata": {
  "kernelspec": {
   "display_name": "Python 3",
   "language": "python",
   "name": "python3"
  },
  "language_info": {
   "codemirror_mode": {
    "name": "ipython",
    "version": 3
   },
   "file_extension": ".py",
   "mimetype": "text/x-python",
   "name": "python",
   "nbconvert_exporter": "python",
   "pygments_lexer": "ipython3",
   "version": "3.6.4"
  }
 },
 "nbformat": 4,
 "nbformat_minor": 2
}
