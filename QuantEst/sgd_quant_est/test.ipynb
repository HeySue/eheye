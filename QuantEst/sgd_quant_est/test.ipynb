{
 "cells": [
  {
   "cell_type": "code",
   "execution_count": 9,
   "metadata": {},
   "outputs": [],
   "source": [
    "import import_ipynb\n",
    "from Untitled import get_settings, get_one_dt\n",
    "import numpy as np"
   ]
  },
  {
   "cell_type": "code",
   "execution_count": 10,
   "metadata": {},
   "outputs": [
    {
     "data": {
      "text/plain": [
       "True"
      ]
     },
     "execution_count": 10,
     "metadata": {},
     "output_type": "execute_result"
    }
   ],
   "source": [
    "def test_get_settings():\n",
    "    is_val = True\n",
    "    \n",
    "    try:\n",
    "        get_settings(1, 2, 3)\n",
    "    except TypeError: is_val = is_val\n",
    "    \n",
    "    try:\n",
    "        get_settings([], [2], [3])\n",
    "    except Exception: is_val = is_val\n",
    "        \n",
    "    try:\n",
    "        get_settings([1], [1], [1])\n",
    "    except Exception: is_val = is_val\n",
    "        \n",
    "    settings, is_step = get_settings([1,2,3,4,5], [6], [7])\n",
    "    is_val = is_val and (len(settings)==5) and not(is_step)\n",
    "    \n",
    "    settings, is_step = get_settings([6],[1,2,3,4,5], [7])\n",
    "    is_val = is_val and (len(settings)==5) and not(is_step)\n",
    "    \n",
    "    settings, is_step = get_settings([6], [7], [1,2,3,4,5])\n",
    "    is_val = is_val and (len(settings)==5) and (is_step)\n",
    "    \n",
    "    return is_val\n",
    "    \n",
    "test_get_settings()"
   ]
  },
  {
   "cell_type": "code",
   "execution_count": 18,
   "metadata": {},
   "outputs": [
    {
     "name": "stdout",
     "output_type": "stream",
     "text": [
      "-1.0451401466954264\n",
      "2.003432662879191\n",
      "17.917289714222754\n",
      "-7.122329772249071e-07\n",
      "0.001005392173488134\n",
      "1.0093100572921656\n",
      "1.0202891929051083\n"
     ]
    }
   ],
   "source": [
    "def test_get_one_dt():\n",
    "    print (np.mean(get_one_dt('mix',   10000)))\n",
    "    print (np.mean(get_one_dt('gau 1', 10000)))\n",
    "    print (np.std (get_one_dt('gau 1', 10000)))\n",
    "    print (np.mean(get_one_dt('gau 2', 10000)))\n",
    "    print (np.std (get_one_dt('gau 2', 10000)))\n",
    "    print (np.mean(get_one_dt('exp',   10000)))\n",
    "    print (np.std (get_one_dt('exp',   10000)))\n",
    "test_get_one_dt()"
   ]
  },
  {
   "cell_type": "code",
   "execution_count": null,
   "metadata": {},
   "outputs": [],
   "source": []
  }
 ],
 "metadata": {
  "kernelspec": {
   "display_name": "Python 3",
   "language": "python",
   "name": "python3"
  },
  "language_info": {
   "codemirror_mode": {
    "name": "ipython",
    "version": 3
   },
   "file_extension": ".py",
   "mimetype": "text/x-python",
   "name": "python",
   "nbconvert_exporter": "python",
   "pygments_lexer": "ipython3",
   "version": "3.6.4"
  }
 },
 "nbformat": 4,
 "nbformat_minor": 2
}
