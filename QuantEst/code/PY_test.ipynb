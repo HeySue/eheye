{
 "cells": [
  {
   "cell_type": "code",
   "execution_count": 1,
   "metadata": {},
   "outputs": [],
   "source": [
    "# from Plot import plot_charts"
   ]
  },
  {
   "cell_type": "code",
   "execution_count": 2,
   "metadata": {},
   "outputs": [],
   "source": [
    "# plot_charts(\"Experiment_results/Adaptive_stepsize/\")"
   ]
  },
  {
   "cell_type": "code",
   "execution_count": 3,
   "metadata": {},
   "outputs": [],
   "source": [
    "# import math\n",
    "# import numpy as np\n",
    "# import os\n",
    "# from Dataset_generation import get_dataset, get_q_batches, get_q_true, get_shuffled_dataset\n",
    "# from Output_data_generation import initialize_folders, get_settings, get_file_name, save_data\n",
    "# from Quantile_procs import get_procs, get_res\n",
    "# %matplotlib inline\n",
    "# import matplotlib.pyplot as plt"
   ]
  },
  {
   "cell_type": "code",
   "execution_count": 4,
   "metadata": {},
   "outputs": [],
   "source": [
    "# datasize = 1000\n",
    "# dt = np.random.exponential(scale=1, size=datasize)*6.5 - 20\n",
    "# plt.hist(dt)"
   ]
  },
  {
   "cell_type": "code",
   "execution_count": 5,
   "metadata": {},
   "outputs": [],
   "source": [
    "# dt = np.random.exponential(scale=1, size=datasize)\n",
    "# plt.hist(dt)"
   ]
  },
  {
   "cell_type": "code",
   "execution_count": 6,
   "metadata": {},
   "outputs": [],
   "source": [
    "# tau_vals = [0.1, 0.3, 0.5, 0.9, 0.99]\n",
    "# tau_lst = tau_vals\n",
    "# alpha_lst = np.round([tau if tau<= 0.5 else 1-tau for tau in tau_lst], 4)\n",
    "# np.ones(5) * 0.5"
   ]
  },
  {
   "cell_type": "code",
   "execution_count": 7,
   "metadata": {},
   "outputs": [],
   "source": [
    "# def update_q(q, tau, d, x, N, alpha=1, count=0):\n",
    "#     if x>q: \n",
    "#         count +=1\n",
    "#     else: count -= 1\n",
    "#     d += round((tau) if x > q else (tau-1),5)\n",
    "#     q -= (alpha/N) * d\n",
    "#     return q, d"
   ]
  },
  {
   "cell_type": "code",
   "execution_count": 8,
   "metadata": {},
   "outputs": [],
   "source": [
    "# N = 100000\n",
    "# dt = np.random.uniform(-100, 100, N)"
   ]
  },
  {
   "cell_type": "code",
   "execution_count": 9,
   "metadata": {},
   "outputs": [],
   "source": [
    "# q = 0\n",
    "# d = 0\n",
    "# tau = 0.1\n",
    "# q_lst = np.zeros(N)\n",
    "# d_lst = np.zeros(N)\n",
    "\n",
    "# count = 0\n",
    "# for i, x in enumerate(dt):\n",
    "#     q, d = update_q(q, tau, d, x, N, alpha=0.01, count = count)\n",
    "#     q_lst[i] = q\n",
    "#     d_lst[i] = d\n",
    "# print (count)\n",
    "# plt.plot(q_lst)"
   ]
  },
  {
   "cell_type": "code",
   "execution_count": 10,
   "metadata": {},
   "outputs": [
    {
     "name": "stdout",
     "output_type": "stream",
     "text": [
      "[0.1, 0.3, 0.5, 0.9, 0.99] SAG\n",
      "--- SAG False\n",
      "(1000, 5)\n"
     ]
    }
   ],
   "source": [
    "from Quantile_procs import get_procs\n",
    "import numpy as np\n",
    "%matplotlib inline\n",
    "import matplotlib.pyplot as plt\n",
    "from Dataset_generation import get_dataset, get_q_batches, get_q_true, get_shuffled_dataset\n",
    "\n",
    "N = 1000\n",
    "dt = get_dataset('gau_1', N)\n",
    "tau_vals = [0.1, 0.3, 0.5, 0.9, 0.99]\n",
    "rtn = get_procs(dt, tau_vals, 'SAG', False)"
   ]
  },
  {
   "cell_type": "code",
   "execution_count": 11,
   "metadata": {},
   "outputs": [
    {
     "data": {
      "text/plain": [
       "[<matplotlib.lines.Line2D at 0x10e5ecef0>,\n",
       " <matplotlib.lines.Line2D at 0x10e5f9128>,\n",
       " <matplotlib.lines.Line2D at 0x10e5f9278>,\n",
       " <matplotlib.lines.Line2D at 0x10e5f93c8>,\n",
       " <matplotlib.lines.Line2D at 0x10e5f9518>]"
      ]
     },
     "execution_count": 11,
     "metadata": {},
     "output_type": "execute_result"
    },
    {
     "data": {
      "image/png": "[encoded data removed]",
      "text/plain": [
       "<matplotlib.figure.Figure at 0x10b2e3c88>"
      ]
     },
     "metadata": {},
     "output_type": "display_data"
    }
   ],
   "source": [
    "plt.plot(rtn.T)"
   ]
  },
  {
   "cell_type": "code",
   "execution_count": null,
   "metadata": {},
   "outputs": [],
   "source": []
  }
 ],
 "metadata": {
  "kernelspec": {
   "display_name": "Python 3",
   "language": "python",
   "name": "python3"
  },
  "language_info": {
   "codemirror_mode": {
    "name": "ipython",
    "version": 3
   },
   "file_extension": ".py",
   "mimetype": "text/x-python",
   "name": "python",
   "nbconvert_exporter": "python",
   "pygments_lexer": "ipython3",
   "version": "3.6.4"
  }
 },
 "nbformat": 4,
 "nbformat_minor": 2
}
