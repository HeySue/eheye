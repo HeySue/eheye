{
 "cells": [
  {
   "cell_type": "markdown",
   "metadata": {},
   "source": [
    "### New file"
   ]
  },
  {
   "cell_type": "code",
   "execution_count": 243,
   "metadata": {},
   "outputs": [],
   "source": [
    "%matplotlib inline\n",
    "\n",
    "import io, os, sys, types\n",
    "from IPython import get_ipython\n",
    "from nbformat import read\n",
    "from IPython.core.interactiveshell import InteractiveShell\n",
    "\n",
    "import math\n",
    "import numpy as np\n",
    "import matplotlib.pyplot as plt\n",
    "import matplotlib.colors as colors\n",
    "import matplotlib.cm as cmx\n",
    "import os\n",
    "import matplotlib.colors as mc\n",
    "import colorsys"
   ]
  },
  {
   "cell_type": "code",
   "execution_count": 244,
   "metadata": {},
   "outputs": [],
   "source": [
    "distros = ['mix', 'gau 1', 'gau 2', 'exp']\n",
    "stepsizes = ['const', '2/sqrt_k', '0.002/sqrt_k']\n",
    "\n",
    "tau_vals = [0.1, 0.3, 0.5, 0.9, 0.99]\n",
    "N_g = 12 # N_generation\n",
    "N_s = 10 # N_shuffle\n",
    "\n",
    "N_q = len(tau_vals)\n",
    "\n",
    "c_Norm = colors.Normalize(vmin=0, vmax=1)\n",
    "scalarMap = cmx.ScalarMappable(norm=c_Norm, cmap=plt.get_cmap('cool'))"
   ]
  },
  {
   "cell_type": "code",
   "execution_count": 245,
   "metadata": {},
   "outputs": [],
   "source": [
    "def get_settings(distro_lst, datasize_lst, stepsize_lst, est_lst):\n",
    "    len_lst = [len(distro_lst), len(datasize_lst), len(stepsize_lst), len(est_lst)]\n",
    "    if len_lst.count(1) != len(len_lst)-1: raise Exception(\"Setting inputs are wrong!\")\n",
    "    \n",
    "    N_settings = max((len_lst))\n",
    "    setting_lst = []\n",
    "    for lst in [distro_lst, datasize_lst, stepsize_lst, est_lst]:\n",
    "        if len(lst)==1: \n",
    "            lst = lst*N_settings\n",
    "        setting_lst.append(lst)\n",
    "    return np.asarray(setting_lst).T, len(stepsize_lst)>1\n"
   ]
  },
  {
   "cell_type": "code",
   "execution_count": 246,
   "metadata": {},
   "outputs": [
    {
     "data": {
      "text/plain": [
       "array([['mix', '11', 'const', 'sgd'],\n",
       "       ['mix', '100', 'const', 'sgd'],\n",
       "       ['mix', '200', 'const', 'sgd']], dtype='<U5')"
      ]
     },
     "execution_count": 246,
     "metadata": {},
     "output_type": "execute_result"
    }
   ],
   "source": [
    "get_settings(distro_lst=['mix'], \n",
    "             datasize_lst=[11, 100, 200], \n",
    "             stepsize_lst=['const'], \n",
    "             est_lst = ['sgd'])[0]"
   ]
  },
  {
   "cell_type": "code",
   "execution_count": 247,
   "metadata": {},
   "outputs": [],
   "source": [
    "def get_one_dt(distro, datasize):\n",
    "#     return np.ones(size)\n",
    "    if distro == 'gau 1':\n",
    "        return np.random.normal(2, 18, datasize)\n",
    "    elif distro == 'gau 2':\n",
    "        return np.random.normal(0, 0.001, datasize)\n",
    "    elif distro == 'mix':\n",
    "        # mean: -1.3\n",
    "        # std: 30.779035604224564\n",
    "        # var: 947.3490327261234\n",
    "        mix_lst = np.zeros(datasize)\n",
    "        sizes = np.array([0.3, 0.2, 0.1, 0.15, 0.25])\n",
    "        mixtures = [(2,7), (0,0.7), (36, 26), (5,77), (-77,7)]\n",
    "        acc_sizes = [sum(sizes[:i+1]) for i in range(len(sizes))]\n",
    "\n",
    "        for d_idx in range(datasize):\n",
    "            rdn = np.random.uniform(0,1)\n",
    "            mix_id = 0\n",
    "            for m_id in acc_sizes:\n",
    "                if rdn > m_id:\n",
    "                    mix_id += 1\n",
    "                else:break\n",
    "            data_point = np.random.normal(mixtures[mix_id][0], mixtures[mix_id][1])\n",
    "            mix_lst[d_idx] = data_point\n",
    "        return mix_lst\n",
    "    elif distro == 'exp':\n",
    "        return np.random.exponential(scale=1, size=datasize)\n",
    "    else: raise Exception(\"distribution doesn't work!\")"
   ]
  },
  {
   "cell_type": "code",
   "execution_count": 248,
   "metadata": {},
   "outputs": [],
   "source": [
    "def get_dataset(distro, datasize, g_test):\n",
    "    if g_test:\n",
    "        dataset = np.zeros((N_g, datasize))\n",
    "        for i in range(N_g):\n",
    "            dataset[i] = get_one_dt(distro, datasize)\n",
    "    else:\n",
    "        dataset = get_one_dt(distro, datasize)\n",
    "    return dataset"
   ]
  },
  {
   "cell_type": "code",
   "execution_count": 249,
   "metadata": {},
   "outputs": [],
   "source": [
    "def get_q_batch(dataset, tau_lst):\n",
    "    if len(dataset.shape) != 1:\n",
    "        raise Exception('Dataset for q_batch calculation of wrong shape: ' + str(dataset.shape))\n",
    "        \n",
    "    q_batch = np.zeros(len(tau_lst))\n",
    "    for i, tau in enumerate(tau_lst):\n",
    "        q_batch[i] = np.percentile(dataset, tau*100)\n",
    "    return q_batch"
   ]
  },
  {
   "cell_type": "code",
   "execution_count": 250,
   "metadata": {},
   "outputs": [],
   "source": [
    "def get_q_batches(dataset, tau_lst):\n",
    "    # g_test = False\n",
    "    if len(dataset.shape) == 1: \n",
    "        return get_q_batch(dataset, tau_lst)\n",
    "    else:\n",
    "        q_batches = np.zeros((dataset.shape[0], len(tau_lst)))\n",
    "        for i in range(q_batches.shape[0]):\n",
    "            q_batches[i] = get_q_batch(dataset[i], tau_lst)\n",
    "    return q_batches"
   ]
  },
  {
   "cell_type": "code",
   "execution_count": 251,
   "metadata": {},
   "outputs": [],
   "source": [
    "def get_q_ests(dataset, step_size, tau_lst, est_type):\n",
    "\n",
    "    if len(dataset.shape)!=2: raise Exception('Dataset for q_est calculation of wrong shape:' + str(dataset.shape))\n",
    "    \n",
    "    res = np.zeros((dataset.shape[0], len(tau_lst)))\n",
    "    proc = np.zeros((dataset.shape[0], len(tau_lst), dataset.shape[1]))\n",
    "    print ('res ', res.shape)\n",
    "    print ('proc', proc.shape)\n",
    "    return res, proc"
   ]
  },
  {
   "cell_type": "code",
   "execution_count": 252,
   "metadata": {},
   "outputs": [],
   "source": [
    "def quantile_sgd_compare(distro_lst, datasize_lst, stepsize_lst, est_lst,\n",
    "                         g_test=False, s_test=False, tau_lst=tau_vals):\n",
    "    \n",
    "    if g_test and s_test: raise Exception(\"g_test and s_test can't both be true\")\n",
    "    \n",
    "    # generate different settings\n",
    "    setting_lst, is_stepsize = get_settings(distro_lst, datasize_lst, stepsize_lst, est_lst)\n",
    "    print (setting_lst)\n",
    "    # if only stepsize changes, generate dataset and q_batches\n",
    "    dataset, q_batches = 0, 0\n",
    "    if is_stepsize:\n",
    "        dataset = get_dataset(distro_lst[0], datasize_lst[0], g_test)\n",
    "        q_batches = get_q_batches(dataset, tau_lst)\n",
    "        \n",
    "    # for each setting = [distro, datasize, stepsize]\n",
    "    for idx, setting in enumerate(setting_lst):\n",
    "        # generate all the data\n",
    "        distro, datasize, stepsize, est_type = setting[0], int(setting[1]), setting[2], setting[3]\n",
    "        if not is_stepsize:\n",
    "            dataset = get_dataset(distro, datasize, g_test)\n",
    "            q_batches = get_q_batches(dataset, tau_lst)\n",
    "        q_est_res, q_est_proc = get_q_ests(dataset, stepsize, tau_lst, est_type)\n",
    "        \n",
    "#         # generate charts and tables?\n",
    "#         name = get_name(distro, datasize, stepsize, tau_list, g_test, s_test)\n",
    "#         charts = get_charts(tau_lst, q_batches, q_sgd_res, q_sgd_proc, name)\n",
    "# #         tables = get_tables(tau_lst, q_batches, q_sgd_res, q_sgd_proc, name)"
   ]
  },
  {
   "cell_type": "markdown",
   "metadata": {},
   "source": [
    "<!---\n",
    "### Always have $q_k = x$ for each x in the data stream\n",
    "\n",
    "When $x - q_k > 0$, we have $l(q_k) = \\tau(x-q_k)$:\n",
    "\\begin{align}\n",
    "q_{k+1} & = q_k - \\frac{l(q_k)}{l'(q_k)} \\\\\n",
    "        & = q_k - \\frac{\\tau(x-q_k)}{-\\tau} \\\\\n",
    "        & = q_k - (- x + q_k) \\\\\n",
    "        & = x\n",
    "\\end{align}\n",
    "\n",
    "Same happens when $x - q_k < 0$\n",
    "-->"
   ]
  },
  {
   "cell_type": "code",
   "execution_count": 253,
   "metadata": {},
   "outputs": [
    {
     "name": "stdout",
     "output_type": "stream",
     "text": [
      "[['mix' '11' 'const' 'sgd']\n",
      " ['mix' '100' 'const' 'sgd']\n",
      " ['mix' '200' 'const' 'sgd']]\n",
      "res  (12, 5)\n",
      "proc (12, 5, 11)\n",
      "res  (12, 5)\n",
      "proc (12, 5, 100)\n",
      "res  (12, 5)\n",
      "proc (12, 5, 200)\n"
     ]
    }
   ],
   "source": [
    "quantile_sgd_compare(distro_lst=['mix'], \n",
    "                     datasize_lst=[11, 100, 200], \n",
    "                     stepsize_lst=['const'], \n",
    "                     est_lst = ['sgd'],\n",
    "                     g_test=True,\n",
    "                     s_test=False)"
   ]
  }
 ],
 "metadata": {
  "kernelspec": {
   "display_name": "Python 3",
   "language": "python",
   "name": "python3"
  },
  "language_info": {
   "codemirror_mode": {
    "name": "ipython",
    "version": 3
   },
   "file_extension": ".py",
   "mimetype": "text/x-python",
   "name": "python",
   "nbconvert_exporter": "python",
   "pygments_lexer": "ipython3",
   "version": "3.6.4"
  }
 },
 "nbformat": 4,
 "nbformat_minor": 2
}
