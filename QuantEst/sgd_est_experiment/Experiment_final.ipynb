{
 "cells": [
  {
   "cell_type": "markdown",
   "metadata": {},
   "source": [
    "### New file"
   ]
  },
  {
   "cell_type": "code",
   "execution_count": 1,
   "metadata": {},
   "outputs": [],
   "source": [
    "%matplotlib inline\n",
    "\n",
    "import io, os, sys, types\n",
    "from IPython import get_ipython\n",
    "from nbformat import read\n",
    "from IPython.core.interactiveshell import InteractiveShell\n",
    "\n",
    "\n",
    "import math\n",
    "import numpy as np\n",
    "import matplotlib.pyplot as plt\n",
    "import matplotlib.colors as colors\n",
    "import matplotlib.cm as cmx\n",
    "import os"
   ]
  },
  {
   "cell_type": "code",
   "execution_count": 2,
   "metadata": {},
   "outputs": [],
   "source": [
    "distros = ['mix', 'gau_1', 'gau_2', 'exp']\n",
    "stepsizes = ['const', '2_div_sqrt_k', '0.002_div_sqrt_k']\n",
    "\n",
    "tau_vals = [0.1, 0.3, 0.5, 0.9, 0.99]\n",
    "N_g = 12 # N_generation\n",
    "N_s = 10 # N_shuffle\n",
    "\n",
    "N_q = len(tau_vals)\n",
    "\n",
    "c_Norm = colors.Normalize(vmin=0, vmax=1)\n",
    "scalarMap = cmx.ScalarMappable(norm=c_Norm, cmap=plt.get_cmap('cool'))"
   ]
  },
  {
   "cell_type": "code",
   "execution_count": 3,
   "metadata": {},
   "outputs": [],
   "source": [
    "main_fd = 'Experiment_results/'\n",
    "fd_lst = ['Frugal_SGD', 'SGD']\n",
    "for fd in fd_lst:\n",
    "    if not os.path.exists(main_fd+fd):\n",
    "        os.makedirs(main_fd+fd)\n",
    "        \n",
    "sgd_lst = ['distro', 'data_size', 'step_size', 'data_sequence']        \n",
    "for fd in sgd_lst:\n",
    "    fd_name = main_fd+'SGD/'+fd\n",
    "    if not os.path.exists(fd_name):\n",
    "        os.makedirs(fd_name)"
   ]
  },
  {
   "cell_type": "code",
   "execution_count": 4,
   "metadata": {},
   "outputs": [],
   "source": [
    "def get_settings(distro_lst, datasize_lst, stepsize_lst):\n",
    "    len_lst = [len(distro_lst), len(datasize_lst), len(stepsize_lst)]\n",
    "    if len_lst.count(1) != len(len_lst)-1: raise Exception(\"Setting inputs are wrong!\")\n",
    "    \n",
    "    N_settings = max((len_lst))\n",
    "    setting_lst = []\n",
    "    for lst in [distro_lst, datasize_lst, stepsize_lst]:\n",
    "        if len(lst)==1: \n",
    "            lst = lst*N_settings\n",
    "        setting_lst.append(lst)\n",
    "        \n",
    "    changed_setting = None\n",
    "    if len(distro_lst)>1:\n",
    "        changed_setting = 'distro'\n",
    "    elif len(datasize_lst)>1:\n",
    "        changed_setting = 'data_size'\n",
    "    elif len(stepsize_lst)>1:\n",
    "        changed_setting = 'step_size'\n",
    "    return np.asarray(setting_lst).T, changed_setting\n"
   ]
  },
  {
   "cell_type": "code",
   "execution_count": 5,
   "metadata": {},
   "outputs": [],
   "source": [
    "def get_one_dt(distro, datasize):\n",
    "#     return np.ones(size)\n",
    "    if distro == 'gau_1':\n",
    "        return np.random.normal(2, 18, datasize)\n",
    "    elif distro == 'gau_2':\n",
    "        return np.random.normal(0, 0.001, datasize)\n",
    "    elif distro == 'mix':\n",
    "        # mean: -1.3\n",
    "        # std: 30.779035604224564\n",
    "        # var: 947.3490327261234\n",
    "        mix_lst = np.zeros(datasize)\n",
    "        sizes = np.array([0.3, 0.2, 0.1, 0.15, 0.25])\n",
    "        mixtures = [(2,7), (0,0.7), (36, 26), (5,77), (-77,7)]\n",
    "        acc_sizes = [sum(sizes[:i+1]) for i in range(len(sizes))]\n",
    "\n",
    "        for d_idx in range(datasize):\n",
    "            rdn = np.random.uniform(0,1)\n",
    "            mix_id = 0\n",
    "            for m_id in acc_sizes:\n",
    "                if rdn > m_id:\n",
    "                    mix_id += 1\n",
    "                else:break\n",
    "            data_point = np.random.normal(mixtures[mix_id][0], mixtures[mix_id][1])\n",
    "            mix_lst[d_idx] = data_point\n",
    "        return mix_lst\n",
    "    elif distro == 'exp':\n",
    "        return np.random.exponential(scale=1, size=datasize)*6.5 - 20\n",
    "    else: raise Exception(\"distribution doesn't work!\")"
   ]
  },
  {
   "cell_type": "code",
   "execution_count": 6,
   "metadata": {},
   "outputs": [],
   "source": [
    "def get_dataset(distro, datasize, g_test=False):\n",
    "    if g_test:\n",
    "        dataset = np.zeros((N_g, datasize))\n",
    "        for i in range(N_g):\n",
    "            dataset[i] = get_one_dt(distro, datasize)\n",
    "    else:\n",
    "        dataset = get_one_dt(distro, datasize)\n",
    "    return dataset"
   ]
  },
  {
   "cell_type": "code",
   "execution_count": 7,
   "metadata": {},
   "outputs": [],
   "source": [
    "def get_q_true(distro, tau_lst):\n",
    "    if tau_lst == tau_vals:\n",
    "        if distro=='gau_1':\n",
    "            return np.asarray([-21.06792817980280840537, \n",
    "                              -7.43920922874473411269,\n",
    "                              2,\n",
    "                              25.06792817980280840537,\n",
    "                              43.87426173273513981594])\n",
    "        elif distro=='gau_2':\n",
    "            return np.asarray([-0.001281551565544600466965,\n",
    "                              -5.244005127080407840383E-4,\n",
    "                              0,\n",
    "                              0.001281551565544600466965,\n",
    "                              0.002326347874040841100886])\n",
    "        elif distro=='mix':\n",
    "            # sampled from 100000000 datapoints\n",
    "            return np.asarray([-80.28496182,\n",
    "                               -29.02324254,\n",
    "                               -0.36011575,\n",
    "                               36.69268923,\n",
    "                               120.7676231])\n",
    "        elif distro=='exp':\n",
    "            return np.asarray([0.1053605156578263012275,\n",
    "                              0.3566749439387323789126,\n",
    "                              0.6931471805599453094172,\n",
    "                              2.302585092994045684018,\n",
    "                              4.605170185988091368036])*6.5 - 20\n",
    "    raise Exception('tau_lst should be tau_vals')\n",
    "    "
   ]
  },
  {
   "cell_type": "code",
   "execution_count": 8,
   "metadata": {},
   "outputs": [],
   "source": [
    "def get_q_batch(dataset, tau_lst):\n",
    "    if len(dataset.shape) != 1:\n",
    "        raise Exception('Dataset for q_batch calculation of wrong shape: ' + str(dataset.shape))\n",
    "        \n",
    "    q_batch = np.zeros(len(tau_lst))\n",
    "    for i, tau in enumerate(tau_lst):\n",
    "        q_batch[i] = np.percentile(dataset, tau*100)\n",
    "    return q_batch"
   ]
  },
  {
   "cell_type": "code",
   "execution_count": 9,
   "metadata": {},
   "outputs": [],
   "source": [
    "def get_q_batches(dataset, tau_lst):\n",
    "    # g_test = False\n",
    "    if len(dataset.shape) == 1: \n",
    "        return get_q_batch(dataset, tau_lst)\n",
    "    else:\n",
    "        q_batches = np.zeros((dataset.shape[0], len(tau_lst)))\n",
    "        for i in range(q_batches.shape[0]):\n",
    "            q_batches[i] = get_q_batch(dataset[i], tau_lst)\n",
    "    return q_batches"
   ]
  },
  {
   "cell_type": "code",
   "execution_count": 10,
   "metadata": {},
   "outputs": [],
   "source": [
    "def set_stepsize(k, stepsize):\n",
    "    if stepsize=='const':\n",
    "        return 1\n",
    "    elif stepsize=='2_div_sqrt_k':\n",
    "        return 2/math.sqrt(k)\n",
    "    elif stepsize=='0.002_div_sqrt_k':\n",
    "        return 0.002/math.sqrt(k)\n",
    "    raise Exception('stepsize parameter is wrong')"
   ]
  },
  {
   "cell_type": "code",
   "execution_count": 11,
   "metadata": {},
   "outputs": [],
   "source": [
    "def get_procs(dataset, step_size, tau_lst):\n",
    "    if len(dataset.shape)!= 1: \n",
    "        raise Exception('Dataset for get_procs() of wrong shape:' + str(dataset.shape)+ ', should be 1d array')\n",
    "        \n",
    "    procs = np.zeros((len(tau_lst), dataset.shape[0]))\n",
    "    for idx, tau in enumerate(tau_lst):\n",
    "        q = 0\n",
    "        q_sgd_proc = procs[idx]\n",
    "        # change stepsize\n",
    "        if step_size != 'frugal':\n",
    "            for k, x in enumerate(dataset):\n",
    "#                 if idx==1: print (k, ':', q)\n",
    "                alpha = set_stepsize(k+1, step_size)\n",
    "                if x > q:\n",
    "                    q = q + alpha*tau\n",
    "                else:\n",
    "                    q = q - alpha*(1-tau)\n",
    "                q_sgd_proc[k] = q\n",
    "        \n",
    "        # frugal\n",
    "        else:\n",
    "            rdn_lst = np.random.uniform(0,1, dataset.shape[0])\n",
    "            for k, x in enumerate(dataset):\n",
    "                rdn = rdn_lst[k]\n",
    "                if x > q and rdn > 1-tau:\n",
    "                    q += 1\n",
    "                elif x < q and rdn > tau:\n",
    "                    q -= 1\n",
    "                q_sgd_proc[k] = q\n",
    "    return procs"
   ]
  },
  {
   "cell_type": "code",
   "execution_count": 12,
   "metadata": {},
   "outputs": [],
   "source": [
    "# dataset = np.random.uniform(-100, 100, 1000)\n",
    "# proc = get_procs(dataset, 'const', tau_vals)\n",
    "# # print(proc[1])\n",
    "# plt.plot(proc.T)"
   ]
  },
  {
   "cell_type": "code",
   "execution_count": 13,
   "metadata": {},
   "outputs": [],
   "source": [
    "def get_res(procs):\n",
    "    if len(procs.shape)!=2:raise Exception('Procs of wrong shape:' + str(procs.shape)+ ', should be 2d array')\n",
    "    return procs[:, -1]"
   ]
  },
  {
   "cell_type": "code",
   "execution_count": 14,
   "metadata": {},
   "outputs": [],
   "source": [
    "def get_q_ests(dataset, step_size, tau_lst):\n",
    "\n",
    "    if len(dataset.shape)>2:\n",
    "        raise Exception('Dataset for q_est calculation of wrong shape:' + str(dataset.shape)+ ', should be 1d or 2d array')\n",
    "    if len(dataset.shape)==1:\n",
    "        procs = get_procs(dataset, step_size, tau_lst)\n",
    "        res = get_res(procs)\n",
    "    else:\n",
    "        res = np.zeros((dataset.shape[0], len(tau_lst)))\n",
    "        procs = np.zeros((dataset.shape[0], len(tau_lst), dataset.shape[1]))\n",
    "        for idx, dt in enumerate(dataset):\n",
    "            procs[idx] = get_procs(dt, step_size, tau_lst)\n",
    "            res[idx] = get_res(procs[idx])\n",
    "    return res, procs"
   ]
  },
  {
   "cell_type": "code",
   "execution_count": 15,
   "metadata": {},
   "outputs": [],
   "source": [
    "# dataset = get_dataset('gau_1', 1000, g_test=True) * 50 - 200\n",
    "# print(dataset.shape)\n",
    "\n",
    "# # proc1 = get_procs(dataset, 'const', tau_vals)\n",
    "# ## res1 = get_res(proc1)\n",
    "# # proc2 = get_procs(dataset, 'frugal', tau_vals)\n",
    "# # plt.plot(proc1.T)ad\n",
    "# # plt.plot(proc2.T)\n",
    "# # plt.show()\n",
    "\n",
    "\n",
    "# res, proc = get_q_ests(dataset, 'const', tau_vals)\n",
    "# print(res)\n",
    "# print(proc)"
   ]
  },
  {
   "cell_type": "code",
   "execution_count": 16,
   "metadata": {},
   "outputs": [],
   "source": [
    "def get_normalized_e(true, batches, est):\n",
    "    upper = est - batches\n",
    "    bottom = true - batches\n",
    "    return (upper/bottom)"
   ]
  },
  {
   "cell_type": "markdown",
   "metadata": {},
   "source": [
    "### Plots"
   ]
  },
  {
   "cell_type": "code",
   "execution_count": 17,
   "metadata": {},
   "outputs": [],
   "source": [
    "def plot_charts(folder_name, plot_name, tau_lst, q_batches, sgd_res, sgd_proc, q_true, e):\n",
    "    \n",
    "#     print (\"compare results with stripe plots\")\n",
    "    category, setting = plot_name[0], plot_name[1]\n",
    "    ax_name = 'Tested on '+category+': '+str(setting)\n",
    "    file_name = folder_name+str(setting)\n",
    "    \n",
    "    \n",
    "    fig_res, lgd_res = plot_spectrum_stripes(ax_name, tau_lst, q_batches, sgd_res)\n",
    "    title = fig_res.suptitle('Batch vs SGD quantile results')\n",
    "    plt.savefig(file_name+\"_res.png\", bbox_extra_artists=[lgd_res, fig_res], bbox_inches='tight')\n",
    "    \n",
    "\n",
    "    fig_proc, lgd_proc = plot_procs(ax_name, tau_lst, q_true, sgd_proc)\n",
    "    fig_proc.suptitle('SGD Quantile Estimation Processes')\n",
    "    plt.savefig(file_name+\"_proc.png\", bbox_extra_artists=[lgd_proc, fig_proc], bbox_inches='tight')\n",
    "\n",
    "    \n",
    "#     print (\"compare E results\")\n",
    "#     e = compute_E_res(q_lst, q_batches, q_sgd_res)\n",
    "    fig_err = plot_E_res(ax_name, tau_lst, e)\n",
    "    plt.savefig(file_name+\"_err.png\")\n",
    "    "
   ]
  },
  {
   "cell_type": "markdown",
   "metadata": {},
   "source": [
    "### Export as data files"
   ]
  },
  {
   "cell_type": "code",
   "execution_count": 59,
   "metadata": {},
   "outputs": [],
   "source": [
    "def write_data(data, filename, setting):\n",
    "    with open(filename, 'w') as outfile:\n",
    "        outfile.write('# Setting: {0}\\n'.format(setting))\n",
    "        outfile.write('# Array shape: {0}\\n'.format(data.shape))\n",
    "\n",
    "        for data_slice in data:\n",
    "            np.savetxt(outfile, data_slice, fmt='%-15.8g')\n",
    "            outfile.write('\\n')\n",
    "\n",
    "            \n",
    "dt = np.random.uniform(0, 0.0000001, 120)\n",
    "dt = np.reshape(dt, (3, 4, 10))\n",
    "# print(dt.shape)\n",
    "write_data(dt, 'test.txt', 'setting')\n",
    "            \n",
    "# def export_file(name, data):\n",
    "#     return 0"
   ]
  },
  {
   "cell_type": "code",
   "execution_count": 60,
   "metadata": {},
   "outputs": [
    {
     "data": {
      "text/plain": [
       "(3, 4, 10)"
      ]
     },
     "execution_count": 60,
     "metadata": {},
     "output_type": "execute_result"
    }
   ],
   "source": [
    "def read_data(f):\n",
    "    return np.loadtxt(f)\n",
    "    \n",
    "a = read_data('test.txt')\n",
    "b = np.reshape(a, (3, 4, 10))\n",
    "\n",
    "b.shape"
   ]
  },
  {
   "cell_type": "code",
   "execution_count": 61,
   "metadata": {},
   "outputs": [
    {
     "data": {
      "text/plain": [
       "array([[[8.30578861e-08, 4.56116317e-08, 1.75834200e-08, 2.19332379e-08,\n",
       "         8.21751889e-08, 5.76189244e-08, 1.69888953e-08, 4.64844673e-08,\n",
       "         1.65456624e-08, 3.14964942e-08],\n",
       "        [4.74242910e-08, 7.67745847e-08, 1.38684583e-08, 3.54797098e-08,\n",
       "         9.87401185e-10, 4.99683230e-08, 7.06964560e-08, 1.09851738e-08,\n",
       "         6.46287773e-08, 7.07465596e-08],\n",
       "        [1.56802860e-08, 6.85727138e-08, 2.92431124e-08, 8.30171095e-08,\n",
       "         5.95020677e-08, 1.84392306e-08, 9.86790409e-08, 2.54056428e-08,\n",
       "         6.52522468e-08, 4.72025758e-08],\n",
       "        [4.95246368e-08, 2.24381704e-08, 2.37126719e-08, 2.95327723e-08,\n",
       "         9.12279512e-08, 4.42083549e-08, 2.75414243e-08, 6.88784505e-08,\n",
       "         6.05895936e-08, 8.25604107e-08]],\n",
       "\n",
       "       [[7.75154816e-08, 4.62470595e-08, 1.82988996e-08, 4.10043018e-08,\n",
       "         2.69209988e-08, 2.52753583e-08, 7.13260244e-08, 4.36391853e-09,\n",
       "         1.80627769e-08, 7.39750968e-08],\n",
       "        [8.29262029e-08, 7.08135711e-08, 4.02367180e-09, 4.23773190e-08,\n",
       "         5.49538021e-08, 4.08181996e-08, 3.47433825e-08, 2.30074791e-09,\n",
       "         2.70806629e-08, 9.36259451e-08],\n",
       "        [1.56316588e-08, 1.97885804e-08, 2.52019046e-08, 8.11417966e-08,\n",
       "         3.21650371e-08, 5.07453185e-08, 1.77168603e-08, 7.59512179e-08,\n",
       "         7.20573840e-08, 6.40562254e-08],\n",
       "        [2.07469879e-08, 9.70756290e-08, 7.20411945e-08, 2.68341405e-08,\n",
       "         7.53520548e-09, 8.56792403e-08, 6.12200528e-08, 7.17840893e-08,\n",
       "         6.00930948e-08, 4.34900208e-08]],\n",
       "\n",
       "       [[2.53938651e-08, 6.13602561e-08, 1.27564436e-08, 3.10149505e-08,\n",
       "         4.56825304e-08, 6.34944832e-08, 6.47176704e-08, 5.48347498e-08,\n",
       "         7.21873418e-08, 7.36168895e-08],\n",
       "        [4.41798621e-08, 6.01500400e-08, 4.68568053e-08, 7.81327154e-08,\n",
       "         7.06134858e-08, 8.99982561e-08, 4.26436389e-08, 7.20047401e-08,\n",
       "         7.06140687e-08, 9.46560818e-08],\n",
       "        [1.94754193e-08, 5.57536489e-08, 1.58402945e-08, 1.38412792e-08,\n",
       "         5.76017557e-08, 8.95294905e-08, 8.12086103e-09, 9.28835364e-08,\n",
       "         3.91054911e-08, 8.00729634e-09],\n",
       "        [7.47973517e-08, 9.63855772e-09, 1.87907551e-08, 7.61741205e-08,\n",
       "         4.92185584e-08, 8.47397532e-08, 5.70708098e-08, 4.39539412e-08,\n",
       "         8.08210329e-08, 8.49754958e-09]]])"
      ]
     },
     "execution_count": 61,
     "metadata": {},
     "output_type": "execute_result"
    }
   ],
   "source": [
    "dt"
   ]
  },
  {
   "cell_type": "code",
   "execution_count": 62,
   "metadata": {},
   "outputs": [
    {
     "data": {
      "text/plain": [
       "array([[[8.3057886e-08, 4.5611632e-08, 1.7583420e-08, 2.1933238e-08,\n",
       "         8.2175189e-08, 5.7618924e-08, 1.6988895e-08, 4.6484467e-08,\n",
       "         1.6545662e-08, 3.1496494e-08],\n",
       "        [4.7424291e-08, 7.6774585e-08, 1.3868458e-08, 3.5479710e-08,\n",
       "         9.8740118e-10, 4.9968323e-08, 7.0696456e-08, 1.0985174e-08,\n",
       "         6.4628777e-08, 7.0746560e-08],\n",
       "        [1.5680286e-08, 6.8572714e-08, 2.9243112e-08, 8.3017110e-08,\n",
       "         5.9502068e-08, 1.8439231e-08, 9.8679041e-08, 2.5405643e-08,\n",
       "         6.5252247e-08, 4.7202576e-08],\n",
       "        [4.9524637e-08, 2.2438170e-08, 2.3712672e-08, 2.9532772e-08,\n",
       "         9.1227951e-08, 4.4208355e-08, 2.7541424e-08, 6.8878450e-08,\n",
       "         6.0589594e-08, 8.2560411e-08]],\n",
       "\n",
       "       [[7.7515482e-08, 4.6247060e-08, 1.8298900e-08, 4.1004302e-08,\n",
       "         2.6920999e-08, 2.5275358e-08, 7.1326024e-08, 4.3639185e-09,\n",
       "         1.8062777e-08, 7.3975097e-08],\n",
       "        [8.2926203e-08, 7.0813571e-08, 4.0236718e-09, 4.2377319e-08,\n",
       "         5.4953802e-08, 4.0818200e-08, 3.4743382e-08, 2.3007479e-09,\n",
       "         2.7080663e-08, 9.3625945e-08],\n",
       "        [1.5631659e-08, 1.9788580e-08, 2.5201905e-08, 8.1141797e-08,\n",
       "         3.2165037e-08, 5.0745319e-08, 1.7716860e-08, 7.5951218e-08,\n",
       "         7.2057384e-08, 6.4056225e-08],\n",
       "        [2.0746988e-08, 9.7075629e-08, 7.2041195e-08, 2.6834141e-08,\n",
       "         7.5352055e-09, 8.5679240e-08, 6.1220053e-08, 7.1784089e-08,\n",
       "         6.0093095e-08, 4.3490021e-08]],\n",
       "\n",
       "       [[2.5393865e-08, 6.1360256e-08, 1.2756444e-08, 3.1014950e-08,\n",
       "         4.5682530e-08, 6.3494483e-08, 6.4717670e-08, 5.4834750e-08,\n",
       "         7.2187342e-08, 7.3616889e-08],\n",
       "        [4.4179862e-08, 6.0150040e-08, 4.6856805e-08, 7.8132715e-08,\n",
       "         7.0613486e-08, 8.9998256e-08, 4.2643639e-08, 7.2004740e-08,\n",
       "         7.0614069e-08, 9.4656082e-08],\n",
       "        [1.9475419e-08, 5.5753649e-08, 1.5840295e-08, 1.3841279e-08,\n",
       "         5.7601756e-08, 8.9529490e-08, 8.1208610e-09, 9.2883536e-08,\n",
       "         3.9105491e-08, 8.0072963e-09],\n",
       "        [7.4797352e-08, 9.6385577e-09, 1.8790755e-08, 7.6174121e-08,\n",
       "         4.9218558e-08, 8.4739753e-08, 5.7070810e-08, 4.3953941e-08,\n",
       "         8.0821033e-08, 8.4975496e-09]]])"
      ]
     },
     "execution_count": 62,
     "metadata": {},
     "output_type": "execute_result"
    }
   ],
   "source": [
    "b"
   ]
  },
  {
   "cell_type": "markdown",
   "metadata": {},
   "source": [
    "### Main functions "
   ]
  },
  {
   "cell_type": "code",
   "execution_count": 19,
   "metadata": {},
   "outputs": [],
   "source": [
    "def get_plot_name(changed_setting, distro, datasize, stepsize, s_test):\n",
    "    print(changed_setting)\n",
    "    if s_test:\n",
    "        return ('Shuffle', True)\n",
    "    elif changed_setting=='distro':\n",
    "        return ('Distribution', distro)\n",
    "    elif changed_setting=='data_size':\n",
    "        return ('Data size', datasize)\n",
    "    elif changed_setting=='step_size':\n",
    "        return ('Step size', stepsize)\n",
    "    else: raise Exception ('Cannot get plot name')"
   ]
  },
  {
   "cell_type": "code",
   "execution_count": 20,
   "metadata": {},
   "outputs": [],
   "source": [
    "def quantile_sgd_compare(folder_name, distro_lst, datasize_lst, stepsize_lst, \n",
    "                         g_test=False, s_test=False, tau_lst=tau_vals, \n",
    "                        ):\n",
    "    \n",
    "    if g_test and s_test: raise Exception(\"g_test and s_test can't both be true\")\n",
    "    \n",
    "    # generate different settings\n",
    "    setting_lst, changed_setting = get_settings(distro_lst, datasize_lst, stepsize_lst,)\n",
    "    print (setting_lst)\n",
    "    # if only stepsize changes, generate dataset and q_batches\n",
    "    dataset, q_batches = 0, 0\n",
    "    if changed_setting=='step_size':\n",
    "        dataset = get_dataset(distro_lst[0], datasize_lst[0], g_test)\n",
    "        q_batches = get_q_batches(dataset, tau_lst)\n",
    "        \n",
    "    # for each setting = [distro, datasize, stepsize]\n",
    "    for idx, setting in enumerate(setting_lst):\n",
    "        # generate all the data\n",
    "        distro, datasize, stepsize = setting[0], int(setting[1]), setting[2]\n",
    "        q_true = get_q_true(distro, tau_lst)\n",
    "        if changed_setting != 'step_size':\n",
    "            dataset = get_dataset(distro, datasize, g_test)\n",
    "            q_batches = get_q_batches(dataset, tau_lst)\n",
    "        if s_test:\n",
    "            shuffled_dt = np.zeros((N_s, datasize))\n",
    "            for i in range(N_s):\n",
    "                np.random.shuffle(dataset)\n",
    "                shuffled_dt[i] = dataset\n",
    "            dataset = shuffled_dt\n",
    "        q_est_res, q_est_proc = get_q_ests(dataset, stepsize, tau_lst)\n",
    "        E = get_normalized_e(q_true, q_batches, q_est_res)\n",
    "#         print(E)\n",
    "        \n",
    "#         # generate charts and tables?\n",
    "        plot_name = get_plot_name(changed_setting, distro, datasize, stepsize, s_test)\n",
    "        plot_charts(folder_name, plot_name, tau_lst, q_batches, q_est_res, q_est_proc, q_true, E)"
   ]
  },
  {
   "cell_type": "code",
   "execution_count": 21,
   "metadata": {},
   "outputs": [],
   "source": [
    "# # sgd_lst = ['distro', 'data_size', 'step_size', 'data_sequance']        \n",
    "\n",
    "# def all_sgd_comparisons():\n",
    "#     for t in sgd_lst:\n",
    "#         print (t)\n",
    "#         folder_name = \"Experiment_results/SGD/\"+t+\"/\"\n",
    "#         if t=='distro':\n",
    "#             quantile_sgd_compare(folder_name, distros, [1000], ['const'], True)\n",
    "#         elif t=='data_size':\n",
    "#             quantile_sgd_compare(folder_name, ['gau_1'], [100, 1000, 100000], ['const'], True)\n",
    "#         elif t=='step_size':\n",
    "#             quantile_sgd_compare(folder_name, ['gau_1'], [1000], stepsizes, True)\n",
    "#         elif t=='data_sequence':\n",
    "#             quantile_sgd_compare(folder_name, ['gau_1', 'gau_1'], [1000], ['const'], False, True)\n",
    "            \n",
    "            \n",
    "# all_sgd_comparisons()"
   ]
  },
  {
   "cell_type": "code",
   "execution_count": 22,
   "metadata": {},
   "outputs": [],
   "source": [
    "# def sgd_frugal_compare(distro_lst, datasize, tau_lst=tau_vals):\n",
    "#     #distro changes, use the biggest datasize, do not shuffle\n",
    "#     for distro in distro_lst:\n",
    "#         q_true = get_q_true(distro, tau_lst)\n",
    "#         dataset = get_dataset(distro, datasize, False)\n",
    "#         q_batches = get_q_batches(dataset, tau_lst)\n",
    "        \n",
    "#         sgd_res, sgd_proc = get_q_ests(dataset, 'const', tau_lst)\n",
    "        \n",
    "#         N_frugal = 20\n",
    "#         frugal_res = np.zeros((N_frugal, len(tau_lst)))\n",
    "#         frugal_proc = np.zeros((N_frugal, len(tau_lst), datasize))\n",
    "#         for i in range(N_frugal):\n",
    "#             frugal_res[i], frugal_proc[i] = get_q_ests(dataset, 'frugal', tau_lst)\n",
    "        \n",
    "#         ax_name = 'Tested on '+distro+' distritbution with '+str(datasize)+' data points'\n",
    "#         fig, lgd = plot_procs(ax_name, tau_vals, q_true, frugal_proc, sgd_proc)\n",
    "#         title = fig.suptitle('Quantile Estimation: Frugal vs SGD')\n",
    "\n",
    "#         fd = \"Experiment_results/Frugal_SGD/\"\n",
    "#         plt.savefig(fd+distro+'.png', bbox_extra_artists=(lgd, title), bbox_inches='tight')\n",
    "        \n",
    "        \n",
    "# sgd_frugal_compare(distros, 1000)"
   ]
  },
  {
   "cell_type": "markdown",
   "metadata": {},
   "source": [
    "<!---\n",
    "### Always have $q_k = x$ for each x in the data stream\n",
    "\n",
    "When $x - q_k > 0$, we have $l(q_k) = \\tau(x-q_k)$:\n",
    "\\begin{align}\n",
    "q_{k+1} & = q_k - \\frac{l(q_k)}{l'(q_k)} \\\\\n",
    "        & = q_k - \\frac{\\tau(x-q_k)}{-\\tau} \\\\\n",
    "        & = q_k - (- x + q_k) \\\\\n",
    "        & = x\n",
    "\\end{align}\n",
    "\n",
    "Same happens when $x - q_k < 0$\n",
    "-->"
   ]
  },
  {
   "cell_type": "code",
   "execution_count": null,
   "metadata": {},
   "outputs": [],
   "source": []
  }
 ],
 "metadata": {
  "kernelspec": {
   "display_name": "Python 3",
   "language": "python",
   "name": "python3"
  },
  "language_info": {
   "codemirror_mode": {
    "name": "ipython",
    "version": 3
   },
   "file_extension": ".py",
   "mimetype": "text/x-python",
   "name": "python",
   "nbconvert_exporter": "python",
   "pygments_lexer": "ipython3",
   "version": "3.6.4"
  }
 },
 "nbformat": 4,
 "nbformat_minor": 2
}
