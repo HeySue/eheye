{
 "cells": [
  {
   "cell_type": "markdown",
   "metadata": {},
   "source": [
    "### Analysis\n",
    "\n",
    "Limitation of the two algorithms:\n",
    "\n",
    "- shifQ: needs all quantiles to be positive\n",
    "     \n",
    "- P2: \n",
    "    - needs pre-knowledge of the data size;\n",
    "    - needs really big dataset (size = 10^7) to have a \"not bad\" estimation\n",
    "    "
   ]
  },
  {
   "cell_type": "markdown",
   "metadata": {},
   "source": [
    "### What I've done\n",
    "\n",
    "P2 algorithm (completed, no error while running)\n",
    "- But doesn't seem to work well: the fluctuation of quantile estimations are too big\n",
    "- Cannot find even psedo-code for the algorithm, some parts are rather unclear\n",
    "- **Solution**: Take at most one day to try adjust the implementation or I'll use their data to compare"
   ]
  },
  {
   "cell_type": "markdown",
   "metadata": {},
   "source": [
    "### Plan for next week\n",
    "\n",
    "1. Compare P2 algorithm with shiftQ and SGD\n",
    "2. Apply step size adaptation method SGA\n",
    "3. Thesis writting chapter ?"
   ]
  },
  {
   "cell_type": "markdown",
   "metadata": {},
   "source": [
    "# 60 days from thesis due "
   ]
  },
  {
   "cell_type": "code",
   "execution_count": null,
   "metadata": {},
   "outputs": [],
   "source": []
  }
 ],
 "metadata": {
  "kernelspec": {
   "display_name": "Python 3",
   "language": "python",
   "name": "python3"
  },
  "language_info": {
   "codemirror_mode": {
    "name": "ipython",
    "version": 3
   },
   "file_extension": ".py",
   "mimetype": "text/x-python",
   "name": "python",
   "nbconvert_exporter": "python",
   "pygments_lexer": "ipython3",
   "version": "3.6.4"
  }
 },
 "nbformat": 4,
 "nbformat_minor": 2
}
