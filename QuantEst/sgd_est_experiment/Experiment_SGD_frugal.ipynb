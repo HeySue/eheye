{
 "cells": [
  {
   "cell_type": "code",
   "execution_count": 6,
   "metadata": {},
   "outputs": [],
   "source": [
    "import math\n",
    "import numpy as np\n",
    "import os\n",
    "from Dataset_generation import get_dataset, get_q_batches, get_q_true, get_shuffled_dataset\n",
    "from Output_data_generation import initialize_folders, get_settings, get_file_name, save_data\n",
    "from Quantile_procs import get_procs, get_res"
   ]
  },
  {
   "cell_type": "code",
   "execution_count": 10,
   "metadata": {},
   "outputs": [],
   "source": [
    "from Plot import plot_charts"
   ]
  },
  {
   "cell_type": "code",
   "execution_count": 7,
   "metadata": {},
   "outputs": [],
   "source": [
    "sgd_lst = ['distro', 'data_size', 'step_size', 'data_sequence']        \n",
    "tau_vals = [0.1, 0.3, 0.5, 0.9, 0.99]"
   ]
  },
  {
   "cell_type": "code",
   "execution_count": 8,
   "metadata": {},
   "outputs": [],
   "source": [
    "# Get quantile estimates\n",
    "def get_q_ests(dataset, tau_lst, method_name, stepsize):\n",
    "    print (\"get_q_ests using method_name {}\".format(method_name))\n",
    "    if len(dataset.shape)>2:\n",
    "        raise Exception('Dataset for q_est calculation of wrong shape: {}, should be 1d or 2d array'\n",
    "                        .format(str(dataset.shape)))\n",
    "    if len(dataset.shape)==1:\n",
    "        procs = get_procs(dataset, tau_lst, method_name, stepsize=stepsize)\n",
    "        res = get_res(procs)\n",
    "    else:\n",
    "        res = np.zeros((dataset.shape[0], len(tau_lst)))\n",
    "        procs = np.zeros((dataset.shape[0], len(tau_lst), dataset.shape[1]))\n",
    "        for idx, dt in enumerate(dataset):\n",
    "            procs[idx] = get_procs(dt, tau_lst, method_name, stepsize=stepsize)\n",
    "            res[idx] = get_res(procs[idx])\n",
    "    return res, procs"
   ]
  },
  {
   "cell_type": "code",
   "execution_count": 11,
   "metadata": {},
   "outputs": [],
   "source": [
    "def get_normalized_e(true, batches, est):\n",
    "    upper = est - batches\n",
    "    bottom = true - batches\n",
    "    return (upper/bottom)"
   ]
  },
  {
   "cell_type": "code",
   "execution_count": 23,
   "metadata": {},
   "outputs": [
    {
     "name": "stdout",
     "output_type": "stream",
     "text": [
      "get_q_ests using method_name SGD\n",
      "get_q_ests using method_name Frugal\n",
      "get_q_ests using method_name Frugal\n",
      "get_q_ests using method_name Frugal\n",
      "get_q_ests using method_name Frugal\n",
      "get_q_ests using method_name Frugal\n",
      "get_q_ests using method_name Frugal\n",
      "get_q_ests using method_name Frugal\n",
      "get_q_ests using method_name Frugal\n",
      "get_q_ests using method_name Frugal\n",
      "get_q_ests using method_name Frugal\n",
      "get_q_ests using method_name Frugal\n",
      "get_q_ests using method_name Frugal\n",
      "get_q_ests using method_name Frugal\n",
      "get_q_ests using method_name Frugal\n",
      "get_q_ests using method_name Frugal\n",
      "get_q_ests using method_name Frugal\n",
      "get_q_ests using method_name Frugal\n",
      "get_q_ests using method_name Frugal\n",
      "get_q_ests using method_name Frugal\n",
      "get_q_ests using method_name Frugal\n"
     ]
    }
   ],
   "source": [
    "distro = 'gau_1'\n",
    "datasize = 1000\n",
    "tau_lst = tau_vals\n",
    "\n",
    "dataset = get_dataset(distro, datasize, False)\n",
    "\n",
    "q_true = get_q_true(distro, tau_vals)\n",
    "q_batches = get_q_batches(dataset, tau_vals)\n",
    "sgd_est_res, sgd_res_proc = get_q_ests(dataset, tau_vals, \"SGD\", 'const')\n",
    "\n",
    "N_frugal = 20\n",
    "frugal_res = np.zeros((N_frugal, len(tau_lst)))\n",
    "frugal_proc = np.zeros((N_frugal, len(tau_lst), datasize))\n",
    "for i in range(N_frugal):\n",
    "    frugal_res[i], frugal_proc[i] = get_q_ests(dataset, tau_vals, \"Frugal\", None)\n",
    "q_est_res, q_est_proc = frugal_res, frugal_proc\n",
    "E = get_normalized_e(q_true, sgd_est_res, q_est_res)\n"
   ]
  },
  {
   "cell_type": "code",
   "execution_count": 24,
   "metadata": {},
   "outputs": [
    {
     "name": "stdout",
     "output_type": "stream",
     "text": [
      "Experiment_results/Frugal_SGD/distro/gau_1_q_true.txt\n",
      "Experiment_results/Frugal_SGD/distro/gau_1_q_batches.txt\n",
      "Experiment_results/Frugal_SGD/distro/gau_1_q_est_res.txt\n",
      "Experiment_results/Frugal_SGD/distro/gau_1_q_est_proc.txt\n",
      "Experiment_results/Frugal_SGD/distro/gau_1_E.txt\n"
     ]
    }
   ],
   "source": [
    "# file_name = get_file_name(changed_setting, distro, datasize, stepsize, SHUFFLE)\n",
    "file_name = ('Distribution', distro)\n",
    "\n",
    "folder_name = \"Experiment_results/Frugal_SGD/distro/\"\n",
    "\n",
    "data_dict = {\n",
    "    'q_true': q_true,\n",
    "    'q_batches': q_batches,\n",
    "    'q_est_res': q_est_res,\n",
    "    'q_est_proc': q_est_proc,\n",
    "    'E': E\n",
    "}\n",
    "    \n",
    "save_data(folder_name, file_name, tau_vals, data_dict, \"Frugal\")"
   ]
  },
  {
   "cell_type": "code",
   "execution_count": 21,
   "metadata": {},
   "outputs": [
    {
     "name": "stdout",
     "output_type": "stream",
     "text": [
      "Experiment_results/Frugal_SGD/distro/gau_1_\n",
      "q label is  Frugal\n",
      "q label is  Frugal\n",
      "q label is  Frugal\n"
     ]
    }
   ],
   "source": [
    "plot_charts(\"Experiment_results/Frugal_SGD/distro\")"
   ]
  },
  {
   "cell_type": "code",
   "execution_count": null,
   "metadata": {},
   "outputs": [],
   "source": [
    "# def sgd_frugal_compare(distro_lst, datasize, tau_lst=tau_vals):\n",
    "#     #distro changes, use the biggest datasize, do not shuffle\n",
    "#     for distro in distro_lst:\n",
    "#         q_true = get_q_true(distro, tau_lst)\n",
    "#         dataset = get_dataset(distro, datasize, False)\n",
    "#         q_batches = get_q_batches(dataset, tau_lst)\n",
    "        \n",
    "#         sgd_res, sgd_proc = get_q_ests(dataset, 'const', tau_lst)\n",
    "        \n",
    "#         N_frugal = 20\n",
    "#         frugal_res = np.zeros((N_frugal, len(tau_lst)))\n",
    "#         frugal_proc = np.zeros((N_frugal, len(tau_lst), datasize))\n",
    "#         for i in range(N_frugal):\n",
    "#             frugal_res[i], frugal_proc[i] = get_q_ests(dataset, 'frugal', tau_lst)\n",
    "        \n",
    "#         ax_name = 'Tested on '+distro+' distritbution with '+str(datasize)+' data points'\n",
    "#         fig, lgd = plot_procs(ax_name, tau_vals, q_true, frugal_proc, sgd_proc)\n",
    "#         title = fig.suptitle('Quantile Estimation: Frugal vs SGD')\n",
    "\n",
    "#         fd = \"Experiment_results/Frugal_SGD/\"\n",
    "#         plt.savefig(fd+distro+'.png', bbox_extra_artists=(lgd, title), bbox_inches='tight')\n",
    "        \n",
    "        \n",
    "# sgd_frugal_compare(distros, 1000)"
   ]
  }
 ],
 "metadata": {
  "kernelspec": {
   "display_name": "Python 3",
   "language": "python",
   "name": "python3"
  },
  "language_info": {
   "codemirror_mode": {
    "name": "ipython",
    "version": 3
   },
   "file_extension": ".py",
   "mimetype": "text/x-python",
   "name": "python",
   "nbconvert_exporter": "python",
   "pygments_lexer": "ipython3",
   "version": "3.6.4"
  }
 },
 "nbformat": 4,
 "nbformat_minor": 2
}
