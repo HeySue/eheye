{
 "cells": [
  {
   "cell_type": "markdown",
   "metadata": {},
   "source": [
    "### Dataset Selection\n",
    "\n",
    "**Binary classification**:\n",
    "\n",
    "1. MAGIC Gamma Telescope:\n",
    "\n",
    "    shape(19020, 11)\n",
    "    \n",
    "    https://archive.ics.uci.edu/ml/datasets/MAGIC+Gamma+Telescope\n",
    "    \n",
    "2. MiniBooNE Particle Identification:\n",
    "    \n",
    "    (130065, 50)\n",
    "\n",
    "    https://archive.ics.uci.edu/ml/datasets/MiniBooNE+particle+identification\n",
    "    \n",
    "3. **Skin Segmentation:**\n",
    "\n",
    "    (245057, 4)\n",
    "\n",
    "    https://archive.ics.uci.edu/ml/datasets/skin+segmentation\n",
    "    \n",
    "4. Spambase: \n",
    "\n",
    "    (4601, 57)\n",
    "    \n",
    "    https://archive.ics.uci.edu/ml/datasets/spambase\n",
    "    \n",
    "**Multi-class classification**:\n",
    "1. Steel Plates Faults: \n",
    "\n",
    "    (1941, 21)\n",
    "    \n",
    "    http://archive.ics.uci.edu/ml/datasets/steel+plates+faults\n",
    "    \n",
    "2. Gas Sensor Array Drift:\n",
    "\n",
    "    (13910, 128)\n",
    "    \n",
    "     https://archive.ics.uci.edu/ml/datasets/gas+sensor+array+drift+dataset\n",
    "    \n",
    "3. Image Segmentation:\n",
    "\n",
    "4. Landsat Satellite:\n",
    "\n",
    "5. Letter Recognition\n",
    "\n",
    "6. Optical Recognition of Handwritten Digits\n",
    "\n",
    "7. Page Blocks\n",
    "\n",
    "8. Shuttle\n",
    "\n",
    "9. Waveform\n",
    "\n",
    "10. Yeast\n",
    "\n",
    "\n",
    "**Regression**: \n",
    "\n",
    "1. Abalone \n",
    "\n",
    "    (4177,8)\n",
    "    \n",
    "    https://archive.ics.uci.edu/ml/datasets/Abalone\n",
    "\n",
    "2. Communities and Crime \n",
    "\n",
    "    (1994,128)\n",
    "    \n",
    "    http://archive.ics.uci.edu/ml/datasets/communities+and+crime\n",
    "\n",
    "3. Concrete Compressive Strength \n",
    "\n",
    "    (1030, 9)\n",
    "    \n",
    "    https://archive.ics.uci.edu/ml/datasets/concrete+compressive+strength\n",
    "\n",
    "4. Wine \n",
    "\n",
    "    (178,13)\n",
    "    \n",
    "    https://archive.ics.uci.edu/ml/datasets/wine\n",
    "\n",
    "5. Year Prediction \n",
    "\n",
    "    (515345, 90)\n",
    "    \n",
    "    https://archive.ics.uci.edu/ml/datasets/yearpredictionmsd"
   ]
  },
  {
   "cell_type": "code",
   "execution_count": 64,
   "metadata": {},
   "outputs": [],
   "source": [
    "import pandas as pd\n",
    "import numpy as np\n",
    "import math"
   ]
  },
  {
   "cell_type": "code",
   "execution_count": 65,
   "metadata": {},
   "outputs": [],
   "source": [
    "df = pd.read_csv('Skin_NonSkin.txt', sep = '\\t', header = None)\n",
    "df.columns = ['a', 'b', 'c', 'label']"
   ]
  },
  {
   "cell_type": "code",
   "execution_count": 66,
   "metadata": {},
   "outputs": [
    {
     "data": {
      "text/plain": [
       "2    194198\n",
       "1     50859\n",
       "Name: label, dtype: int64"
      ]
     },
     "execution_count": 66,
     "metadata": {},
     "output_type": "execute_result"
    }
   ],
   "source": [
    "# Label 2 has more sample, it is chosen as the normal data, and label 1 is the abnormal one\n",
    "df['label'].value_counts()"
   ]
  },
  {
   "cell_type": "code",
   "execution_count": 67,
   "metadata": {},
   "outputs": [
    {
     "data": {
      "text/html": [
       "<div>\n",
       "<style scoped>\n",
       "    .dataframe tbody tr th:only-of-type {\n",
       "        vertical-align: middle;\n",
       "    }\n",
       "\n",
       "    .dataframe tbody tr th {\n",
       "        vertical-align: top;\n",
       "    }\n",
       "\n",
       "    .dataframe thead th {\n",
       "        text-align: right;\n",
       "    }\n",
       "</style>\n",
       "<table border=\"1\" class=\"dataframe\">\n",
       "  <thead>\n",
       "    <tr style=\"text-align: right;\">\n",
       "      <th></th>\n",
       "      <th>a</th>\n",
       "      <th>b</th>\n",
       "      <th>c</th>\n",
       "      <th>label</th>\n",
       "    </tr>\n",
       "  </thead>\n",
       "  <tbody>\n",
       "    <tr>\n",
       "      <th>0</th>\n",
       "      <td>74</td>\n",
       "      <td>85</td>\n",
       "      <td>123</td>\n",
       "      <td>1</td>\n",
       "    </tr>\n",
       "    <tr>\n",
       "      <th>1</th>\n",
       "      <td>73</td>\n",
       "      <td>84</td>\n",
       "      <td>122</td>\n",
       "      <td>1</td>\n",
       "    </tr>\n",
       "    <tr>\n",
       "      <th>2</th>\n",
       "      <td>72</td>\n",
       "      <td>83</td>\n",
       "      <td>121</td>\n",
       "      <td>1</td>\n",
       "    </tr>\n",
       "    <tr>\n",
       "      <th>3</th>\n",
       "      <td>70</td>\n",
       "      <td>81</td>\n",
       "      <td>119</td>\n",
       "      <td>1</td>\n",
       "    </tr>\n",
       "    <tr>\n",
       "      <th>4</th>\n",
       "      <td>70</td>\n",
       "      <td>81</td>\n",
       "      <td>119</td>\n",
       "      <td>1</td>\n",
       "    </tr>\n",
       "    <tr>\n",
       "      <th>5</th>\n",
       "      <td>69</td>\n",
       "      <td>80</td>\n",
       "      <td>118</td>\n",
       "      <td>1</td>\n",
       "    </tr>\n",
       "    <tr>\n",
       "      <th>6</th>\n",
       "      <td>70</td>\n",
       "      <td>81</td>\n",
       "      <td>119</td>\n",
       "      <td>1</td>\n",
       "    </tr>\n",
       "    <tr>\n",
       "      <th>7</th>\n",
       "      <td>70</td>\n",
       "      <td>81</td>\n",
       "      <td>119</td>\n",
       "      <td>1</td>\n",
       "    </tr>\n",
       "    <tr>\n",
       "      <th>8</th>\n",
       "      <td>76</td>\n",
       "      <td>87</td>\n",
       "      <td>125</td>\n",
       "      <td>1</td>\n",
       "    </tr>\n",
       "    <tr>\n",
       "      <th>9</th>\n",
       "      <td>76</td>\n",
       "      <td>87</td>\n",
       "      <td>125</td>\n",
       "      <td>1</td>\n",
       "    </tr>\n",
       "    <tr>\n",
       "      <th>10</th>\n",
       "      <td>77</td>\n",
       "      <td>88</td>\n",
       "      <td>126</td>\n",
       "      <td>1</td>\n",
       "    </tr>\n",
       "    <tr>\n",
       "      <th>11</th>\n",
       "      <td>77</td>\n",
       "      <td>88</td>\n",
       "      <td>126</td>\n",
       "      <td>1</td>\n",
       "    </tr>\n",
       "    <tr>\n",
       "      <th>12</th>\n",
       "      <td>77</td>\n",
       "      <td>88</td>\n",
       "      <td>126</td>\n",
       "      <td>1</td>\n",
       "    </tr>\n",
       "    <tr>\n",
       "      <th>13</th>\n",
       "      <td>78</td>\n",
       "      <td>89</td>\n",
       "      <td>127</td>\n",
       "      <td>1</td>\n",
       "    </tr>\n",
       "    <tr>\n",
       "      <th>14</th>\n",
       "      <td>77</td>\n",
       "      <td>85</td>\n",
       "      <td>125</td>\n",
       "      <td>1</td>\n",
       "    </tr>\n",
       "  </tbody>\n",
       "</table>\n",
       "</div>"
      ],
      "text/plain": [
       "     a   b    c  label\n",
       "0   74  85  123      1\n",
       "1   73  84  122      1\n",
       "2   72  83  121      1\n",
       "3   70  81  119      1\n",
       "4   70  81  119      1\n",
       "5   69  80  118      1\n",
       "6   70  81  119      1\n",
       "7   70  81  119      1\n",
       "8   76  87  125      1\n",
       "9   76  87  125      1\n",
       "10  77  88  126      1\n",
       "11  77  88  126      1\n",
       "12  77  88  126      1\n",
       "13  78  89  127      1\n",
       "14  77  85  125      1"
      ]
     },
     "execution_count": 67,
     "metadata": {},
     "output_type": "execute_result"
    }
   ],
   "source": [
    "df.head(15)"
   ]
  },
  {
   "cell_type": "markdown",
   "metadata": {},
   "source": [
    "### Problem dimension control\n",
    "\n",
    "1. point difficulty\n",
    "\n",
    "2. relative frequency\n",
    "\n",
    "3. semantic variation and clusteredness\n",
    "\n",
    "4. feature irrelevance"
   ]
  },
  {
   "cell_type": "code",
   "execution_count": 68,
   "metadata": {},
   "outputs": [],
   "source": [
    "# number of dataset\n",
    "N_normal_total = df['label'].value_counts().values[0]\n",
    "N_max = int(N_normal_total/0.9)\n",
    "\n",
    "# normal and abnormal data\n",
    "label_n = 2\n",
    "label_an = 1\n",
    "df_n  = df.loc[df['label'] == label_n]\n",
    "df_an = df.loc[df['label'] == label_an]\n",
    "\n",
    "# choose a column to use\n",
    "# data_n and data_an are both np array\n",
    "col_index = 1\n",
    "data_n = df_n.iloc[:,col_index].values\n",
    "data_an = df_an.iloc[:,col_index].values\n",
    "\n",
    "# nomalization\n",
    "def normalize(data):\n",
    "    normed = (data - data.mean()) / data.std()\n",
    "    return normed\n",
    "\n",
    "data_n = normalize(data_n)\n",
    "data_an = normalize(data_an)"
   ]
  },
  {
   "cell_type": "code",
   "execution_count": 69,
   "metadata": {},
   "outputs": [
    {
     "name": "stdout",
     "output_type": "stream",
     "text": [
      "pd is 0.095 ; rf is 0.05\n",
      "pd level is pd-1 ; rf level is rf-5\n"
     ]
    },
    {
     "data": {
      "text/plain": [
       "(0.095, 0.05, 'pd-1', 'rf-5')"
      ]
     },
     "execution_count": 69,
     "metadata": {},
     "output_type": "execute_result"
    }
   ],
   "source": [
    "# point difficulty and reference frenquency\n",
    "def compute_pd_rf(N, N_an):\n",
    "    N_n = N - N_an\n",
    "    pd = (2 * N_an * N_n) / (N**2)\n",
    "    rf = N_an/N\n",
    "    return pd, rf\n",
    "\n",
    "def rate_pd_rf(pd, rf):\n",
    "    if pd < 0.16:\n",
    "        pd_level = \"pd-1\"\n",
    "    elif pd < 0.3:\n",
    "        pd_level = \"pd-2\"\n",
    "    elif pd < 0.5:\n",
    "        pd_level = \"pd-3\"\n",
    "    else: \n",
    "        print (\"pd is\", pd, \"pd level too high\")\n",
    "        return\n",
    "    \n",
    "    if rf < 0.001:\n",
    "        rf_level = \"rf-1\"\n",
    "    elif rf < 0.005:\n",
    "        rf_level = \"rf-2\"\n",
    "    elif rf < 0.01:\n",
    "        rf_level = \"rf-3\"\n",
    "    elif rf < 0.05:\n",
    "        rf_level = \"rf-4\"\n",
    "    elif rf < 0.1:\n",
    "        rf_level = \"rf-5\"\n",
    "    else:\n",
    "        print (\"rf is\", rf, \", rf level too high\")\n",
    "        return \n",
    "    return pd_level, rf_level\n",
    "\n",
    "def get_pd_rf(N, N_an):\n",
    "    pd, rf = compute_pd_rf(N, N_an)\n",
    "    print (\"pd is\", pd, \"; rf is\", rf)\n",
    "    pd_level, rf_level = rate_pd_rf(pd, rf)\n",
    "    print (\"pd level is\", pd_level, \"; rf level is\", rf_level)\n",
    "    return pd, rf, pd_level, rf_level\n",
    "    \n",
    "get_pd_rf(1000, 50)"
   ]
  },
  {
   "cell_type": "code",
   "execution_count": 70,
   "metadata": {},
   "outputs": [],
   "source": [
    "# normalized clusteredness\n",
    "def compute_nc(data_n, data_an):\n",
    "    sign = \"-\"\n",
    "    if math.log(np.var(data_n)/np.var(data_an)) > 0:\n",
    "        sign = \"+\"\n",
    "    print (\"nc level is\", sign)\n",
    "    return sign\n",
    "    \n",
    "# compute_nc(data_n, data_an)"
   ]
  },
  {
   "cell_type": "code",
   "execution_count": 71,
   "metadata": {},
   "outputs": [],
   "source": [
    "def compute_problem_dimension(d_n, d_an):\n",
    "    N_n = d_n.shape[0]\n",
    "    N_an = d_an.shape[0]\n",
    "    N = N_n + N_an\n",
    "    print (N_n, N_an, N)\n",
    "    if N < 100 or N > N_max:\n",
    "        print(\"Data amount\",data_amount, \"incompatible.\")\n",
    "        return\n",
    "    pd, rf, pd_level, rf_level = get_pd_rf(N, N_an)\n",
    "    nc_level = compute_nc(d_n, d_an)"
   ]
  },
  {
   "cell_type": "code",
   "execution_count": 72,
   "metadata": {},
   "outputs": [
    {
     "name": "stdout",
     "output_type": "stream",
     "text": [
      "99300 700 100000\n",
      "pd is 0.013902 ; rf is 0.007\n",
      "pd level is pd-1 ; rf level is rf-3\n",
      "nc level is +\n"
     ]
    }
   ],
   "source": [
    "def generate_dataset(N, N_an):\n",
    "    np.random.shuffle(data_n)\n",
    "    np.random.shuffle(data_an)\n",
    "    N_n = N-N_an\n",
    "    d_n = data_n[:N_n]\n",
    "    d_an = data_an[:N_an]\n",
    "    label_array = np.array([1]*N_n+[-1]*N_an)\n",
    "    ds = pd.DataFrame(np.append(d_n, d_an), columns = ['value'])\n",
    "    ds['lable'] = label_array\n",
    "    \n",
    "    compute_problem_dimension(d_n, d_an)\n",
    "    return d_n, d_an, ds\n",
    "\n",
    "d_n, d_an, ds = generate_dataset(100000, 700)"
   ]
  },
  {
   "cell_type": "code",
   "execution_count": 73,
   "metadata": {},
   "outputs": [],
   "source": [
    "# ds"
   ]
  },
  {
   "cell_type": "code",
   "execution_count": 74,
   "metadata": {
    "scrolled": true
   },
   "outputs": [],
   "source": [
    "np.sort(d_n)\n",
    "np.sort(d_an)\n",
    "\n",
    "%matplotlib inline\n",
    "import matplotlib.pyplot as plt\n",
    "\n",
    "# fig, (ax1, ax2) = plt.subplots(2)\n",
    "# the histogram of the data\n",
    "\n",
    "def show_data():\n",
    "    fig, (ax1, ax2,ax3) = plt.subplots(3, figsize=(8,14))\n",
    "    N_bins = 50\n",
    "    n_an, bins_an, patches_an = ax1.hist(d_an, N_bins, normed=1, facecolor='skyblue', alpha=0.75)\n",
    "    n_n, bins_n, patches_n = ax2.hist(d_n, N_bins, normed=1, facecolor='blue', alpha=0.75)\n",
    "    n_n, bins, patches_n = ax3.hist(ds['value'], N_bins, normed=1, facecolor='darkblue', alpha=0.75)\n",
    "    ax1.set_xlabel('anomaly')\n",
    "    ax2.set_xlabel('normal')\n",
    "    ax3.set_xlabel('all')\n",
    "    plt.grid(True)\n",
    "    plt.show()\n",
    "    \n",
    "# show_data()"
   ]
  },
  {
   "cell_type": "code",
   "execution_count": 75,
   "metadata": {},
   "outputs": [],
   "source": [
    "# ds"
   ]
  },
  {
   "cell_type": "markdown",
   "metadata": {},
   "source": [
    "##### Problem: outlier and anomaly not strongly related\n",
    "\n",
    "### Outlier method I:\n",
    "mean and variance"
   ]
  },
  {
   "cell_type": "code",
   "execution_count": 76,
   "metadata": {},
   "outputs": [
    {
     "name": "stdout",
     "output_type": "stream",
     "text": [
      "mean of the dataset is -0.0010292710883271032\n",
      "max variance is 5.699665508297703\n"
     ]
    }
   ],
   "source": [
    "mean_d = np.mean(ds['value'])\n",
    "print (\"mean of the dataset is\", mean_d)\n",
    "\n",
    "def variance(x):\n",
    "    return abs(x - mean_d)**2\n",
    "\n",
    "ds['var'] = variance(ds['value'])\n",
    "\n",
    "var_max = ds['var'].max()\n",
    "print(\"max variance is\", var_max)\n",
    "# set threshold\n",
    "var_threshold = 4.5\n",
    "\n",
    "# Normal: 1\n",
    "# Anomaly: -1\n",
    "# for 0 < var < 4.0, var_score is normalized to 0~1\n",
    "# for 4.0 < var < max_var, normalize to -1 ~ 0\n",
    "def norm_var(x):\n",
    "    if x > var_threshold:\n",
    "        return (var_max-x)/(var_max-var_threshold)-1\n",
    "    if x < var_threshold:\n",
    "        return (var_threshold-x)/(var_threshold)\n",
    "    return 0\n",
    "\n",
    "ds['var_norm'] = np.array([norm_var(x) for x in ds['var']])"
   ]
  },
  {
   "cell_type": "code",
   "execution_count": 77,
   "metadata": {},
   "outputs": [
    {
     "name": "stdout",
     "output_type": "stream",
     "text": [
      "median of the dataset is 0.3917850737715318\n",
      "dist_max is 2.780211569516389\n"
     ]
    },
    {
     "data": {
      "text/html": [
       "<div>\n",
       "<style scoped>\n",
       "    .dataframe tbody tr th:only-of-type {\n",
       "        vertical-align: middle;\n",
       "    }\n",
       "\n",
       "    .dataframe tbody tr th {\n",
       "        vertical-align: top;\n",
       "    }\n",
       "\n",
       "    .dataframe thead th {\n",
       "        text-align: right;\n",
       "    }\n",
       "</style>\n",
       "<table border=\"1\" class=\"dataframe\">\n",
       "  <thead>\n",
       "    <tr style=\"text-align: right;\">\n",
       "      <th></th>\n",
       "      <th>value</th>\n",
       "      <th>lable</th>\n",
       "      <th>var</th>\n",
       "      <th>var_norm</th>\n",
       "      <th>dist</th>\n",
       "      <th>dist_norm</th>\n",
       "    </tr>\n",
       "  </thead>\n",
       "  <tbody>\n",
       "    <tr>\n",
       "      <th>0</th>\n",
       "      <td>0.702926</td>\n",
       "      <td>1</td>\n",
       "      <td>0.495554</td>\n",
       "      <td>0.889877</td>\n",
       "      <td>0.311141</td>\n",
       "      <td>0.776174</td>\n",
       "    </tr>\n",
       "    <tr>\n",
       "      <th>1</th>\n",
       "      <td>0.625141</td>\n",
       "      <td>1</td>\n",
       "      <td>0.392089</td>\n",
       "      <td>0.912869</td>\n",
       "      <td>0.233356</td>\n",
       "      <td>0.832131</td>\n",
       "    </tr>\n",
       "    <tr>\n",
       "      <th>2</th>\n",
       "      <td>-0.977237</td>\n",
       "      <td>1</td>\n",
       "      <td>0.952982</td>\n",
       "      <td>0.788226</td>\n",
       "      <td>1.369022</td>\n",
       "      <td>0.015167</td>\n",
       "    </tr>\n",
       "    <tr>\n",
       "      <th>3</th>\n",
       "      <td>0.749598</td>\n",
       "      <td>1</td>\n",
       "      <td>0.563441</td>\n",
       "      <td>0.874791</td>\n",
       "      <td>0.357813</td>\n",
       "      <td>0.742600</td>\n",
       "    </tr>\n",
       "    <tr>\n",
       "      <th>4</th>\n",
       "      <td>-1.926218</td>\n",
       "      <td>1</td>\n",
       "      <td>3.706354</td>\n",
       "      <td>0.176366</td>\n",
       "      <td>2.318004</td>\n",
       "      <td>-0.667502</td>\n",
       "    </tr>\n",
       "  </tbody>\n",
       "</table>\n",
       "</div>"
      ],
      "text/plain": [
       "      value  lable       var  var_norm      dist  dist_norm\n",
       "0  0.702926      1  0.495554  0.889877  0.311141   0.776174\n",
       "1  0.625141      1  0.392089  0.912869  0.233356   0.832131\n",
       "2 -0.977237      1  0.952982  0.788226  1.369022   0.015167\n",
       "3  0.749598      1  0.563441  0.874791  0.357813   0.742600\n",
       "4 -1.926218      1  3.706354  0.176366  2.318004  -0.667502"
      ]
     },
     "execution_count": 77,
     "metadata": {},
     "output_type": "execute_result"
    }
   ],
   "source": [
    "median_d = np.median(ds['value'])\n",
    "print (\"median of the dataset is\", median_d)\n",
    "\n",
    "def dist(x):\n",
    "    return abs(x - median_d)\n",
    "\n",
    "ds['dist'] = dist(ds['value'])\n",
    "dist_max = ds['dist'].max()\n",
    "print (\"dist_max is\", dist_max)\n",
    "\n",
    "def norm_dist(x):\n",
    "    return abs((dist_max-x)/(dist_max))*2-1\n",
    "\n",
    "ds['dist_norm'] = norm_dist(ds['dist'])\n",
    "ds.head()"
   ]
  },
  {
   "cell_type": "code",
   "execution_count": 62,
   "metadata": {},
   "outputs": [],
   "source": [
    "# ds.sort_values(['var'], ascending=False)"
   ]
  },
  {
   "cell_type": "code",
   "execution_count": 88,
   "metadata": {},
   "outputs": [
    {
     "data": {
      "image/png": "[encoded data removed]",
      "text/plain": [
       "<matplotlib.figure.Figure at 0x1a186afa20>"
      ]
     },
     "metadata": {},
     "output_type": "display_data"
    },
    {
     "data": {
      "image/png": "[encoded data removed]",
      "text/plain": [
       "<matplotlib.figure.Figure at 0x111f42400>"
      ]
     },
     "metadata": {},
     "output_type": "display_data"
    }
   ],
   "source": [
    "# Compute ROC curve and ROC area for each class\n",
    "from sklearn.metrics import roc_curve, auc\n",
    "\n",
    "def draw_roc(test= 'mean' ):\n",
    "    fpr, tpr, _ = metrics.roc_curve(ds['lable'], ds['var_norm'])\n",
    "    if test == 'median':\n",
    "        fpr, tpr, _ = metrics.roc_curve(ds['lable'], ds['dist_norm'])\n",
    "    roc_auc = auc(fpr, tpr)\n",
    "\n",
    "    # Compute micro-average ROC curve and ROC area\n",
    "    #     fpr[\"micro\"], tpr[\"micro\"], _ = roc_curve(y_test.ravel(), y_score.ravel())\n",
    "    #     roc_auc[\"micro\"] = auc(fpr[\"micro\"], tpr[\"micro\"])\n",
    "\n",
    "    plt.figure()\n",
    "    lw = 2\n",
    "    plt.plot(fpr, tpr, color='darkorange',\n",
    "             lw=lw, label='ROC curve (area = %0.2f)' % roc_auc)\n",
    "    plt.plot([0, 1], [0, 1], color='navy', lw=lw, linestyle='--')\n",
    "    plt.xlim([0.0, 1.0])\n",
    "    plt.ylim([0.0, 1.05])\n",
    "    plt.xlabel('False Positive Rate')\n",
    "    plt.ylabel('True Positive Rate')\n",
    "    plt.title('Test on '+test)\n",
    "    plt.legend(loc=\"lower right\")\n",
    "    plt.show()\n",
    "    \n",
    "draw_roc('median')\n",
    "draw_roc()"
   ]
  },
  {
   "cell_type": "code",
   "execution_count": null,
   "metadata": {},
   "outputs": [],
   "source": []
  }
 ],
 "metadata": {
  "kernelspec": {
   "display_name": "Python 3",
   "language": "python",
   "name": "python3"
  },
  "language_info": {
   "codemirror_mode": {
    "name": "ipython",
    "version": 3
   },
   "file_extension": ".py",
   "mimetype": "text/x-python",
   "name": "python",
   "nbconvert_exporter": "python",
   "pygments_lexer": "ipython3",
   "version": "3.6.4"
  }
 },
 "nbformat": 4,
 "nbformat_minor": 2
}
