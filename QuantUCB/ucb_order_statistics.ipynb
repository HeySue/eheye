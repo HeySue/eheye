{
 "cells": [
  {
   "cell_type": "markdown",
   "metadata": {},
   "source": [
    "# UCB for order statistics\n"
   ]
  },
  {
   "cell_type": "code",
   "execution_count": 1,
   "metadata": {},
   "outputs": [],
   "source": [
    "import numpy as np\n",
    "import pandas\n",
    "import matplotlib.pyplot as plt\n",
    "from sklearn.model_selection import train_test_split\n",
    "from sklearn.metrics import r2_score\n",
    "import statsmodels.api as sm\n",
    "import pylab \n",
    "import itertools\n",
    "from UCB_discrete import Environment\n",
    "from UCB_discrete import UCB_os_gau, UCB_os_exp\n",
    "from collections import defaultdict\n",
    "\n",
    "%matplotlib inline"
   ]
  },
  {
   "cell_type": "markdown",
   "metadata": {},
   "source": [
    "## Absolute value of Gaussian with loc zero"
   ]
  },
  {
   "cell_type": "code",
   "execution_count": 2,
   "metadata": {},
   "outputs": [
    {
     "name": "stdout",
     "output_type": "stream",
     "text": [
      "median of |N(0,1)|:  0.6736448301860745\n",
      "median of |N(0,2)|:  1.3472995184759577\n",
      "median of |N(0,3)|:  2.024999721384659\n",
      "best arm is  2\n"
     ]
    }
   ],
   "source": [
    "num_arms = 3\n",
    "num_rounds = 10000\n",
    "num_exper = 50\n",
    "\n",
    "rewards_env = []\n",
    "\n",
    "for i in range(num_arms):\n",
    "    # rewards distribution of arms is gaussian distribution with \n",
    "    # mean as 0, variance as i.\n",
    "    rewards_env.append(Environment(loc = 0, scale = i + 1))\n",
    "    \n",
    "num_sample = 1000000\n",
    "\n",
    "m_0 = np.median(np.abs(np.random.normal(0,1,num_sample)))\n",
    "m_1 = np.median(np.abs(np.random.normal(0,2,num_sample)))\n",
    "m_2 = np.median(np.abs(np.random.normal(0,3,num_sample))) \n",
    "print('median of |N(0,1)|: ', m_0)\n",
    "print('median of |N(0,2)|: ', m_1)\n",
    "print('median of |N(0,3)|: ', m_2)\n",
    "\n",
    "medians = [m_0, m_1, m_2]\n",
    "\n",
    "best_arm = np.argmax(medians)\n",
    "print('best arm is ', best_arm)"
   ]
  },
  {
   "cell_type": "code",
   "execution_count": 3,
   "metadata": {},
   "outputs": [],
   "source": [
    "# use estimate variance\n",
    "\n",
    "regrets = []\n",
    "\n",
    "for i in range(num_exper):\n",
    "    agent = UCB_os_gau(rewards_env, num_rounds, medians, est_var = True)\n",
    "    regrets.append(agent.play())\n",
    "    \n",
    "np.asarray(regrets).reshape((num_exper, num_rounds-3))\n",
    "expected_regrets_est_var = np.mean(regrets, axis = 0)"
   ]
  },
  {
   "cell_type": "code",
   "execution_count": 4,
   "metadata": {},
   "outputs": [],
   "source": [
    "# use true variance\n",
    "\n",
    "regrets = []\n",
    "\n",
    "for i in range(num_exper):\n",
    "    agent = UCB_os_gau(rewards_env, num_rounds, medians, est_var = False)\n",
    "    regrets.append(agent.play())\n",
    "    \n",
    "np.asarray(regrets).reshape((num_exper, num_rounds-3))\n",
    "expected_regrets_true_var = np.mean(regrets, axis = 0)"
   ]
  },
  {
   "cell_type": "code",
   "execution_count": 5,
   "metadata": {},
   "outputs": [],
   "source": [
    "def bound(num_arm, num_round, medians):\n",
    "    bound = 0\n",
    "    best_arm = np.argmax(medians)\n",
    "    for i in range(num_arm):\n",
    "        delta = medians[best_arm] - medians[i]\n",
    "        beta = (64+32 * np.sqrt(2 * np.log(2)) * (i + 1)  * delta) * np.log(num_round)\n",
    "        if i != best_arm:\n",
    "            bound += (np.sqrt(beta) + 8 * np.sqrt(np.log(num_round)))**2 /((i + 1)**2 * np.log(2) * delta) \n",
    "        bound+= (1+ np.pi**2/3) * delta\n",
    "    return bound\n",
    "        \n",
    "bounds = []\n",
    "for i in range(1, num_rounds):\n",
    "    bounds.append(bound(num_arms, i, medians))"
   ]
  },
  {
   "cell_type": "code",
   "execution_count": 7,
   "metadata": {},
   "outputs": [
    {
     "data": {
      "image/png": "[encoded data removed]",
      "text/plain": [
       "<matplotlib.figure.Figure at 0x7f4348f24320>"
      ]
     },
     "metadata": {},
     "output_type": "display_data"
    }
   ],
   "source": [
    "plt.plot(bounds, label = 'bound')\n",
    "plt.plot(expected_regrets_est_var, label = 'regret (est var)')\n",
    "plt.plot(expected_regrets_true_var, label = 'regret (true var)')\n",
    "plt.xlabel('iterations')\n",
    "plt.ylabel('expected cumulative regret')\n",
    "plt.title('Centered normal')\n",
    "plt.legend()\n",
    "plt.savefig('ucb_orderstat_centered_normal.png')"
   ]
  },
  {
   "cell_type": "markdown",
   "metadata": {},
   "source": [
    "### For Exponentional Random Variables:"
   ]
  },
  {
   "cell_type": "code",
   "execution_count": 8,
   "metadata": {},
   "outputs": [],
   "source": [
    "class Exp_Environment():\n",
    "    \"\"\"Environment for distribution reward of arms.\n",
    "    \"\"\"\n",
    "    def __init__(self, scale=1.0, size = None):  \n",
    "        self.scale = scale\n",
    "        self.size = size\n",
    "        \n",
    "    def sample(self):\n",
    "        # f = 1/scale exp(-x/scale)\n",
    "        return np.random.exponential(self.scale, self.size)"
   ]
  },
  {
   "cell_type": "code",
   "execution_count": 9,
   "metadata": {},
   "outputs": [
    {
     "name": "stdout",
     "output_type": "stream",
     "text": [
      "medians are:  [0.6973941985489875, 1.3927396809411896, 0.46685371215555166]\n"
     ]
    }
   ],
   "source": [
    "\n",
    "num_rounds = 10000\n",
    "num_exper = 50\n",
    "\n",
    "num_arms = 3\n",
    "scales = [1, 2, 2.0/3] # lambda = 1, 0.5, 1.5\n",
    "rewards_env = []\n",
    "medians = []\n",
    "\n",
    "for i in range(num_arms):\n",
    "    rewards_env.append(Exp_Environment(scale = scales[i]))\n",
    "    medians.append(np.median(np.random.exponential(scale = scales[i], size = num_rounds)))\n",
    "    \n",
    "print('medians are: ', medians)\n",
    "\n",
    "best_arm = np.argmax(medians)"
   ]
  },
  {
   "cell_type": "code",
   "execution_count": 10,
   "metadata": {},
   "outputs": [],
   "source": [
    "# use estimate variance\n",
    "\n",
    "regrets = []\n",
    "\n",
    "for i in range(num_exper):\n",
    "    agent = UCB_os_exp(rewards_env, num_rounds, medians, est_var = True)\n",
    "    regrets.append(agent.play())\n",
    "    \n",
    "np.asarray(regrets).reshape((num_exper, num_rounds-3))\n",
    "expected_regrets_est_var = np.mean(regrets, axis = 0)"
   ]
  },
  {
   "cell_type": "code",
   "execution_count": 11,
   "metadata": {},
   "outputs": [],
   "source": [
    "# use true variance\n",
    "\n",
    "regrets = []\n",
    "\n",
    "for i in range(num_exper):\n",
    "    agent = UCB_os_exp(rewards_env, num_rounds, medians, est_var = False)\n",
    "    regrets.append(agent.play())\n",
    "    \n",
    "np.asarray(regrets).reshape((num_exper, num_rounds-3))\n",
    "expected_regrets_true_var = np.mean(regrets, axis = 0)"
   ]
  },
  {
   "cell_type": "code",
   "execution_count": 12,
   "metadata": {},
   "outputs": [],
   "source": [
    "def bound(num_arm, num_round, medians):\n",
    "    bound = 0\n",
    "    best_arm = np.argmax(medians)\n",
    "    for i in range(num_arm):\n",
    "        theta = 1.0/scales[i]\n",
    "        delta = medians[best_arm] - medians[i]\n",
    "        beta = 32 * theta * np.log(num_round) * (theta + delta * np.log(2))\n",
    "        if i != best_arm:\n",
    "            bound += (np.sqrt(beta) +4 * theta * np.sqrt(2 * np.log(num_round)))**2/ (delta**2 * np.log(2) ** 2)\n",
    "        bound+= (1+ np.pi**2/3) * delta\n",
    "    return bound\n",
    "        \n",
    "bounds = []\n",
    "for i in range(1, num_rounds):\n",
    "    bounds.append(bound(num_arms, i, medians))"
   ]
  },
  {
   "cell_type": "code",
   "execution_count": 13,
   "metadata": {},
   "outputs": [
    {
     "data": {
      "text/plain": [
       "<matplotlib.legend.Legend at 0x7f434e2d54a8>"
      ]
     },
     "execution_count": 13,
     "metadata": {},
     "output_type": "execute_result"
    },
    {
     "data": {
      "image/png": "[encoded data removed]",
      "text/plain": [
       "<matplotlib.figure.Figure at 0x7f4348e0b048>"
      ]
     },
     "metadata": {},
     "output_type": "display_data"
    }
   ],
   "source": [
    "plt.plot(bounds, label = 'bound')\n",
    "plt.plot(expected_regrets_est_var, label = 'regret (est var)')\n",
    "plt.plot(expected_regrets_true_var, label = 'regret (true var)')\n",
    "plt.xlabel('iterations')\n",
    "plt.ylabel('expected cumulative regret')\n",
    "plt.title('Exp')\n",
    "plt.legend()\n",
    "#plt.savefig('ucb_orderstat_exp_estimate_variance.png')"
   ]
  },
  {
   "cell_type": "code",
   "execution_count": null,
   "metadata": {},
   "outputs": [],
   "source": []
  }
 ],
 "metadata": {
  "kernelspec": {
   "display_name": "Python 3",
   "language": "python",
   "name": "python3"
  },
  "language_info": {
   "codemirror_mode": {
    "name": "ipython",
    "version": 3
   },
   "file_extension": ".py",
   "mimetype": "text/x-python",
   "name": "python",
   "nbconvert_exporter": "python",
   "pygments_lexer": "ipython3",
   "version": "3.6.5"
  }
 },
 "nbformat": 4,
 "nbformat_minor": 2
}
