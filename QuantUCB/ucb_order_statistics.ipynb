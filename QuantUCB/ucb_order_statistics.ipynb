{
 "cells": [
  {
   "cell_type": "markdown",
   "metadata": {},
   "source": [
    "# UCB for order statistics\n",
    "\n",
    "## Absolute value of Gaussian Distribution"
   ]
  },
  {
   "cell_type": "code",
   "execution_count": 1,
   "metadata": {},
   "outputs": [],
   "source": [
    "import numpy as np\n",
    "import pandas\n",
    "import matplotlib.pyplot as plt\n",
    "from sklearn.model_selection import train_test_split\n",
    "from sklearn.metrics import r2_score\n",
    "import statsmodels.api as sm\n",
    "import pylab \n",
    "import itertools\n",
    "from UCB_discrete import Environment\n",
    "from UCB_discrete import UCB_os\n",
    "from collections import defaultdict\n",
    "\n",
    "%matplotlib inline"
   ]
  },
  {
   "cell_type": "code",
   "execution_count": 2,
   "metadata": {},
   "outputs": [],
   "source": [
    "num_arms = 3\n",
    "num_rounds = 100000\n",
    "num_exper = 100\n",
    "bestarm = 1\n",
    "rewards_env = []\n",
    "\n",
    "for i in range(num_arms):\n",
    "    # rewards distribution of arms is gaussian distribution with \n",
    "    # mean as i, variance as 1.\n",
    "    rewards_env.append(Environment(loc = i))"
   ]
  },
  {
   "cell_type": "markdown",
   "metadata": {},
   "source": [
    "### get emiprical medians"
   ]
  },
  {
   "cell_type": "code",
   "execution_count": 3,
   "metadata": {},
   "outputs": [
    {
     "name": "stdout",
     "output_type": "stream",
     "text": [
      "median of |N(0,1)|:  0.6725887258348412\n",
      "median of |N(1,1)|:  1.0502487768738467\n",
      "median of |N(2,1)|:  2.000685699455838\n"
     ]
    }
   ],
   "source": [
    "num_sample = 1000000\n",
    "\n",
    "m_0 = np.median(np.abs(np.random.normal(0,1,num_sample)))\n",
    "m_1 = np.median(np.abs(np.random.normal(1,1,num_sample)))\n",
    "m_2 = np.median(np.abs(np.random.normal(2,1,num_sample))) \n",
    "print('median of |N(0,1)|: ', m_0)\n",
    "print('median of |N(1,1)|: ', m_1)\n",
    "print('median of |N(2,1)|: ', m_2)\n",
    "\n",
    "medians = [m_0, m_1, m_2]"
   ]
  },
  {
   "cell_type": "markdown",
   "metadata": {},
   "source": [
    "### UCB experiment\n",
    "\n",
    "some assumptions:\n",
    "\n",
    "1. The proof also works for non-standard normal distribution, i.e. when mean is not 0. (otherwise, the proof is useless for ucb anyway.)\n",
    "2. Assume we can get the median of arms. For the folded normal distribution, it might be hard to calculate one, so we sample to approximate the median. \n",
    "\n",
    "Some directions of future proofs:\n",
    "\n",
    "1. Proof for non-standard normal distribution.\n",
    "2. Proof for negative distributions? the absolute value restriction here is tricky, which means we loose the symmetry. \n",
    "3. Proof for other distributions. "
   ]
  },
  {
   "cell_type": "code",
   "execution_count": 4,
   "metadata": {},
   "outputs": [],
   "source": [
    "regrets = []\n",
    "\n",
    "for i in range(num_exper):\n",
    "    agent = UCB_os(rewards_env, num_rounds, medians)\n",
    "    regrets.append(agent.play())\n"
   ]
  },
  {
   "cell_type": "code",
   "execution_count": 5,
   "metadata": {},
   "outputs": [],
   "source": [
    "np.asarray(regrets).reshape((num_exper, num_rounds-3))\n",
    "expected_regrets = np.mean(regrets, axis = 0)"
   ]
  },
  {
   "cell_type": "code",
   "execution_count": 20,
   "metadata": {},
   "outputs": [],
   "source": [
    "def bound(num_arm, num_round, medians):\n",
    "    bound = 0\n",
    "    best_arm = np.argmax(medians)\n",
    "    for i in range(num_arm):\n",
    "        delta = medians[best_arm] - medians[i]\n",
    "        beta = (64+32 * np.sqrt(2 * np.log(2))  * delta) * np.log(num_round)\n",
    "        if i != best_arm:\n",
    "            bound += (np.sqrt(beta) + 8 * np.sqrt(np.log(num_round)))**2 /(np.log(2) * delta) \n",
    "        bound+= (1+ np.pi**2/3) * delta\n",
    "    return bound\n",
    "        \n",
    "bounds = []\n",
    "for i in range(1, num_rounds):\n",
    "    bounds.append(bound(num_arms, i, medians))"
   ]
  },
  {
   "cell_type": "code",
   "execution_count": 24,
   "metadata": {},
   "outputs": [
    {
     "data": {
      "image/png": "[encoded data removed]",
      "text/plain": [
       "<matplotlib.figure.Figure at 0x7f085f8cb6d8>"
      ]
     },
     "metadata": {},
     "output_type": "display_data"
    }
   ],
   "source": [
    "plt.plot(bounds, label = 'bound')\n",
    "plt.plot(expected_regrets, label = 'regret')\n",
    "plt.xlabel('iterations')\n",
    "plt.ylabel('expected cumulative regret')\n",
    "plt.title('UCB for order statistics')\n",
    "plt.legend()\n",
    "plt.savefig('ucb_orderstat.png')"
   ]
  },
  {
   "cell_type": "markdown",
   "metadata": {},
   "source": [
    "##  Gaussian Distribution\n",
    "\n",
    "Although it hasn't been proved, but I am curious about how the experiment goes if the we allow the values from the gaussian distribution is negative. We take the same setting as above expect the sample distribution is normal distribution instead of absolute normal distribution (folded normal distribution)."
   ]
  },
  {
   "cell_type": "code",
   "execution_count": 25,
   "metadata": {},
   "outputs": [],
   "source": [
    "class Normal_Environment():\n",
    "    \"\"\"Environment for distribution reward of arms.\n",
    "    \"\"\"\n",
    "    def __init__(self, loc=0.0, scale=1.0, skewness = 0.0):\n",
    "        self.loc = loc\n",
    "        self.scale = scale\n",
    "        self.skewness = skewness\n",
    "\n",
    "    \"\"\"\n",
    "    def sample(self):\n",
    "        uniformly generate x (between 0 and 1), \n",
    "           generate normal or skewed normal samples\n",
    "        \n",
    "        sigma = self.skewness/np.sqrt(1.0 + self.skewness**2) \n",
    "        u0,v = np.random.randn(2)\n",
    "        u1 = sigma*u0 + np.sqrt(1.0-sigma**2) * v \n",
    "        if u0 >= 0:\n",
    "            return u1*self.scale + self.loc\n",
    "        return (-u1)*self.scale + self.loc \n",
    "    \"\"\"\n",
    "\n",
    "    def sample(self):\n",
    "        return np.random.normal(self.loc, self.scale)"
   ]
  },
  {
   "cell_type": "code",
   "execution_count": 32,
   "metadata": {},
   "outputs": [],
   "source": [
    "num_arms = 3\n",
    "num_rounds = 100000\n",
    "num_exper = 100\n",
    "bestarm = 1\n",
    "rewards_env = []\n",
    "medians = []\n",
    "\n",
    "for i in range(num_arms):\n",
    "    # rewards distribution of arms is gaussian distribution with \n",
    "    # mean as i, variance as 1.\n",
    "    rewards_env.append(Normal_Environment(loc = i))\n",
    "    # for normal distribution, median is just mean \n",
    "    medians.append(i)"
   ]
  },
  {
   "cell_type": "code",
   "execution_count": 33,
   "metadata": {},
   "outputs": [],
   "source": [
    "regrets = []\n",
    "\n",
    "for i in range(num_exper):\n",
    "    agent = UCB_os(rewards_env, num_rounds, medians)\n",
    "    regrets.append(agent.play())\n",
    "    \n",
    "np.asarray(regrets).reshape((num_exper, num_rounds-3))\n",
    "expected_regrets = np.mean(regrets, axis = 0)"
   ]
  },
  {
   "cell_type": "code",
   "execution_count": 34,
   "metadata": {},
   "outputs": [],
   "source": [
    "def bound(num_arm, num_round, medians):\n",
    "    bound = 0\n",
    "    best_arm = np.argmax(medians)\n",
    "    for i in range(num_arm):\n",
    "        delta = medians[best_arm] - medians[i]\n",
    "        beta = (64+32 * np.sqrt(2 * np.log(2))  * delta) * np.log(num_round)\n",
    "        if i != best_arm:\n",
    "            bound += (np.sqrt(beta) + 8 * np.sqrt(np.log(num_round)))**2 /(np.log(2) * delta) \n",
    "        bound+= (1+ np.pi**2/3) * delta\n",
    "    return bound\n",
    "        \n",
    "bounds = []\n",
    "for i in range(1, num_rounds):\n",
    "    bounds.append(bound(num_arms, i, medians))"
   ]
  },
  {
   "cell_type": "code",
   "execution_count": 35,
   "metadata": {},
   "outputs": [
    {
     "data": {
      "text/plain": [
       "<matplotlib.legend.Legend at 0x7f0880477fd0>"
      ]
     },
     "execution_count": 35,
     "metadata": {},
     "output_type": "execute_result"
    },
    {
     "data": {
      "image/png": "[encoded data removed]",
      "text/plain": [
       "<matplotlib.figure.Figure at 0x7f087f9d42b0>"
      ]
     },
     "metadata": {},
     "output_type": "display_data"
    }
   ],
   "source": [
    "plt.plot(bounds, label = 'bound')\n",
    "plt.plot(expected_regrets, label = 'regret')\n",
    "plt.xlabel('iterations')\n",
    "plt.ylabel('expected cumulative regret')\n",
    "plt.title('UCB for order statistics')\n",
    "plt.legend()\n",
    "#plt.savefig('ucb_orderstat.png')"
   ]
  },
  {
   "cell_type": "markdown",
   "metadata": {},
   "source": [
    "From the regret plotting, the gaussian and abosulte gaussian has similar curve, which means the proof might also works for negative values. Both the cases have log regret and bound. "
   ]
  },
  {
   "cell_type": "code",
   "execution_count": null,
   "metadata": {},
   "outputs": [],
   "source": []
  }
 ],
 "metadata": {
  "kernelspec": {
   "display_name": "Python 3",
   "language": "python",
   "name": "python3"
  },
  "language_info": {
   "codemirror_mode": {
    "name": "ipython",
    "version": 3
   },
   "file_extension": ".py",
   "mimetype": "text/x-python",
   "name": "python",
   "nbconvert_exporter": "python",
   "pygments_lexer": "ipython3",
   "version": "3.6.5"
  }
 },
 "nbformat": 4,
 "nbformat_minor": 2
}
