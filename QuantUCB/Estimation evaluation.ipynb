{
 "cells": [
  {
   "cell_type": "markdown",
   "metadata": {},
   "source": [
    "### Comparison of skewed distribution estimation.\n",
    "\n",
    "We are trying to estimate $\\alpha$-quantile of a distribution:\n",
    "$$q_\\alpha(Y) = \\inf \\{y \\in \\mathbb{R}| F_Y (y) \\geq \\alpha\\}$$\n",
    "\n",
    "There are two estimation methods:\n",
    "1. Using empirical quantile function. \n",
    "$$\\hat{q}_\\alpha(Y_n) = \\inf \\{y \\in \\mathbb{R}| F_{Y_n} (y) \\geq \\alpha\\} = Y_n(i)$$\n",
    "where $i$ is chosen such that\n",
    "$$\\frac{i-1}{n} < p \\leq \\frac{i}{n}$$\n",
    "and $X_n(1), ...., X_n(n)$ are the order statistics of the sample,\n",
    "$$X_n(1)\\leq ...\\leq X_n(n)$$ \n",
    "where $(X_n(1), ...., X_n(n))$ is a permutation of the sample $X_1, ..., X_n$\n",
    "\n",
    "2. Fit normal distribution on given samples and estimate using mean and standard deviation.\n",
    "$$\\hat{N}(Y_n, m) = \\mu(Y_n) + m \\sigma(Y_n)$$\n",
    "when m = 1, we know $F(\\mu + m \\sigma) - F(\\mu - m \\sigma)$ = 0.68. If we assume the estimated distribution is normal distribution $F(\\mu) = 0.5$. Thus $F(\\mu + \\sigma)$ = 0.5 + 0.68/2 = 0.84\n",
    "\n",
    "Our suspection is that the empirical quantile function has a better estimation for skewed distribution (that is, actually, a unfair comparision, since for skewed distribution $\\mu$ is no longer 50% quantile), we'd like to show that \n",
    "$$\\mathbb{E}[|\\hat{N}(Y_n, m) - q_\\alpha(Y)| - |\\hat{q}_\\alpha(Y_n) - q_\\alpha(Y)|] \\geq 1 - e^z $$\n",
    "e.g. where $m = 1$ and $\\alpha = 0.84$"
   ]
  },
  {
   "cell_type": "code",
   "execution_count": 1,
   "metadata": {},
   "outputs": [],
   "source": [
    "import numpy as np\n",
    "from scipy.stats import norm\n",
    "import matplotlib.pyplot as plt\n",
    "from collections import defaultdict"
   ]
  },
  {
   "cell_type": "code",
   "execution_count": 2,
   "metadata": {},
   "outputs": [],
   "source": [
    "def gen_from_normal(loc, scale):\n",
    "    '''\n",
    "    generate one data point from normal distribution\n",
    "    '''\n",
    "    return np.random.normal(loc,scale)\n",
    "\n",
    "def gen_from_skewed(loc, scale, skew):\n",
    "    '''\n",
    "    generate one data point from skewed normal distribution\n",
    "    '''\n",
    "    sigma = skew / np.sqrt(1.0 + skew**2) \n",
    "\n",
    "    afRN = np.random.randn(2)\n",
    "    u0 = afRN[0]\n",
    "    v = afRN[1]\n",
    "    u1 = sigma*u0 + np.sqrt(1.0 -sigma**2) * v \n",
    "\n",
    "    if u0 >= 0:\n",
    "        return u1* scale + loc\n",
    "    return (-u1)*scale + loc\n",
    "\n",
    "def estimate_quatile(data, alpha):\n",
    "    '''\n",
    "    return the alpha-quantile for given data samples\n",
    "    '''\n",
    "    data = np.sort(data)\n",
    "    idx = int(len(data) * alpha)\n",
    "    return data[idx]\n",
    "\n",
    "def estimate_with_norass(data, m):\n",
    "    '''\n",
    "    return mu + m * std with the assumption of normal distribution\n",
    "    '''\n",
    "    mu, std = norm.fit(data)\n",
    "    return mu + m * std\n",
    "\n",
    "def compare(emp_quantile, emp_norm, true_quantile):\n",
    "    '''\n",
    "    return the expection of the difference\n",
    "    '''\n",
    "    return np.mean(abs(emp_norm - true_quantile) - abs(emp_quantile - true_quantile))"
   ]
  },
  {
   "cell_type": "code",
   "execution_count": 3,
   "metadata": {},
   "outputs": [],
   "source": [
    "def run_exper_for_skew_data(num_rounds, test_comb):\n",
    "    '''\n",
    "    run experiment for skewed data, return the expection of the difference \n",
    "    test_comb is the list of alpha (quantile level), m (number of std for normal distribution), \n",
    "    true quantile level (since hard to get from compution, we get it from large number of sampling)\n",
    "    '''\n",
    "    alpha, m, true_quantile = test_comb\n",
    "    sample_list = []\n",
    "    quantile_estimation_list = []\n",
    "    norass_estimation_list = []\n",
    "    expected_diff_list = []\n",
    "    for i in range(num_rounds):\n",
    "        sample = gen_from_skewed(loc=0,scale=1,skew=4)\n",
    "        sample_list.append(sample)\n",
    "        quantile_estimation_list.append(estimate_quatile(sample_list, alpha))\n",
    "        norass_estimation_list.append(estimate_with_norass(sample_list, m))\n",
    "        expected_diff = compare(np.asarray(quantile_estimation_list), \n",
    "                               np.asarray(norass_estimation_list),\n",
    "                               true_quantile)\n",
    "        expected_diff_list.append(expected_diff)\n",
    "    return expected_diff_list"
   ]
  },
  {
   "cell_type": "code",
   "execution_count": 4,
   "metadata": {},
   "outputs": [],
   "source": [
    "def run_exper_for_normal_data(num_rounds, test_comb):\n",
    "    '''\n",
    "    run experiment for skewed data, return the expection of the difference \n",
    "    test_comb is the list of alpha (quantile level), m (number of std for normal distribution), \n",
    "    true quantile level (since hard to get from compution, we get it from large number of sampling)\n",
    "    '''\n",
    "    alpha, m, true_quantile = test_comb\n",
    "    sample_list = []\n",
    "    quantile_estimation_list = []\n",
    "    norass_estimation_list = []\n",
    "    expected_diff_list = []\n",
    "    for i in range(num_rounds):\n",
    "        sample = gen_from_normal(loc=0,scale=1)\n",
    "        sample_list.append(sample)\n",
    "        quantile_estimation_list.append(estimate_quatile(sample_list, alpha))\n",
    "        norass_estimation_list.append(estimate_with_norass(sample_list, m))\n",
    "        expected_diff = compare(np.asarray(quantile_estimation_list), \n",
    "                               np.asarray(norass_estimation_list),\n",
    "                               true_quantile)\n",
    "        expected_diff_list.append(expected_diff)\n",
    "    return expected_diff_list"
   ]
  },
  {
   "cell_type": "markdown",
   "metadata": {},
   "source": [
    "### Experiment for skewed distribution"
   ]
  },
  {
   "cell_type": "code",
   "execution_count": 5,
   "metadata": {},
   "outputs": [
    {
     "data": {
      "text/plain": [
       "<matplotlib.text.Text at 0x7f732b9b03c8>"
      ]
     },
     "execution_count": 5,
     "metadata": {},
     "output_type": "execute_result"
    },
    {
     "data": {
      "image/png": "[encoded data removed]",
      "text/plain": [
       "<matplotlib.figure.Figure at 0x7f732f902390>"
      ]
     },
     "metadata": {},
     "output_type": "display_data"
    }
   ],
   "source": [
    "test_combs = [[0.975, 1.96, 2.2413], [0.84, 1, 1.4048], [0.5, 0, 0.6741]]\n",
    "test_names = ['0.975-quan', '0.84-quan', '0.5-quan']\n",
    "num_trails = 100\n",
    "diff = defaultdict(list)\n",
    "for i, test in enumerate(test_combs):\n",
    "    for j in range(num_trails):\n",
    "        diff[test_names[i]].append(run_exper_for_skew_data(500, test))\n",
    "    mean = np.mean(np.asarray(diff[test_names[i]]), axis = 0).tolist()\n",
    "    plt.plot(range(len(mean)),mean, label = test_names[i])\n",
    "plt.legend()\n",
    "plt.xlabel('num_samples')\n",
    "plt.ylabel('E(norm_est_error - quantile_est_error)')\n",
    "plt.title('Estimation quantiles for skewed distribution')"
   ]
  },
  {
   "cell_type": "markdown",
   "metadata": {},
   "source": [
    "For skewed distribution, the normal distribution assumption is obviously not sure, thus we expect the empirical quantile estimation can have a smaller estimation error, that is, we expect the y-axis is bigger than 0. \n",
    "\n",
    "It reasonable for first several samples, quantile estimation has bad estimation since it can depends on data observed and quantile estimation makes no assumption the what the data will look like. \n",
    "\n",
    "But for $\\alpha = 0.84$, the y-axis is always smaller than 0, which means normal estimation has a better estimation for all the time. That is a little bit surprising. "
   ]
  },
  {
   "cell_type": "markdown",
   "metadata": {},
   "source": [
    "### Experiment for normal distribution"
   ]
  },
  {
   "cell_type": "code",
   "execution_count": null,
   "metadata": {},
   "outputs": [],
   "source": [
    "test_combs = [[0.975, 1.96, 1.9590], [0.84, 1, 0.9936], [0.5, 0, 0]]\n",
    "test_names = ['0.975-quan', '0.84-quan', '0.5-quan']\n",
    "num_trails = 50\n",
    "diff = defaultdict(list)\n",
    "for i, test in enumerate(test_combs):\n",
    "    for j in range(num_trails):\n",
    "        diff[test_names[i]].append(run_exper_for_normal_data(500, test))\n",
    "    mean = np.mean(np.asarray(diff[test_names[i]]), axis = 0).tolist()\n",
    "    plt.plot(range(len(mean)),mean, label = test_names[i])\n",
    "plt.legend()\n",
    "plt.xlabel('num_samples')\n",
    "plt.ylabel('E(norm_est_error - quantile_est_error)')\n",
    "plt.title('Estimation quantiles for normal distribution')"
   ]
  },
  {
   "cell_type": "markdown",
   "metadata": {},
   "source": [
    "For normal distribution, we suspect the normal distribution assumption useful and the empirical quantile estimation can have a bigger estimation error, that is, we expect the y-axis is smaller than 0. \n",
    "\n",
    "The result is accord with our suspection."
   ]
  },
  {
   "cell_type": "code",
   "execution_count": null,
   "metadata": {},
   "outputs": [],
   "source": []
  }
 ],
 "metadata": {
  "kernelspec": {
   "display_name": "Python 3",
   "language": "python",
   "name": "python3"
  },
  "language_info": {
   "codemirror_mode": {
    "name": "ipython",
    "version": 3
   },
   "file_extension": ".py",
   "mimetype": "text/x-python",
   "name": "python",
   "nbconvert_exporter": "python",
   "pygments_lexer": "ipython3",
   "version": "3.6.5"
  }
 },
 "nbformat": 4,
 "nbformat_minor": 2
}
