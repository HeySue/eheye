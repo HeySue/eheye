{
 "cells": [
  {
   "cell_type": "markdown",
   "metadata": {},
   "source": [
    "This notebook is designed to implement the Quantile UCB algorithm imposed in [QuantUCB Construction](https://www.overleaf.com/read/dxfvfpqsdrcb).\n",
    "\n",
    "Policy: Expectation + Quantile\n",
    "\n",
    "Estimation method: Empirical quantile estimation + linear interpolation\n",
    "\n",
    "Assumptions: normal distribution with known mean and variance, small and bounded KL divergence between quantile estimation and true quantile, strictly increasing and differentiable cdf "
   ]
  },
  {
   "cell_type": "code",
   "execution_count": 1,
   "metadata": {},
   "outputs": [],
   "source": [
    "from UCB_discrete import Environment, QuantUCB_Gau\n",
    "import matplotlib.pyplot as plt\n",
    "import numpy as np\n",
    "import seaborn as sns\n",
    "from collections import defaultdict\n",
    "import math\n",
    "from scipy.stats import entropy"
   ]
  },
  {
   "cell_type": "markdown",
   "metadata": {},
   "source": [
    "### Quantile Estimation Experiment"
   ]
  },
  {
   "cell_type": "code",
   "execution_count": 2,
   "metadata": {},
   "outputs": [],
   "source": [
    "def emp_quant(alpha, data):\n",
    "    \"\"\"implement empirical quantile estimation. \n",
    "    \n",
    "    Parameters\n",
    "    -----------------------------------\n",
    "    data: list\n",
    "        sequence of sample rewards\n",
    "    alpha: \n",
    "        level of quantile\n",
    "\n",
    "    Return\n",
    "    ------------------------------------\n",
    "    quantile: float\n",
    "        alpha level quantile of given data\n",
    "    \"\"\"\n",
    "        \n",
    "    data = np.sort(data)\n",
    "    idx = int(len(data) * alpha)\n",
    "    return data[idx]\n",
    "\n",
    "def linear_inter_quant(alpha, data):\n",
    "    \"\"\"implement linear interpolation for quantile estimation.\n",
    "    \n",
    "    Parameters\n",
    "    -----------------------------------\n",
    "    data: list\n",
    "        sequence of sample rewards\n",
    "    alpha: \n",
    "        level of quantile\n",
    "\n",
    "    Return\n",
    "    ------------------------------------\n",
    "    quantile: float\n",
    "        alpha level quantile of given data\n",
    "    \"\"\"\n",
    "    size = len(data) \n",
    "    data = list(data)\n",
    "    data.append(-2)\n",
    "    data = np.sort(data)\n",
    "    s = int(alpha * size) \n",
    "    rate = (data[s + 1] - data[s]) * size\n",
    "    #b = data[s] * (1-s) - data[s+1]\n",
    "    #return rate * alpha + b\n",
    "    return rate * (alpha - float(s)/size) + data[s]\n",
    "    \n",
    "    \n",
    "def kl(est_quant, true_quant):\n",
    "    pass"
   ]
  },
  {
   "cell_type": "code",
   "execution_count": 3,
   "metadata": {},
   "outputs": [],
   "source": [
    "data = list(np.random.normal(0,1,5))"
   ]
  },
  {
   "cell_type": "code",
   "execution_count": 4,
   "metadata": {},
   "outputs": [
    {
     "data": {
      "text/plain": [
       "[-0.49879335063271496,\n",
       " 0.09455094236806531,\n",
       " 1.3238942241781286,\n",
       " -2.060041509023756,\n",
       " 1.3109860575782883]"
      ]
     },
     "execution_count": 4,
     "metadata": {},
     "output_type": "execute_result"
    }
   ],
   "source": [
    "data"
   ]
  },
  {
   "cell_type": "code",
   "execution_count": 5,
   "metadata": {},
   "outputs": [
    {
     "data": {
      "text/plain": [
       "inf"
      ]
     },
     "execution_count": 5,
     "metadata": {},
     "output_type": "execute_result"
    }
   ],
   "source": [
    "quantile = []\n",
    "quantile_inter = []\n",
    "qrange = np.arange(0,1,0.001)\n",
    "\n",
    "for alpha in qrange:\n",
    "    quantile.append(emp_quant(alpha, data))\n",
    "    quantile_inter.append(linear_inter_quant(alpha, data))\n",
    "    \n",
    "#print(quantile)\n",
    "#print(quantile_inter)\n",
    "entropy(quantile_inter, np.sort(np.random.normal(0,1,1000)))"
   ]
  },
  {
   "cell_type": "code",
   "execution_count": 12,
   "metadata": {},
   "outputs": [
    {
     "data": {
      "image/png": "[encoded data removed]",
      "text/plain": [
       "<matplotlib.figure.Figure at 0x7f65ff69fef0>"
      ]
     },
     "metadata": {},
     "output_type": "display_data"
    }
   ],
   "source": [
    "#plt.plot(x_axis,np.sort(data), 'yo', label = 'sample')\n",
    "plt.plot(np.arange(0,1,0.001), np.sort(np.random.normal(0,1,1000)), 'g', label = 'f')\n",
    "plt.plot(qrange, quantile, '-b',label = 'quant')\n",
    "plt.plot(qrange, quantile_inter, '-r', label = 'quant_inter')\n",
    "plt.legend()\n",
    "plt.savefig('Quantile Estimation.png')"
   ]
  },
  {
   "cell_type": "markdown",
   "metadata": {},
   "source": [
    "### Quantile UCB with Gaussian rewards"
   ]
  },
  {
   "cell_type": "code",
   "execution_count": 7,
   "metadata": {},
   "outputs": [],
   "source": [
    "env = [Environment(0,1,0), Environment(1,1,0)]\n",
    "num_exper = 50\n",
    "num_rounds = 2000\n",
    "bestarm = 1"
   ]
  },
  {
   "cell_type": "code",
   "execution_count": 8,
   "metadata": {},
   "outputs": [
    {
     "name": "stdout",
     "output_type": "stream",
     "text": [
      "Simulate QuantUCB:\n"
     ]
    }
   ],
   "source": [
    "QuantUCB_regret = []\n",
    "print('Simulate QuantUCB:')\n",
    "for i in range(num_exper):\n",
    "    QuantUCB_agent = QuantUCB_Gau(env, num_rounds, bestarm)\n",
    "    regret = QuantUCB_agent.play()\n",
    "    QuantUCB_regret.append(regret)\n",
    "QuantUCB_regret = np.mean(np.asarray(QuantUCB_regret), axis = 0)"
   ]
  },
  {
   "cell_type": "code",
   "execution_count": 9,
   "metadata": {},
   "outputs": [],
   "source": [
    "def regret_bound(t, env, bestarm):\n",
    "    rb = 0\n",
    "    for i in range(len(env)):\n",
    "        mu_diff = env[bestarm].loc - env[i].loc\n",
    "        if i != bestarm:\n",
    "            rb += 32 * env[i].scale * np.log(t)/ mu_diff + (1 + np.pi ** 2/3.0) * mu_diff\n",
    "    return rb\n",
    "\n",
    "regret_bound_list = []\n",
    "for i in range(num_rounds):\n",
    "    if i >0:\n",
    "        regret_bound_list.append(regret_bound(i, env, bestarm))"
   ]
  },
  {
   "cell_type": "code",
   "execution_count": 10,
   "metadata": {},
   "outputs": [
    {
     "data": {
      "text/plain": [
       "<matplotlib.legend.Legend at 0x7f65ff6d2e80>"
      ]
     },
     "execution_count": 10,
     "metadata": {},
     "output_type": "execute_result"
    },
    {
     "data": {
      "image/png": "[encoded data removed]",
      "text/plain": [
       "<matplotlib.figure.Figure at 0x7f65ff872978>"
      ]
     },
     "metadata": {},
     "output_type": "display_data"
    }
   ],
   "source": [
    "plt.plot(np.log(QuantUCB_regret), label = 'QuantUCB')\n",
    "plt.plot(np.log(regret_bound_list), label = 'bound')\n",
    "plt.ylabel('log cumulative regret')\n",
    "plt.xlabel('num_rounds')\n",
    "plt.title('Quantile UCB')\n",
    "plt.legend()"
   ]
  },
  {
   "cell_type": "code",
   "execution_count": null,
   "metadata": {},
   "outputs": [],
   "source": []
  }
 ],
 "metadata": {
  "kernelspec": {
   "display_name": "Python 3",
   "language": "python",
   "name": "python3"
  },
  "language_info": {
   "codemirror_mode": {
    "name": "ipython",
    "version": 3
   },
   "file_extension": ".py",
   "mimetype": "text/x-python",
   "name": "python",
   "nbconvert_exporter": "python",
   "pygments_lexer": "ipython3",
   "version": "3.6.5"
  }
 },
 "nbformat": 4,
 "nbformat_minor": 2
}
