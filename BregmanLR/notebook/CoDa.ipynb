{
 "cells": [
  {
   "cell_type": "code",
   "execution_count": 1,
   "metadata": {},
   "outputs": [],
   "source": [
    "# To run this notebook create a new conda environment with:\n",
    "# conda create -n coda_env python=3.6 scipy numpy scikit-bio\n",
    "\n",
    "import numpy as np\n",
    "import scipy.stats\n",
    "from skbio.stats.composition import *\n",
    "from scipy.optimize import minimize"
   ]
  },
  {
   "cell_type": "code",
   "execution_count": 2,
   "metadata": {},
   "outputs": [],
   "source": [
    "data = np.genfromtxt('wang.csv', delimiter=\",\")\n",
    "\n",
    "V = data[:,:3]\n",
    "U1 = data[:,3:6]\n",
    "U2 = data[:,6:]"
   ]
  },
  {
   "cell_type": "markdown",
   "metadata": {},
   "source": [
    "# Economic Data from (H. Wang et al, Multiple linear regression for Compositional Data, 2013)"
   ]
  },
  {
   "cell_type": "code",
   "execution_count": 3,
   "metadata": {},
   "outputs": [],
   "source": [
    "V_obs = np. array(\n",
    "       [[0.024  , 0.568  , 0.408  ],\n",
    "       [0.023  , 0.54   , 0.437  ],\n",
    "       [0.021  , 0.516  , 0.46301],\n",
    "       [0.019  , 0.493  , 0.488  ],\n",
    "       [0.018  , 0.474  , 0.50801],\n",
    "       [0.016  , 0.46299, 0.52101],\n",
    "       [0.015  , 0.461  , 0.524  ],\n",
    "       [0.014  , 0.457  , 0.52901],\n",
    "       [0.012  , 0.479  , 0.509  ],\n",
    "       [0.01   , 0.482  , 0.508  ],\n",
    "       [0.01   , 0.474  , 0.516  ],\n",
    "       [0.009  , 0.47   , 0.521  ],\n",
    "       [0.008  , 0.446  , 0.546  ],\n",
    "       [0.008  , 0.432  , 0.56   ],\n",
    "       [0.007  , 0.39899, 0.59401],\n",
    "       [0.007  , 0.42   , 0.573  ]])\n",
    "\n",
    "U1_obs = np.array(\n",
    "       [[0.09853, 0.54467, 0.3568 ],\n",
    "       [0.12044, 0.52255, 0.35701],\n",
    "       [0.12708, 0.49105, 0.38187],\n",
    "       [0.12443, 0.46027, 0.4153 ],\n",
    "       [0.11414, 0.46458, 0.42128],\n",
    "       [0.10772, 0.4431 , 0.44918],\n",
    "       [0.11004, 0.39875, 0.49121],\n",
    "       [0.10154, 0.39671, 0.50175],\n",
    "       [0.08626, 0.40764, 0.5061 ],\n",
    "       [0.06878, 0.45351, 0.47771],\n",
    "       [0.06296, 0.42429, 0.51275],\n",
    "       [0.05504, 0.41676, 0.5282 ],\n",
    "       [0.05243, 0.41251, 0.53505],\n",
    "       [0.04688, 0.40272, 0.5504 ],\n",
    "       [0.05119, 0.37391, 0.5749 ],\n",
    "       [0.0393 , 0.37573, 0.58496]])\n",
    "\n",
    "U2_obs = np.array(\n",
    "       [[0.0035 , 0.29244, 0.70406],\n",
    "       [0.0038 , 0.30635, 0.68985],\n",
    "       [0.00192, 0.30276, 0.69531],\n",
    "       [0.00117, 0.31051, 0.68832],\n",
    "       [0.00297, 0.30803, 0.68901],\n",
    "       [0.00308, 0.28961, 0.70732],\n",
    "       [0.00377, 0.30051, 0.69573],\n",
    "       [0.00264, 0.30085, 0.69651],\n",
    "       [0.00192, 0.29305, 0.70503],\n",
    "       [0.00078, 0.30147, 0.69775],\n",
    "       [0.00176, 0.25638, 0.74185],\n",
    "       [0.0042 , 0.26713, 0.72867],\n",
    "       [0.0022 , 0.25783, 0.73997],\n",
    "       [0.00209, 0.24019, 0.75772],\n",
    "       [0.00235, 0.22705, 0.7706 ],\n",
    "       [0.0036 , 0.24734, 0.74906]])"
   ]
  },
  {
   "cell_type": "code",
   "execution_count": 4,
   "metadata": {},
   "outputs": [],
   "source": [
    "def KL_coeff(V, U_vec):\n",
    "    k = len(U_vec)\n",
    "    V_tilde = np.exp(clr(V))\n",
    "    C_vec = [clr(U) for U in U_vec]\n",
    "    \n",
    "    def kl_loss(beta):\n",
    "        # beta in R^k\n",
    "        ilr_estimator = sum(beta[i] * C_vec[i] for i in range(k))\n",
    "        h = sum(beta[i] * np.trace(V_tilde.T @ C_vec[i]) for i in range(k))\n",
    "        return np.sum(np.exp(ilr_estimator)) - h\n",
    "    \n",
    "    def kl_loss_grad(beta):\n",
    "        ilr_estimator = sum(beta[i] * C_vec[i] for i in range(k))\n",
    "        return np.array([np.sum(C_vec[i] * np.exp(ilr_estimator)) - np.trace(V_tilde.T@C_vec[i]) for i in range(k)])\n",
    "    \n",
    "    return minimize(kl_loss, np.array([0.0]*k), method='BFGS', jac=kl_loss_grad, tol=1e-16,\n",
    "                    options={'gtol': 1e-012, 'disp':True}).x"
   ]
  },
  {
   "cell_type": "code",
   "execution_count": 5,
   "metadata": {},
   "outputs": [
    {
     "name": "stdout",
     "output_type": "stream",
     "text": [
      "Optimization terminated successfully.\n",
      "         Current function value: 47.066758\n",
      "         Iterations: 9\n",
      "         Function evaluations: 10\n",
      "         Gradient evaluations: 10\n"
     ]
    },
    {
     "data": {
      "text/plain": [
       "array([0.8779684 , 0.08993897])"
      ]
     },
     "execution_count": 5,
     "metadata": {},
     "output_type": "execute_result"
    }
   ],
   "source": [
    "KL_coeff(V, [U1,U2])"
   ]
  },
  {
   "cell_type": "code",
   "execution_count": 6,
   "metadata": {},
   "outputs": [],
   "source": [
    "def L2_coeff(V, U_vec):\n",
    "    k = len(U_vec)\n",
    "    Y = ilr(V)\n",
    "    X_vec = [ilr(U) for U in U_vec]\n",
    "    A = np.array([ [np.trace(X_vec[i].T @ X_vec[j]) for i in range(k)] for j in range(k)])\n",
    "    b = np.array( [np.trace(X_vec[i].T@Y) for i in range(k)]).T\n",
    "    return np.linalg.solve(A,b)"
   ]
  },
  {
   "cell_type": "code",
   "execution_count": 7,
   "metadata": {},
   "outputs": [
    {
     "data": {
      "text/plain": [
       "array([0.87427064, 0.0795275 ])"
      ]
     },
     "execution_count": 7,
     "metadata": {},
     "output_type": "execute_result"
    }
   ],
   "source": [
    "L2_coeff(V, [U1,U2])"
   ]
  },
  {
   "cell_type": "code",
   "execution_count": 8,
   "metadata": {},
   "outputs": [
    {
     "name": "stdout",
     "output_type": "stream",
     "text": [
      "Optimization terminated successfully.\n",
      "         Current function value: 47.066758\n",
      "         Iterations: 9\n",
      "         Function evaluations: 10\n",
      "         Gradient evaluations: 10\n"
     ]
    }
   ],
   "source": [
    "beta_KL = KL_coeff(V, [U1,U2])"
   ]
  },
  {
   "cell_type": "code",
   "execution_count": 9,
   "metadata": {},
   "outputs": [],
   "source": [
    "def fitted_outputs(beta, U_vec, V_mean):\n",
    "    return clr_inv( sum(beta[i]* clr(U_vec[i]) for i in range(len(U_vec))) + clr(V_mean))"
   ]
  },
  {
   "cell_type": "code",
   "execution_count": 10,
   "metadata": {},
   "outputs": [],
   "source": [
    "V_mean = np.array([0.01275, 0.47401, 0.51324] * 16).reshape((16,3))"
   ]
  },
  {
   "cell_type": "code",
   "execution_count": 11,
   "metadata": {},
   "outputs": [
    {
     "name": "stdout",
     "output_type": "stream",
     "text": [
      "Optimization terminated successfully.\n",
      "         Current function value: 47.066758\n",
      "         Iterations: 9\n",
      "         Function evaluations: 10\n",
      "         Gradient evaluations: 10\n"
     ]
    }
   ],
   "source": [
    "V_KL_fit = fitted_outputs(KL_coeff(V, [U1,U2]), [U1,U2], V_mean)"
   ]
  },
  {
   "cell_type": "code",
   "execution_count": 12,
   "metadata": {},
   "outputs": [],
   "source": [
    "V_L2_fit = fitted_outputs(L2_coeff(V, [U1,U2]), [U1,U2], V_mean)"
   ]
  },
  {
   "cell_type": "code",
   "execution_count": 13,
   "metadata": {},
   "outputs": [],
   "source": [
    "U1_mean = np.array([0.08077, 0.44037, 0.47887] * 16).reshape((16,3))"
   ]
  },
  {
   "cell_type": "code",
   "execution_count": 14,
   "metadata": {},
   "outputs": [],
   "source": [
    "U2_mean = np.array([0.00240, 0.28059, 0.71701] * 16).reshape((16,3))"
   ]
  },
  {
   "cell_type": "code",
   "execution_count": 15,
   "metadata": {},
   "outputs": [
    {
     "data": {
      "text/plain": [
       "array([0.01268806, 0.47162129, 0.5106566 ])"
      ]
     },
     "execution_count": 15,
     "metadata": {},
     "output_type": "execute_result"
    }
   ],
   "source": [
    "scipy.stats.gmean(V_obs, axis=0)"
   ]
  },
  {
   "cell_type": "code",
   "execution_count": 16,
   "metadata": {},
   "outputs": [],
   "source": [
    "def L1_error(V, V_):\n",
    "    return np.sum(np.absolute(V - V_))\n",
    "\n",
    "def L2_error(V, V_):\n",
    "    return np.sum(np.square(V - V_))\n",
    "\n",
    "def Fisher_error(V, V_):\n",
    "    return np.trace(np.arccos(np.sqrt(V)@np.sqrt(V_.T)))\n",
    "\n",
    "def symKL_error(V, V_):\n",
    "    return np.sum((V-V_) * np.log(np.divide(V, V_)))\n",
    "\n",
    "def report_evaluation(V_obs, V_fit):\n",
    "    print(\"Fisher-Rao:   \", Fisher_error(V_obs, V_fit))\n",
    "    print(\"Symmetric KL: \", symKL_error(V_obs, V_fit))\n",
    "    print(\"L2 error:     \", L2_error(V_obs, V_fit))\n",
    "    print(\"L1 error:     \", L1_error(V_obs, V_fit))"
   ]
  },
  {
   "cell_type": "code",
   "execution_count": 17,
   "metadata": {},
   "outputs": [
    {
     "name": "stdout",
     "output_type": "stream",
     "text": [
      "Fisher-Rao:    0.3562571916079603\n",
      "Symmetric KL:  0.03852572165818842\n",
      "L2 error:      0.016355809262733927\n",
      "L1 error:      0.656821446002978\n"
     ]
    }
   ],
   "source": [
    "report_evaluation(V_obs, V_KL_fit)"
   ]
  },
  {
   "cell_type": "code",
   "execution_count": 18,
   "metadata": {},
   "outputs": [
    {
     "name": "stdout",
     "output_type": "stream",
     "text": [
      "Fisher-Rao:    0.3506587679841833\n",
      "Symmetric KL:  0.03754793592198505\n",
      "L2 error:      0.015857469030712668\n",
      "L1 error:      0.6430839822095691\n"
     ]
    }
   ],
   "source": [
    "report_evaluation(V_obs, V_L2_fit)"
   ]
  },
  {
   "cell_type": "markdown",
   "metadata": {},
   "source": [
    "# D17 Aitchison"
   ]
  },
  {
   "cell_type": "code",
   "execution_count": 19,
   "metadata": {},
   "outputs": [],
   "source": [
    "# Dataset 17 Aitchison (with V[13] adjusted due to error in book)\n",
    "V_obs = [\n",
    "[0.27,0.28,0.45],\n",
    "[0.02,0.03,0.95],\n",
    "[0.12,0.16,0.72],\n",
    "[0.83,0.02,0.15],\n",
    "[0.24,0.22,0.54],\n",
    "[0.16,0.20,0.64],\n",
    "[0.31,0.08,0.61],\n",
    "[0.05,0.85,0.10],\n",
    "[0.06,0.06,0.88],\n",
    "[0.08,0.31,0.61],\n",
    "[0.18,0.20,0.62],\n",
    "[0.17,0.19,0.64],\n",
    "[0.04,0.17,0.79],\n",
    "[0.08,0.25,0.67],\n",
    "[0.11,0.34,0.55] ]\n",
    "\n",
    "U1_obs = [\n",
    "[0.70,0.07,0.23],\n",
    "[0.19,0.16,0.65],\n",
    "[0.18,0.26,0.54],\n",
    "[0.02,0.02,0.96],\n",
    "[0.08,0.16,0.76],\n",
    "[0.14,0.18,0.68],\n",
    "[0.16,0.11,0.73],\n",
    "[0.04,0.06,0.90],\n",
    "[0.06,0.54,0.40],\n",
    "[0.12,0.22,0.66],\n",
    "[0.06,0.02,0.92],\n",
    "[0.16,0.04,0.80],\n",
    "[0.27,0.17,0.56],\n",
    "[0.21,0.51,0.28],\n",
    "[0.15,0.15,0.70] ]"
   ]
  },
  {
   "cell_type": "code",
   "execution_count": 20,
   "metadata": {},
   "outputs": [],
   "source": [
    "V = centralize(V_obs)"
   ]
  },
  {
   "cell_type": "code",
   "execution_count": 21,
   "metadata": {},
   "outputs": [],
   "source": [
    "V_mean = np.array([scipy.stats.gmean(V_obs, axis=0)]*15)"
   ]
  },
  {
   "cell_type": "code",
   "execution_count": 22,
   "metadata": {},
   "outputs": [],
   "source": [
    "U1 = centralize(U1_obs)"
   ]
  },
  {
   "cell_type": "code",
   "execution_count": 23,
   "metadata": {},
   "outputs": [],
   "source": [
    "U1_mean = np.array([scipy.stats.gmean(U1_obs, axis=0)]*15)"
   ]
  },
  {
   "cell_type": "code",
   "execution_count": 24,
   "metadata": {},
   "outputs": [
    {
     "name": "stdout",
     "output_type": "stream",
     "text": [
      "Optimization terminated successfully.\n",
      "         Current function value: 42.089996\n",
      "         Iterations: 5\n",
      "         Function evaluations: 7\n",
      "         Gradient evaluations: 7\n"
     ]
    }
   ],
   "source": [
    "V_KL_fit = fitted_outputs(KL_coeff(V, [U1]), [U1], V_mean)"
   ]
  },
  {
   "cell_type": "code",
   "execution_count": 25,
   "metadata": {},
   "outputs": [],
   "source": [
    "V_L2_fit = fitted_outputs(L2_coeff(V, [U1]), [U1], V_mean)"
   ]
  },
  {
   "cell_type": "code",
   "execution_count": 26,
   "metadata": {},
   "outputs": [
    {
     "name": "stdout",
     "output_type": "stream",
     "text": [
      "Fisher-Rao:    3.872214437840649\n",
      "Symmetric KL:  6.116991096034899\n",
      "L2 error:      1.6360709884415292\n",
      "L1 error:      6.201914114037339\n"
     ]
    }
   ],
   "source": [
    "report_evaluation(V_obs, V_KL_fit)"
   ]
  },
  {
   "cell_type": "code",
   "execution_count": 27,
   "metadata": {},
   "outputs": [
    {
     "name": "stdout",
     "output_type": "stream",
     "text": [
      "Fisher-Rao:    3.534805032523254\n",
      "Symmetric KL:  5.939364536691748\n",
      "L2 error:      1.734198069079138\n",
      "L1 error:      5.8500769095778855\n"
     ]
    }
   ],
   "source": [
    "report_evaluation(V_obs, V_L2_fit)"
   ]
  },
  {
   "cell_type": "code",
   "execution_count": 28,
   "metadata": {},
   "outputs": [
    {
     "name": "stdout",
     "output_type": "stream",
     "text": [
      "Optimization terminated successfully.\n",
      "         Current function value: 42.089996\n",
      "         Iterations: 5\n",
      "         Function evaluations: 7\n",
      "         Gradient evaluations: 7\n"
     ]
    },
    {
     "data": {
      "text/plain": [
       "array([-0.55688544])"
      ]
     },
     "execution_count": 28,
     "metadata": {},
     "output_type": "execute_result"
    }
   ],
   "source": [
    "KL_coeff(V, [U1])"
   ]
  },
  {
   "cell_type": "code",
   "execution_count": 29,
   "metadata": {},
   "outputs": [
    {
     "data": {
      "text/plain": [
       "array([-0.18759286])"
      ]
     },
     "execution_count": 29,
     "metadata": {},
     "output_type": "execute_result"
    }
   ],
   "source": [
    "L2_coeff(V, [U1])"
   ]
  },
  {
   "cell_type": "markdown",
   "metadata": {},
   "source": [
    "# Artificial  Dataset\n",
    "\n",
    "Created by generating a dataset in $\\mathbb{R}^{d-1}$ and then using the inverse ilr map to produce compositional data."
   ]
  },
  {
   "cell_type": "code",
   "execution_count": 30,
   "metadata": {},
   "outputs": [],
   "source": [
    "np.random.seed(100)"
   ]
  },
  {
   "cell_type": "code",
   "execution_count": 31,
   "metadata": {},
   "outputs": [],
   "source": [
    "n, d, k = 20, 10, 4"
   ]
  },
  {
   "cell_type": "code",
   "execution_count": 32,
   "metadata": {},
   "outputs": [],
   "source": [
    "U_obs = [ ilr_inv(np.random.randn(n,d-1)) for i in range(k)]"
   ]
  },
  {
   "cell_type": "code",
   "execution_count": 33,
   "metadata": {},
   "outputs": [],
   "source": [
    "beta_true = [(-1)**j * 0.1 * k for j in range(1,k+1)]"
   ]
  },
  {
   "cell_type": "code",
   "execution_count": 34,
   "metadata": {},
   "outputs": [],
   "source": [
    "V_obs = ilr_inv(sum( beta_true[i] * ilr(U_obs[i]) for i in range(k)) + 0.2* np.random.randn(n,d-1) )"
   ]
  },
  {
   "cell_type": "code",
   "execution_count": 35,
   "metadata": {},
   "outputs": [],
   "source": [
    "V = centralize(V_obs)"
   ]
  },
  {
   "cell_type": "code",
   "execution_count": 36,
   "metadata": {},
   "outputs": [],
   "source": [
    "V_mean = np.array([scipy.stats.gmean(V_obs, axis=0)]*n)"
   ]
  },
  {
   "cell_type": "code",
   "execution_count": 37,
   "metadata": {},
   "outputs": [],
   "source": [
    "U = [centralize(U_obs[i]) for i in range(k)]"
   ]
  },
  {
   "cell_type": "code",
   "execution_count": 38,
   "metadata": {},
   "outputs": [
    {
     "name": "stdout",
     "output_type": "stream",
     "text": [
      "Warning: Desired error not necessarily achieved due to precision loss.\n",
      "         Current function value: 128.486627\n",
      "         Iterations: 14\n",
      "         Function evaluations: 21\n",
      "         Gradient evaluations: 20\n"
     ]
    }
   ],
   "source": [
    "V_KL_fit = fitted_outputs(KL_coeff(V, U), U, V_mean)\n",
    "V_L2_fit = fitted_outputs(L2_coeff(V, U), U, V_mean)"
   ]
  },
  {
   "cell_type": "code",
   "execution_count": 39,
   "metadata": {},
   "outputs": [
    {
     "name": "stdout",
     "output_type": "stream",
     "text": [
      "Warning: Desired error not necessarily achieved due to precision loss.\n",
      "         Current function value: 128.486627\n",
      "         Iterations: 14\n",
      "         Function evaluations: 21\n",
      "         Gradient evaluations: 20\n"
     ]
    },
    {
     "data": {
      "text/plain": [
       "array([-0.41220933,  0.3948095 , -0.41851324,  0.39962675])"
      ]
     },
     "execution_count": 39,
     "metadata": {},
     "output_type": "execute_result"
    }
   ],
   "source": [
    "KL_coeff(V, U)"
   ]
  },
  {
   "cell_type": "code",
   "execution_count": 40,
   "metadata": {},
   "outputs": [
    {
     "data": {
      "text/plain": [
       "array([-0.41981132,  0.38955447, -0.42349373,  0.40064569])"
      ]
     },
     "execution_count": 40,
     "metadata": {},
     "output_type": "execute_result"
    }
   ],
   "source": [
    "L2_coeff(V, U)"
   ]
  },
  {
   "cell_type": "code",
   "execution_count": 41,
   "metadata": {},
   "outputs": [
    {
     "name": "stdout",
     "output_type": "stream",
     "text": [
      "Fisher-Rao:    1.6036137096198573\n",
      "Symmetric KL:  0.5597964429138013\n",
      "L2 error:      0.06956712126865855\n",
      "L1 error:      2.558752265366193\n"
     ]
    }
   ],
   "source": [
    "report_evaluation(V_obs, V_KL_fit)"
   ]
  },
  {
   "cell_type": "code",
   "execution_count": 42,
   "metadata": {},
   "outputs": [
    {
     "name": "stdout",
     "output_type": "stream",
     "text": [
      "Fisher-Rao:    1.6019835268393974\n",
      "Symmetric KL:  0.5628690010951225\n",
      "L2 error:      0.07033931601600188\n",
      "L1 error:      2.5607284360699083\n"
     ]
    }
   ],
   "source": [
    "report_evaluation(V_obs, V_L2_fit)"
   ]
  }
 ],
 "metadata": {
  "kernelspec": {
   "display_name": "Python [conda env:skbio_env]",
   "language": "python",
   "name": "conda-env-skbio_env-py"
  },
  "language_info": {
   "codemirror_mode": {
    "name": "ipython",
    "version": 3
   },
   "file_extension": ".py",
   "mimetype": "text/x-python",
   "name": "python",
   "nbconvert_exporter": "python",
   "pygments_lexer": "ipython3",
   "version": "3.6.8"
  }
 },
 "nbformat": 4,
 "nbformat_minor": 2
}
