{
 "cells": [
  {
   "cell_type": "code",
   "execution_count": 1,
   "metadata": {},
   "outputs": [],
   "source": [
    "import numpy as np\n",
    "import scipy.stats\n",
    "from scipy.optimize import minimize"
   ]
  },
  {
   "cell_type": "code",
   "execution_count": 2,
   "metadata": {},
   "outputs": [],
   "source": [
    "data = np.genfromtxt('wang.csv', delimiter=\",\")\n",
    "\n",
    "V = data[:,:3]\n",
    "U1 = data[:,3:6]\n",
    "U2 = data[:,6:]"
   ]
  },
  {
   "cell_type": "code",
   "execution_count": 3,
   "metadata": {},
   "outputs": [],
   "source": [
    "def closure(mat):\n",
    "    mat = np.atleast_2d(mat)\n",
    "    mat = mat / mat.sum(axis=1, keepdims=True)\n",
    "    return mat.squeeze()"
   ]
  },
  {
   "cell_type": "code",
   "execution_count": 4,
   "metadata": {},
   "outputs": [],
   "source": [
    "def _gram_schmidt_basis(n):\n",
    "    basis = np.zeros((n, n-1))\n",
    "    for j in range(n-1):\n",
    "        i = j + 1\n",
    "        e = np.array([(1/i)]*i + [-1] +\n",
    "                     [0]*(n-i-1))*np.sqrt(i/(i+1))\n",
    "        basis[:, j] = e\n",
    "    return basis.T"
   ]
  },
  {
   "cell_type": "code",
   "execution_count": 5,
   "metadata": {},
   "outputs": [],
   "source": [
    "def clr(mat):\n",
    "    mat = closure(mat)\n",
    "    lmat = np.log(mat)\n",
    "    gm = lmat.mean(axis=-1, keepdims=True)\n",
    "    return (lmat - gm).squeeze()"
   ]
  },
  {
   "cell_type": "code",
   "execution_count": 6,
   "metadata": {},
   "outputs": [],
   "source": [
    "def clr_inv(mat):\n",
    "    return closure(np.exp(mat))"
   ]
  },
  {
   "cell_type": "code",
   "execution_count": 7,
   "metadata": {},
   "outputs": [],
   "source": [
    "def ilr(mat):\n",
    "    d = mat.shape[1]\n",
    "    W = _gram_schmidt_basis(d)\n",
    "    return clr(mat) @ W.T"
   ]
  },
  {
   "cell_type": "code",
   "execution_count": 8,
   "metadata": {},
   "outputs": [],
   "source": [
    "def ilr_inv(mat):\n",
    "    d = mat.shape[1] + 1\n",
    "    W = _gram_schmidt_basis(d)\n",
    "    return clr_inv(mat @ W)"
   ]
  },
  {
   "cell_type": "code",
   "execution_count": 9,
   "metadata": {},
   "outputs": [],
   "source": [
    "def centralize(mat):\n",
    "    mat = closure(mat)\n",
    "    cen = scipy.stats.gmean(mat, axis=0)\n",
    "    return clr_inv(clr(mat)- clr(cen))"
   ]
  },
  {
   "cell_type": "code",
   "execution_count": 10,
   "metadata": {},
   "outputs": [],
   "source": [
    "def KL_coeff(V, U_vec):\n",
    "    k = len(U_vec)\n",
    "    V_tilde = np.exp(clr(V))\n",
    "    C_vec = [clr(U) for U in U_vec]\n",
    "    \n",
    "    def kl_loss(beta):\n",
    "        # beta in R^k\n",
    "        ilr_estimator = sum(beta[i] * C_vec[i] for i in range(k))\n",
    "        h = sum(beta[i] * np.trace(V_tilde.T @ C_vec[i]) for i in range(k))\n",
    "        return np.sum(np.exp(ilr_estimator)) - h\n",
    "    \n",
    "    def kl_loss_grad(beta):\n",
    "        ilr_estimator = sum(beta[i] * C_vec[i] for i in range(k))\n",
    "        return np.array([np.sum(C_vec[i] * np.exp(ilr_estimator)) - np.trace(V_tilde.T@C_vec[i]) for i in range(k)])\n",
    "    \n",
    "    #print(kl_loss([-0.1,0.2,-0.3,0.4]))\n",
    "    \n",
    "    return minimize(kl_loss, np.array([0.0]*k), method='BFGS', jac=kl_loss_grad, tol=1e-16, options={'gtol': 1e-012, 'disp':True}).x"
   ]
  },
  {
   "cell_type": "code",
   "execution_count": 11,
   "metadata": {},
   "outputs": [
    {
     "name": "stdout",
     "output_type": "stream",
     "text": [
      "Optimization terminated successfully.\n",
      "         Current function value: 47.066758\n",
      "         Iterations: 9\n",
      "         Function evaluations: 10\n",
      "         Gradient evaluations: 10\n"
     ]
    },
    {
     "data": {
      "text/plain": [
       "array([0.8779684 , 0.08993897])"
      ]
     },
     "execution_count": 11,
     "metadata": {},
     "output_type": "execute_result"
    }
   ],
   "source": [
    "KL_coeff(V, [U1,U2])"
   ]
  },
  {
   "cell_type": "code",
   "execution_count": 12,
   "metadata": {},
   "outputs": [],
   "source": [
    "def L2_coeff(V, U_vec):\n",
    "    k = len(U_vec)\n",
    "    Y = ilr(V)\n",
    "    X_vec = [ilr(U) for U in U_vec]\n",
    "    A = np.array([ [np.trace(X_vec[i].T @ X_vec[j]) for i in range(k)] for j in range(k)])\n",
    "    b = np.array( [np.trace(X_vec[i].T@Y) for i in range(k)]).T\n",
    "    return np.linalg.solve(A,b)"
   ]
  },
  {
   "cell_type": "code",
   "execution_count": 13,
   "metadata": {},
   "outputs": [
    {
     "data": {
      "text/plain": [
       "array([0.87427064, 0.0795275 ])"
      ]
     },
     "execution_count": 13,
     "metadata": {},
     "output_type": "execute_result"
    }
   ],
   "source": [
    "L2_coeff(V, [U1,U2])"
   ]
  },
  {
   "cell_type": "code",
   "execution_count": 14,
   "metadata": {},
   "outputs": [
    {
     "name": "stdout",
     "output_type": "stream",
     "text": [
      "Optimization terminated successfully.\n",
      "         Current function value: 47.066758\n",
      "         Iterations: 9\n",
      "         Function evaluations: 10\n",
      "         Gradient evaluations: 10\n"
     ]
    }
   ],
   "source": [
    "beta_KL = KL_coeff(V, [U1,U2])"
   ]
  },
  {
   "cell_type": "code",
   "execution_count": 15,
   "metadata": {},
   "outputs": [],
   "source": [
    "def fitted_outputs(beta, U_vec, V_mean):\n",
    "    return clr_inv( sum(beta[i]* clr(U_vec[i]) for i in range(len(U_vec))) + clr(V_mean))"
   ]
  },
  {
   "cell_type": "code",
   "execution_count": 16,
   "metadata": {},
   "outputs": [],
   "source": [
    "V_mean = np.array([0.01275, 0.47401, 0.51324] * 16).reshape((16,3))"
   ]
  },
  {
   "cell_type": "code",
   "execution_count": 17,
   "metadata": {},
   "outputs": [
    {
     "name": "stdout",
     "output_type": "stream",
     "text": [
      "Optimization terminated successfully.\n",
      "         Current function value: 47.066758\n",
      "         Iterations: 9\n",
      "         Function evaluations: 10\n",
      "         Gradient evaluations: 10\n"
     ]
    }
   ],
   "source": [
    "V_KL_fit = fitted_outputs(KL_coeff(V, [U1,U2]), [U1,U2], V_mean)"
   ]
  },
  {
   "cell_type": "code",
   "execution_count": 18,
   "metadata": {},
   "outputs": [
    {
     "data": {
      "text/plain": [
       "array([[0.01594618, 0.58222161, 0.40183221],\n",
       "       [0.01946744, 0.57279715, 0.40773541],\n",
       "       [0.01931529, 0.5451404 , 0.43554431],\n",
       "       [0.01808075, 0.51478066, 0.46713859],\n",
       "       [0.01804561, 0.5135289 , 0.46842549],\n",
       "       [0.01714254, 0.48803445, 0.49482301],\n",
       "       [0.01781135, 0.44697976, 0.53520889],\n",
       "       [0.01597392, 0.4421766 , 0.54184948],\n",
       "       [0.01329568, 0.44651637, 0.54018795],\n",
       "       [0.00990434, 0.48449109, 0.50560457],\n",
       "       [0.0098485 , 0.44981326, 0.54033824],\n",
       "       [0.00939282, 0.44107229, 0.54953489],\n",
       "       [0.00848634, 0.43539626, 0.55611741],\n",
       "       [0.00763713, 0.4225101 , 0.56985277],\n",
       "       [0.00837836, 0.39577566, 0.59584598],\n",
       "       [0.00682803, 0.39622273, 0.59694924]])"
      ]
     },
     "execution_count": 18,
     "metadata": {},
     "output_type": "execute_result"
    }
   ],
   "source": [
    "V_KL_fit"
   ]
  },
  {
   "cell_type": "code",
   "execution_count": 19,
   "metadata": {},
   "outputs": [],
   "source": [
    "V_L2_fit = fitted_outputs(L2_coeff(V, [U1,U2]), [U1,U2], V_mean)"
   ]
  },
  {
   "cell_type": "code",
   "execution_count": 20,
   "metadata": {},
   "outputs": [
    {
     "data": {
      "text/plain": [
       "array([[0.01587625, 0.58166976, 0.40245399],\n",
       "       [0.01935385, 0.57214031, 0.40850584],\n",
       "       [0.01933004, 0.54456283, 0.43610713],\n",
       "       [0.01818894, 0.51419253, 0.46761854],\n",
       "       [0.01798725, 0.51305528, 0.46895746],\n",
       "       [0.01708085, 0.48788557, 0.49503358],\n",
       "       [0.01771023, 0.44688781, 0.53540197],\n",
       "       [0.01594622, 0.44207478, 0.54197901],\n",
       "       [0.01332406, 0.44646983, 0.54020611],\n",
       "       [0.01002833, 0.48414628, 0.50582539],\n",
       "       [0.00988742, 0.45020903, 0.53990355],\n",
       "       [0.00935165, 0.44139562, 0.54925272],\n",
       "       [0.00850669, 0.43584173, 0.55565158],\n",
       "       [0.00766174, 0.42323713, 0.56910114],\n",
       "       [0.00839189, 0.39677798, 0.59483012],\n",
       "       [0.00681721, 0.39696447, 0.59621832]])"
      ]
     },
     "execution_count": 20,
     "metadata": {},
     "output_type": "execute_result"
    }
   ],
   "source": [
    "V_L2_fit"
   ]
  },
  {
   "cell_type": "code",
   "execution_count": 21,
   "metadata": {},
   "outputs": [],
   "source": [
    "U1_mean = np.array([0.08077, 0.44037, 0.47887] * 16).reshape((16,3))"
   ]
  },
  {
   "cell_type": "code",
   "execution_count": 22,
   "metadata": {},
   "outputs": [],
   "source": [
    "U2_mean = np.array([0.00240, 0.28059, 0.71701] * 16).reshape((16,3))"
   ]
  },
  {
   "cell_type": "code",
   "execution_count": 23,
   "metadata": {},
   "outputs": [],
   "source": [
    "V_obs = clr_inv(clr(V) + clr(V_mean))"
   ]
  },
  {
   "cell_type": "code",
   "execution_count": 24,
   "metadata": {},
   "outputs": [
    {
     "data": {
      "text/plain": [
       "array([[0.02399536, 0.56800055, 0.40800409],\n",
       "       [0.02299571, 0.53999987, 0.43700442],\n",
       "       [0.02099602, 0.51599776, 0.46300622],\n",
       "       [0.01899663, 0.49300361, 0.48799976],\n",
       "       [0.01799652, 0.47399705, 0.50800643],\n",
       "       [0.01599701, 0.46299468, 0.52100831],\n",
       "       [0.01499762, 0.46100326, 0.52399913],\n",
       "       [0.01399735, 0.45699544, 0.5290072 ],\n",
       "       [0.01199779, 0.47899855, 0.50900365],\n",
       "       [0.00999807, 0.48200217, 0.50799975],\n",
       "       [0.00999808, 0.4740046 , 0.51599732],\n",
       "       [0.00899819, 0.47000298, 0.52099883],\n",
       "       [0.00799842, 0.44600168, 0.5459999 ],\n",
       "       [0.00799866, 0.43199708, 0.56000426],\n",
       "       [0.00699876, 0.39899424, 0.594007  ],\n",
       "       [0.0069986 , 0.41999761, 0.5730038 ]])"
      ]
     },
     "execution_count": 24,
     "metadata": {},
     "output_type": "execute_result"
    }
   ],
   "source": [
    "V_obs"
   ]
  },
  {
   "cell_type": "code",
   "execution_count": 25,
   "metadata": {},
   "outputs": [],
   "source": [
    "U1_obs = clr_inv(clr(U1)+clr(U1_mean))"
   ]
  },
  {
   "cell_type": "code",
   "execution_count": 26,
   "metadata": {},
   "outputs": [],
   "source": [
    "U2_obs = clr_inv(clr(U2)+clr(U2_mean))"
   ]
  },
  {
   "cell_type": "code",
   "execution_count": 27,
   "metadata": {},
   "outputs": [
    {
     "data": {
      "text/plain": [
       "array([0.01268569, 0.471622  , 0.51065668])"
      ]
     },
     "execution_count": 27,
     "metadata": {},
     "output_type": "execute_result"
    }
   ],
   "source": [
    "scipy.stats.gmean(V_obs, axis=0)"
   ]
  },
  {
   "cell_type": "code",
   "execution_count": 28,
   "metadata": {},
   "outputs": [],
   "source": [
    "def L1_error(V, V_):\n",
    "    return np.sum(np.absolute(V - V_))"
   ]
  },
  {
   "cell_type": "code",
   "execution_count": 29,
   "metadata": {},
   "outputs": [
    {
     "data": {
      "text/plain": [
       "0.656814551159535"
      ]
     },
     "execution_count": 29,
     "metadata": {},
     "output_type": "execute_result"
    }
   ],
   "source": [
    "L1_error(V_obs, V_KL_fit)"
   ]
  },
  {
   "cell_type": "code",
   "execution_count": 30,
   "metadata": {},
   "outputs": [
    {
     "data": {
      "text/plain": [
       "0.6430739843417799"
      ]
     },
     "execution_count": 30,
     "metadata": {},
     "output_type": "execute_result"
    }
   ],
   "source": [
    "L1_error(V_obs, V_L2_fit)"
   ]
  },
  {
   "cell_type": "code",
   "execution_count": 31,
   "metadata": {},
   "outputs": [],
   "source": [
    "def L2_error(V, V_):\n",
    "    return np.sum(np.square(V - V_))"
   ]
  },
  {
   "cell_type": "code",
   "execution_count": 32,
   "metadata": {},
   "outputs": [
    {
     "data": {
      "text/plain": [
       "0.01635535787366693"
      ]
     },
     "execution_count": 32,
     "metadata": {},
     "output_type": "execute_result"
    }
   ],
   "source": [
    "L2_error(V_obs, V_KL_fit)"
   ]
  },
  {
   "cell_type": "code",
   "execution_count": 33,
   "metadata": {},
   "outputs": [
    {
     "data": {
      "text/plain": [
       "0.015857011059149634"
      ]
     },
     "execution_count": 33,
     "metadata": {},
     "output_type": "execute_result"
    }
   ],
   "source": [
    "L2_error(V_obs, V_L2_fit)"
   ]
  },
  {
   "cell_type": "code",
   "execution_count": 34,
   "metadata": {},
   "outputs": [],
   "source": [
    "def Fisher_error(V, V_):\n",
    "    return 2* np.trace(np.arccos(np.sqrt(V)@np.sqrt(V_.T)))"
   ]
  },
  {
   "cell_type": "code",
   "execution_count": 35,
   "metadata": {},
   "outputs": [
    {
     "data": {
      "text/plain": [
       "0.7137144338010832"
      ]
     },
     "execution_count": 35,
     "metadata": {},
     "output_type": "execute_result"
    }
   ],
   "source": [
    "Fisher_error(V_obs, V_KL_fit)"
   ]
  },
  {
   "cell_type": "code",
   "execution_count": 36,
   "metadata": {},
   "outputs": [
    {
     "data": {
      "text/plain": [
       "0.7025295433044868"
      ]
     },
     "execution_count": 36,
     "metadata": {},
     "output_type": "execute_result"
    }
   ],
   "source": [
    "Fisher_error(V_obs, V_L2_fit)"
   ]
  },
  {
   "cell_type": "code",
   "execution_count": 37,
   "metadata": {},
   "outputs": [],
   "source": [
    "def symKL_error(V, V_):\n",
    "    return np.sum((V-V_) * np.log(np.divide(V, V_)))"
   ]
  },
  {
   "cell_type": "code",
   "execution_count": 38,
   "metadata": {},
   "outputs": [
    {
     "data": {
      "text/plain": [
       "0.038522274611487405"
      ]
     },
     "execution_count": 38,
     "metadata": {},
     "output_type": "execute_result"
    }
   ],
   "source": [
    "symKL_error(V_obs, V_KL_fit)"
   ]
  },
  {
   "cell_type": "code",
   "execution_count": 39,
   "metadata": {},
   "outputs": [
    {
     "data": {
      "text/plain": [
       "0.03754442482556374"
      ]
     },
     "execution_count": 39,
     "metadata": {},
     "output_type": "execute_result"
    }
   ],
   "source": [
    "symKL_error(V_obs, V_L2_fit)"
   ]
  },
  {
   "cell_type": "markdown",
   "metadata": {},
   "source": [
    "# D17 Aitchison"
   ]
  },
  {
   "cell_type": "code",
   "execution_count": 40,
   "metadata": {},
   "outputs": [],
   "source": [
    "# Dataset 17 Aitchison (with V[13] adjusted due to error in book)\n",
    "V_obs = [\n",
    "[0.27,0.28,0.45],\n",
    "[0.02,0.03,0.95],\n",
    "[0.12,0.16,0.72],\n",
    "[0.83,0.02,0.15],\n",
    "[0.24,0.22,0.54],\n",
    "[0.16,0.20,0.64],\n",
    "[0.31,0.08,0.61],\n",
    "[0.05,0.85,0.10],\n",
    "[0.06,0.06,0.88],\n",
    "[0.08,0.31,0.61],\n",
    "[0.18,0.20,0.62],\n",
    "[0.17,0.19,0.64],\n",
    "[0.04,0.17,0.79],\n",
    "[0.08,0.25,0.67],\n",
    "[0.11,0.34,0.55] ]\n",
    "\n",
    "U1_obs = [\n",
    "[0.70,0.07,0.23],\n",
    "[0.19,0.16,0.65],\n",
    "[0.18,0.26,0.54],\n",
    "[0.02,0.02,0.96],\n",
    "[0.08,0.16,0.76],\n",
    "[0.14,0.18,0.68],\n",
    "[0.16,0.11,0.73],\n",
    "[0.04,0.06,0.90],\n",
    "[0.06,0.54,0.40],\n",
    "[0.12,0.22,0.66],\n",
    "[0.06,0.02,0.92],\n",
    "[0.16,0.04,0.80],\n",
    "[0.27,0.17,0.56],\n",
    "[0.21,0.51,0.28],\n",
    "[0.15,0.15,0.70] ]"
   ]
  },
  {
   "cell_type": "code",
   "execution_count": 41,
   "metadata": {},
   "outputs": [],
   "source": [
    "V = centralize(V_obs)"
   ]
  },
  {
   "cell_type": "code",
   "execution_count": 42,
   "metadata": {},
   "outputs": [],
   "source": [
    "V_mean = np.array([scipy.stats.gmean(V_obs, axis=0)]*15)"
   ]
  },
  {
   "cell_type": "code",
   "execution_count": 43,
   "metadata": {},
   "outputs": [],
   "source": [
    "U1 = centralize(U1_obs)"
   ]
  },
  {
   "cell_type": "code",
   "execution_count": 44,
   "metadata": {},
   "outputs": [],
   "source": [
    "U1_mean = np.array([scipy.stats.gmean(U1_obs, axis=0)]*15)"
   ]
  },
  {
   "cell_type": "code",
   "execution_count": 45,
   "metadata": {},
   "outputs": [
    {
     "name": "stdout",
     "output_type": "stream",
     "text": [
      "Optimization terminated successfully.\n",
      "         Current function value: 42.089996\n",
      "         Iterations: 5\n",
      "         Function evaluations: 7\n",
      "         Gradient evaluations: 7\n"
     ]
    }
   ],
   "source": [
    "V_KL_fit = fitted_outputs(KL_coeff(V, [U1]), [U1], V_mean)"
   ]
  },
  {
   "cell_type": "code",
   "execution_count": 46,
   "metadata": {},
   "outputs": [
    {
     "data": {
      "text/plain": [
       "array([[0.03951574, 0.18215582, 0.77832843],\n",
       "       [0.12903745, 0.181579  , 0.68938354],\n",
       "       [0.128372  , 0.1337589 , 0.73786911],\n",
       "       [0.2852205 , 0.36472724, 0.35005226],\n",
       "       [0.2043195 , 0.17760618, 0.61807432],\n",
       "       [0.15368265, 0.17085643, 0.67546092],\n",
       "       [0.14032134, 0.22107094, 0.63860772],\n",
       "       [0.25694805, 0.26216224, 0.48088971],\n",
       "       [0.19759914, 0.07433079, 0.72807007],\n",
       "       [0.16628862, 0.15172414, 0.68198724],\n",
       "       [0.17621713, 0.4154679 , 0.40831496],\n",
       "       [0.12357658, 0.34198108, 0.53444234],\n",
       "       [0.10294354, 0.17032293, 0.72673353],\n",
       "       [0.09251495, 0.07217771, 0.83530733],\n",
       "       [0.1476464 , 0.18880362, 0.66354998]])"
      ]
     },
     "execution_count": 46,
     "metadata": {},
     "output_type": "execute_result"
    }
   ],
   "source": [
    "V_KL_fit"
   ]
  },
  {
   "cell_type": "code",
   "execution_count": 47,
   "metadata": {},
   "outputs": [],
   "source": [
    "V_L2_fit = fitted_outputs(L2_coeff(V, [U1]), [U1], V_mean)"
   ]
  },
  {
   "cell_type": "code",
   "execution_count": 48,
   "metadata": {},
   "outputs": [
    {
     "data": {
      "text/plain": [
       "array([[0.09792262, 0.19472225, 0.70735513],\n",
       "       [0.14310575, 0.19080841, 0.66608584],\n",
       "       [0.14335716, 0.17274296, 0.68389988],\n",
       "       [0.19504864, 0.25181559, 0.55313577],\n",
       "       [0.16732023, 0.18967804, 0.64300173],\n",
       "       [0.15174759, 0.1868903 , 0.66136211],\n",
       "       [0.14717089, 0.20383938, 0.64898974],\n",
       "       [0.18296573, 0.21891523, 0.59811904],\n",
       "       [0.16773263, 0.14339967, 0.6888677 ],\n",
       "       [0.15600298, 0.17975888, 0.66423814],\n",
       "       [0.16395125, 0.26011114, 0.57593761],\n",
       "       [0.14267054, 0.23889999, 0.61842947],\n",
       "       [0.13296616, 0.18722809, 0.67980575],\n",
       "       [0.13076145, 0.14293229, 0.72630626],\n",
       "       [0.14965188, 0.19320655, 0.65714157]])"
      ]
     },
     "execution_count": 48,
     "metadata": {},
     "output_type": "execute_result"
    }
   ],
   "source": [
    "V_L2_fit"
   ]
  },
  {
   "cell_type": "code",
   "execution_count": 49,
   "metadata": {},
   "outputs": [
    {
     "data": {
      "text/plain": [
       "6.20191411403734"
      ]
     },
     "execution_count": 49,
     "metadata": {},
     "output_type": "execute_result"
    }
   ],
   "source": [
    "L1_error(V_obs, V_KL_fit)"
   ]
  },
  {
   "cell_type": "code",
   "execution_count": 50,
   "metadata": {},
   "outputs": [
    {
     "data": {
      "text/plain": [
       "5.8500769095778855"
      ]
     },
     "execution_count": 50,
     "metadata": {},
     "output_type": "execute_result"
    }
   ],
   "source": [
    "L1_error(V_obs, V_L2_fit)"
   ]
  },
  {
   "cell_type": "code",
   "execution_count": 51,
   "metadata": {},
   "outputs": [
    {
     "data": {
      "text/plain": [
       "1.6360709884415294"
      ]
     },
     "execution_count": 51,
     "metadata": {},
     "output_type": "execute_result"
    }
   ],
   "source": [
    "L2_error(V_obs, V_KL_fit)"
   ]
  },
  {
   "cell_type": "code",
   "execution_count": 52,
   "metadata": {},
   "outputs": [
    {
     "data": {
      "text/plain": [
       "1.7341980690791383"
      ]
     },
     "execution_count": 52,
     "metadata": {},
     "output_type": "execute_result"
    }
   ],
   "source": [
    "L2_error(V_obs, V_L2_fit)"
   ]
  },
  {
   "cell_type": "code",
   "execution_count": 53,
   "metadata": {},
   "outputs": [
    {
     "data": {
      "text/plain": [
       "7.744428875681296"
      ]
     },
     "execution_count": 53,
     "metadata": {},
     "output_type": "execute_result"
    }
   ],
   "source": [
    "Fisher_error(V_obs, V_KL_fit)"
   ]
  },
  {
   "cell_type": "code",
   "execution_count": 54,
   "metadata": {},
   "outputs": [
    {
     "data": {
      "text/plain": [
       "7.069610065046507"
      ]
     },
     "execution_count": 54,
     "metadata": {},
     "output_type": "execute_result"
    }
   ],
   "source": [
    "Fisher_error(V_obs, V_L2_fit)"
   ]
  },
  {
   "cell_type": "code",
   "execution_count": 55,
   "metadata": {},
   "outputs": [
    {
     "data": {
      "text/plain": [
       "6.116991096034899"
      ]
     },
     "execution_count": 55,
     "metadata": {},
     "output_type": "execute_result"
    }
   ],
   "source": [
    "symKL_error(V_obs, V_KL_fit)"
   ]
  },
  {
   "cell_type": "code",
   "execution_count": 56,
   "metadata": {},
   "outputs": [
    {
     "data": {
      "text/plain": [
       "5.939364536691749"
      ]
     },
     "execution_count": 56,
     "metadata": {},
     "output_type": "execute_result"
    }
   ],
   "source": [
    "symKL_error(V_obs, V_L2_fit)"
   ]
  },
  {
   "cell_type": "code",
   "execution_count": 57,
   "metadata": {},
   "outputs": [
    {
     "name": "stdout",
     "output_type": "stream",
     "text": [
      "Optimization terminated successfully.\n",
      "         Current function value: 42.089996\n",
      "         Iterations: 5\n",
      "         Function evaluations: 7\n",
      "         Gradient evaluations: 7\n"
     ]
    },
    {
     "data": {
      "text/plain": [
       "array([-0.55688544])"
      ]
     },
     "execution_count": 57,
     "metadata": {},
     "output_type": "execute_result"
    }
   ],
   "source": [
    "KL_coeff(V, [U1])"
   ]
  },
  {
   "cell_type": "code",
   "execution_count": 58,
   "metadata": {},
   "outputs": [
    {
     "data": {
      "text/plain": [
       "array([-0.18759286])"
      ]
     },
     "execution_count": 58,
     "metadata": {},
     "output_type": "execute_result"
    }
   ],
   "source": [
    "L2_coeff(V, [U1])"
   ]
  },
  {
   "cell_type": "markdown",
   "metadata": {},
   "source": [
    "# Artificial  Dataset"
   ]
  },
  {
   "cell_type": "code",
   "execution_count": 59,
   "metadata": {},
   "outputs": [],
   "source": [
    "np.random.seed(100)"
   ]
  },
  {
   "cell_type": "code",
   "execution_count": 60,
   "metadata": {},
   "outputs": [],
   "source": [
    "n, d, k = 20, 10, 4"
   ]
  },
  {
   "cell_type": "code",
   "execution_count": 61,
   "metadata": {},
   "outputs": [],
   "source": [
    "U_obs = [ ilr_inv(np.random.randn(n,d-1)) for i in range(k)]"
   ]
  },
  {
   "cell_type": "code",
   "execution_count": 62,
   "metadata": {},
   "outputs": [],
   "source": [
    "beta_true = [(-1)**j * 0.1 * k for j in range(1,k+1)]"
   ]
  },
  {
   "cell_type": "code",
   "execution_count": 63,
   "metadata": {},
   "outputs": [],
   "source": [
    "V_obs = ilr_inv(sum( beta_true[i] * ilr(U_obs[i]) for i in range(k)) + 0.2* np.random.randn(n,d-1) )"
   ]
  },
  {
   "cell_type": "code",
   "execution_count": 64,
   "metadata": {},
   "outputs": [],
   "source": [
    "V = centralize(V_obs)"
   ]
  },
  {
   "cell_type": "code",
   "execution_count": 65,
   "metadata": {},
   "outputs": [],
   "source": [
    "V_mean = np.array([scipy.stats.gmean(V_obs, axis=0)]*n)"
   ]
  },
  {
   "cell_type": "code",
   "execution_count": 66,
   "metadata": {},
   "outputs": [],
   "source": [
    "U = [centralize(U_obs[i]) for i in range(k)]"
   ]
  },
  {
   "cell_type": "code",
   "execution_count": 67,
   "metadata": {},
   "outputs": [
    {
     "name": "stdout",
     "output_type": "stream",
     "text": [
      "Warning: Desired error not necessarily achieved due to precision loss.\n",
      "         Current function value: 128.486627\n",
      "         Iterations: 14\n",
      "         Function evaluations: 99\n",
      "         Gradient evaluations: 86\n"
     ]
    }
   ],
   "source": [
    "V_KL_fit = fitted_outputs(KL_coeff(V, U), U, V_mean)\n",
    "V_L2_fit = fitted_outputs(L2_coeff(V, U), U, V_mean)"
   ]
  },
  {
   "cell_type": "code",
   "execution_count": 68,
   "metadata": {},
   "outputs": [
    {
     "data": {
      "text/plain": [
       "2.558752259687211"
      ]
     },
     "execution_count": 68,
     "metadata": {},
     "output_type": "execute_result"
    }
   ],
   "source": [
    "L1_error(V_obs, V_KL_fit)"
   ]
  },
  {
   "cell_type": "code",
   "execution_count": 69,
   "metadata": {},
   "outputs": [
    {
     "data": {
      "text/plain": [
       "2.560728436069907"
      ]
     },
     "execution_count": 69,
     "metadata": {},
     "output_type": "execute_result"
    }
   ],
   "source": [
    "L1_error(V_obs, V_L2_fit)"
   ]
  },
  {
   "cell_type": "code",
   "execution_count": 70,
   "metadata": {},
   "outputs": [
    {
     "data": {
      "text/plain": [
       "0.0695671209677328"
      ]
     },
     "execution_count": 70,
     "metadata": {},
     "output_type": "execute_result"
    }
   ],
   "source": [
    "L2_error(V_obs, V_KL_fit)"
   ]
  },
  {
   "cell_type": "code",
   "execution_count": 71,
   "metadata": {},
   "outputs": [
    {
     "data": {
      "text/plain": [
       "0.07033931601600182"
      ]
     },
     "execution_count": 71,
     "metadata": {},
     "output_type": "execute_result"
    }
   ],
   "source": [
    "L2_error(V_obs, V_L2_fit)"
   ]
  },
  {
   "cell_type": "code",
   "execution_count": 72,
   "metadata": {},
   "outputs": [
    {
     "data": {
      "text/plain": [
       "3.2072274136611716"
      ]
     },
     "execution_count": 72,
     "metadata": {},
     "output_type": "execute_result"
    }
   ],
   "source": [
    "Fisher_error(V_obs, V_KL_fit)"
   ]
  },
  {
   "cell_type": "code",
   "execution_count": 73,
   "metadata": {},
   "outputs": [
    {
     "data": {
      "text/plain": [
       "3.203967053678765"
      ]
     },
     "execution_count": 73,
     "metadata": {},
     "output_type": "execute_result"
    }
   ],
   "source": [
    "Fisher_error(V_obs, V_L2_fit)"
   ]
  },
  {
   "cell_type": "code",
   "execution_count": 74,
   "metadata": {},
   "outputs": [
    {
     "data": {
      "text/plain": [
       "0.559796441341691"
      ]
     },
     "execution_count": 74,
     "metadata": {},
     "output_type": "execute_result"
    }
   ],
   "source": [
    "symKL_error(V_obs, V_KL_fit)"
   ]
  },
  {
   "cell_type": "code",
   "execution_count": 75,
   "metadata": {},
   "outputs": [
    {
     "data": {
      "text/plain": [
       "0.5628690010951222"
      ]
     },
     "execution_count": 75,
     "metadata": {},
     "output_type": "execute_result"
    }
   ],
   "source": [
    "symKL_error(V_obs, V_L2_fit)"
   ]
  },
  {
   "cell_type": "code",
   "execution_count": 76,
   "metadata": {},
   "outputs": [
    {
     "name": "stdout",
     "output_type": "stream",
     "text": [
      "Warning: Desired error not necessarily achieved due to precision loss.\n",
      "         Current function value: 128.486627\n",
      "         Iterations: 14\n",
      "         Function evaluations: 99\n",
      "         Gradient evaluations: 86\n"
     ]
    },
    {
     "data": {
      "text/plain": [
       "array([-0.41220933,  0.3948095 , -0.41851323,  0.39962675])"
      ]
     },
     "execution_count": 76,
     "metadata": {},
     "output_type": "execute_result"
    }
   ],
   "source": [
    "KL_coeff(V, U)"
   ]
  },
  {
   "cell_type": "code",
   "execution_count": 77,
   "metadata": {},
   "outputs": [
    {
     "data": {
      "text/plain": [
       "array([-0.41981132,  0.38955447, -0.42349373,  0.40064569])"
      ]
     },
     "execution_count": 77,
     "metadata": {},
     "output_type": "execute_result"
    }
   ],
   "source": [
    "L2_coeff(V, U)"
   ]
  },
  {
   "cell_type": "code",
   "execution_count": null,
   "metadata": {},
   "outputs": [],
   "source": []
  }
 ],
 "metadata": {
  "kernelspec": {
   "display_name": "Python 3",
   "language": "python",
   "name": "python3"
  },
  "language_info": {
   "codemirror_mode": {
    "name": "ipython",
    "version": 3
   },
   "file_extension": ".py",
   "mimetype": "text/x-python",
   "name": "python",
   "nbconvert_exporter": "python",
   "pygments_lexer": "ipython3",
   "version": "3.7.3"
  }
 },
 "nbformat": 4,
 "nbformat_minor": 2
}
