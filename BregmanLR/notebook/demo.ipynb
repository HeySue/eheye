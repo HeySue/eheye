{
 "cells": [
  {
   "cell_type": "markdown",
   "metadata": {},
   "source": [
    "# Demo: Optimization of Logistic Regression\n",
    "\n",
    "Dataset:\n",
    "\n",
    "- Fashion MNIST\n",
    "\n",
    "Unregularized Logistic Regression:\n",
    "\n",
    "- Newton Method, Iterative reweighted least squares\n",
    "- Collins, Schapire, Singer, 2002 [paper](https://link.springer.com/article/10.1023/A:1013912006537)\n",
    "\n",
    "Regularized Logistic Regression:\n",
    "\n",
    "- LASSO\n",
    "- Gupta, Huang, 2008 [paper](https://ieeexplore.ieee.org/ielx5/4740202/4760915/04761922.pdf?tp=&arnumber=4761922&isnumber=4760915)"
   ]
  },
  {
   "cell_type": "code",
   "execution_count": null,
   "metadata": {},
   "outputs": [],
   "source": []
  }
 ],
 "metadata": {
  "kernelspec": {
   "display_name": "Python [conda root]",
   "language": "python",
   "name": "conda-root-py"
  },
  "language_info": {
   "codemirror_mode": {
    "name": "ipython",
    "version": 3
   },
   "file_extension": ".py",
   "mimetype": "text/x-python",
   "name": "python",
   "nbconvert_exporter": "python",
   "pygments_lexer": "ipython3",
   "version": "3.5.6"
  }
 },
 "nbformat": 4,
 "nbformat_minor": 2
}
